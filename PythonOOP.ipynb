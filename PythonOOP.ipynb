{
 "cells": [
  {
   "cell_type": "markdown",
   "id": "b1c0fc38-67f2-4409-9fbc-a4249ee037da",
   "metadata": {},
   "source": [
    "## Python Classes"
   ]
  },
  {
   "cell_type": "code",
   "execution_count": 1,
   "id": "bd803b2b-b0e1-44f3-8419-aec0e297612d",
   "metadata": {},
   "outputs": [],
   "source": [
    "class Player:\n",
    "    pass"
   ]
  },
  {
   "cell_type": "code",
   "execution_count": 2,
   "id": "4e86bd8b-e1e0-4372-9a9b-9a0b86dd1002",
   "metadata": {},
   "outputs": [],
   "source": [
    "p1 = Player()  # create an instance\n",
    "p2 = Player() # another instance "
   ]
  },
  {
   "cell_type": "code",
   "execution_count": 4,
   "id": "21fc814d-f5d5-40e5-bf10-1f5f3d8fb659",
   "metadata": {},
   "outputs": [
    {
     "data": {
      "text/plain": [
       "__main__.Player"
      ]
     },
     "execution_count": 4,
     "metadata": {},
     "output_type": "execute_result"
    }
   ],
   "source": [
    "type(p2)"
   ]
  },
  {
   "cell_type": "code",
   "execution_count": 7,
   "id": "6dd1a8c8-dab3-4920-bf8c-f89d3d2650e6",
   "metadata": {},
   "outputs": [],
   "source": [
    "class Player:\n",
    "    def __init__(self, name, age):\n",
    "        self.player_name = name\n",
    "        self.player_age = age"
   ]
  },
  {
   "cell_type": "code",
   "execution_count": 9,
   "id": "16968306-a1b7-4e35-9216-0334a5b470eb",
   "metadata": {},
   "outputs": [],
   "source": [
    "p1 = Player(\"Alex\", 20)"
   ]
  },
  {
   "cell_type": "code",
   "execution_count": 10,
   "id": "a32c7149-e753-4e5e-b5ed-d96db7816b20",
   "metadata": {},
   "outputs": [
    {
     "data": {
      "text/plain": [
       "'Alex'"
      ]
     },
     "execution_count": 10,
     "metadata": {},
     "output_type": "execute_result"
    }
   ],
   "source": [
    "p1.player_name"
   ]
  },
  {
   "cell_type": "code",
   "execution_count": 11,
   "id": "e3112406-0496-4f9d-aaf1-6f87e1521e0e",
   "metadata": {},
   "outputs": [
    {
     "data": {
      "text/plain": [
       "20"
      ]
     },
     "execution_count": 11,
     "metadata": {},
     "output_type": "execute_result"
    }
   ],
   "source": [
    "p1.player_age"
   ]
  },
  {
   "cell_type": "code",
   "execution_count": 12,
   "id": "dff3af06-bed4-4775-8185-8d2c49b6aad5",
   "metadata": {},
   "outputs": [
    {
     "data": {
      "text/plain": [
       "('John', 21)"
      ]
     },
     "execution_count": 12,
     "metadata": {},
     "output_type": "execute_result"
    }
   ],
   "source": [
    "p2 = Player(\"John\", 21)\n",
    "p2.player_name, p2.player_age"
   ]
  },
  {
   "cell_type": "code",
   "execution_count": 13,
   "id": "f1db71d0-30b3-46ad-876c-626f4c7ae573",
   "metadata": {},
   "outputs": [
    {
     "data": {
      "text/plain": [
       "{'player_name': 'Alex', 'player_age': 20}"
      ]
     },
     "execution_count": 13,
     "metadata": {},
     "output_type": "execute_result"
    }
   ],
   "source": [
    "p1.__dict__"
   ]
  },
  {
   "cell_type": "code",
   "execution_count": 14,
   "id": "fa40184c-8663-4e9e-a556-50af07c44a57",
   "metadata": {},
   "outputs": [
    {
     "data": {
      "text/plain": [
       "(object,)"
      ]
     },
     "execution_count": 14,
     "metadata": {},
     "output_type": "execute_result"
    }
   ],
   "source": [
    "list.__bases__"
   ]
  },
  {
   "cell_type": "code",
   "execution_count": 15,
   "id": "25bfb408-bd0e-4bb8-8441-e1a99f5db2b9",
   "metadata": {},
   "outputs": [
    {
     "data": {
      "text/plain": [
       "(object,)"
      ]
     },
     "execution_count": 15,
     "metadata": {},
     "output_type": "execute_result"
    }
   ],
   "source": [
    "Player.__bases__"
   ]
  },
  {
   "cell_type": "code",
   "execution_count": 16,
   "id": "d3ecb51f-da60-4b46-8f87-c94e603af601",
   "metadata": {},
   "outputs": [
    {
     "data": {
      "text/plain": [
       "['__class__',\n",
       " '__delattr__',\n",
       " '__dict__',\n",
       " '__dir__',\n",
       " '__doc__',\n",
       " '__eq__',\n",
       " '__format__',\n",
       " '__ge__',\n",
       " '__getattribute__',\n",
       " '__getstate__',\n",
       " '__gt__',\n",
       " '__hash__',\n",
       " '__init__',\n",
       " '__init_subclass__',\n",
       " '__le__',\n",
       " '__lt__',\n",
       " '__module__',\n",
       " '__ne__',\n",
       " '__new__',\n",
       " '__reduce__',\n",
       " '__reduce_ex__',\n",
       " '__repr__',\n",
       " '__setattr__',\n",
       " '__sizeof__',\n",
       " '__str__',\n",
       " '__subclasshook__',\n",
       " '__weakref__']"
      ]
     },
     "execution_count": 16,
     "metadata": {},
     "output_type": "execute_result"
    }
   ],
   "source": [
    "dir(Player)"
   ]
  },
  {
   "cell_type": "code",
   "execution_count": 35,
   "id": "0f699ea8-5532-491e-828a-940e5ff3a3a2",
   "metadata": {},
   "outputs": [],
   "source": [
    "class Player:\n",
    "    \n",
    "    \"\"\"A player class for a dummy game\"\"\"\n",
    "    \n",
    "    def __init__(self, name, age):\n",
    "        self.player_name = name\n",
    "        self.player_age = age\n",
    "\n",
    "    def __eq__(self, other):\n",
    "        return self.player_age == other.player_age\n",
    "\n",
    "    def __str__(self):\n",
    "        return f\"Hey, my name is {self.player_name} and I am {self.player_age} years old\"\n",
    "\n",
    "    def __repr__(self):\n",
    "        return f\"Hey, my name is {self.player_name} and I am {self.player_age} years old\""
   ]
  },
  {
   "cell_type": "code",
   "execution_count": 36,
   "id": "b3767710-79cb-4b8c-a261-ae068f270af8",
   "metadata": {},
   "outputs": [
    {
     "data": {
      "text/plain": [
       "True"
      ]
     },
     "execution_count": 36,
     "metadata": {},
     "output_type": "execute_result"
    }
   ],
   "source": [
    "p2 = Player(\"Alex\", 21)\n",
    "p1 = Player(\"Alex\", 21)\n",
    "\n",
    "p1 == p2 # memory location based "
   ]
  },
  {
   "cell_type": "code",
   "execution_count": 29,
   "id": "84b7a1b2-206a-4cc1-a560-2a4b299b162e",
   "metadata": {},
   "outputs": [
    {
     "data": {
      "text/plain": [
       "True"
      ]
     },
     "execution_count": 29,
     "metadata": {},
     "output_type": "execute_result"
    }
   ],
   "source": [
    "a = 1000\n",
    "b = 1000\n",
    "\n",
    "a == b # value based"
   ]
  },
  {
   "cell_type": "code",
   "execution_count": 32,
   "id": "518edb12-3be6-4348-934b-250746d99af1",
   "metadata": {},
   "outputs": [
    {
     "data": {
      "text/plain": [
       "True"
      ]
     },
     "execution_count": 32,
     "metadata": {},
     "output_type": "execute_result"
    }
   ],
   "source": [
    "p1.__eq__(p2)"
   ]
  },
  {
   "cell_type": "code",
   "execution_count": 37,
   "id": "f80a439b-734c-4dcf-b379-d1613f30cee1",
   "metadata": {},
   "outputs": [
    {
     "data": {
      "text/plain": [
       "'Hey, my name is Alex and I am 21 years old'"
      ]
     },
     "execution_count": 37,
     "metadata": {},
     "output_type": "execute_result"
    }
   ],
   "source": [
    "str(p1)"
   ]
  },
  {
   "cell_type": "code",
   "execution_count": 38,
   "id": "c3740bc2-7dc2-4e86-a13c-0757ccb5f670",
   "metadata": {},
   "outputs": [
    {
     "data": {
      "text/plain": [
       "'Hey, my name is Alex and I am 21 years old'"
      ]
     },
     "execution_count": 38,
     "metadata": {},
     "output_type": "execute_result"
    }
   ],
   "source": [
    "repr(p2)"
   ]
  },
  {
   "cell_type": "code",
   "execution_count": 39,
   "id": "17b29231-fa8a-446b-a1f2-09655f718ea8",
   "metadata": {},
   "outputs": [],
   "source": [
    "class Player:\n",
    "    \n",
    "    species = \"Homo Sapiens\" \n",
    "    \n",
    "    def __init__(self, name, age): \n",
    "        self.player_name = name\n",
    "        self.player_age = age"
   ]
  },
  {
   "cell_type": "code",
   "execution_count": 40,
   "id": "098a9ddb-9ec4-41d8-9277-572cd9cb8541",
   "metadata": {},
   "outputs": [],
   "source": [
    "p1 = Player(\"Alex\", 21)"
   ]
  },
  {
   "cell_type": "code",
   "execution_count": 43,
   "id": "51778979-fdcf-416e-8145-bfb094634a1e",
   "metadata": {},
   "outputs": [
    {
     "data": {
      "text/plain": [
       "('Alexander', 18)"
      ]
     },
     "execution_count": 43,
     "metadata": {},
     "output_type": "execute_result"
    }
   ],
   "source": [
    "p1.player_name = \"Alexander\"\n",
    "p1.player_age = 18\n",
    "\n",
    "p1.player_name, p1.player_age"
   ]
  },
  {
   "cell_type": "code",
   "execution_count": 44,
   "id": "b00a8ffe-4a0a-4af0-9441-ee22eca4c5cc",
   "metadata": {},
   "outputs": [
    {
     "data": {
      "text/plain": [
       "'Homo Erectus'"
      ]
     },
     "execution_count": 44,
     "metadata": {},
     "output_type": "execute_result"
    }
   ],
   "source": [
    "p1.species = \"Homo Erectus\"\n",
    "p1.species"
   ]
  },
  {
   "cell_type": "code",
   "execution_count": 45,
   "id": "d26320fa-970c-4908-afe3-3649d4cffabd",
   "metadata": {},
   "outputs": [],
   "source": [
    "p3 = Player(\"Alex\", 21)"
   ]
  },
  {
   "cell_type": "code",
   "execution_count": 46,
   "id": "085feaa7-fcbc-434c-b3f3-0e3cbcfca2f1",
   "metadata": {},
   "outputs": [
    {
     "data": {
      "text/plain": [
       "'Homo Sapiens'"
      ]
     },
     "execution_count": 46,
     "metadata": {},
     "output_type": "execute_result"
    }
   ],
   "source": [
    "p3.species"
   ]
  },
  {
   "cell_type": "code",
   "execution_count": 47,
   "id": "0ac47cbb-8907-4f92-9ba2-06d490b99372",
   "metadata": {},
   "outputs": [
    {
     "data": {
      "text/plain": [
       "'Homo Erectus'"
      ]
     },
     "execution_count": 47,
     "metadata": {},
     "output_type": "execute_result"
    }
   ],
   "source": [
    "Player.species = \"Homo Erectus\"\n",
    "p3.species"
   ]
  },
  {
   "cell_type": "code",
   "execution_count": 50,
   "id": "05d546ba-5e0e-465c-9368-fd858f6158a3",
   "metadata": {},
   "outputs": [],
   "source": [
    "class Player:\n",
    "    \n",
    "    species = \"Homo Sapiens\" \n",
    "    \n",
    "    def __init__(self, name, age): \n",
    "        self.player_name = name\n",
    "        self.player_age = age\n",
    "        self.score = 1\n",
    "\n",
    "    def play_game(self):\n",
    "        self.score += self.score * self.player_age\n",
    "        return self.score\n",
    "    "
   ]
  },
  {
   "cell_type": "code",
   "execution_count": 59,
   "id": "536f0bc5-369e-492c-bae0-21494be8ac51",
   "metadata": {},
   "outputs": [
    {
     "data": {
      "text/plain": [
       "1"
      ]
     },
     "execution_count": 59,
     "metadata": {},
     "output_type": "execute_result"
    }
   ],
   "source": [
    "p2 = Player(\"Alex\", 30)\n",
    "p2.score"
   ]
  },
  {
   "cell_type": "code",
   "execution_count": 60,
   "id": "5b19c84d-f7ee-4d51-a555-83d00f5341fe",
   "metadata": {},
   "outputs": [
    {
     "data": {
      "text/plain": [
       "31"
      ]
     },
     "execution_count": 60,
     "metadata": {},
     "output_type": "execute_result"
    }
   ],
   "source": [
    "p2.play_game()"
   ]
  },
  {
   "cell_type": "code",
   "execution_count": 58,
   "id": "58abfb82-6173-40d2-adc6-662c89b3be72",
   "metadata": {},
   "outputs": [
    {
     "data": {
      "text/plain": [
       "21"
      ]
     },
     "execution_count": 58,
     "metadata": {},
     "output_type": "execute_result"
    }
   ],
   "source": [
    "p1.score"
   ]
  },
  {
   "cell_type": "code",
   "execution_count": 68,
   "id": "880821eb-0dfc-44ab-ad3d-5871d5d7d72c",
   "metadata": {},
   "outputs": [],
   "source": [
    "class Circle:\n",
    "\n",
    "    pi = 3.14\n",
    "\n",
    "    def __init__(self, radius):\n",
    "        self.radius = radius\n",
    "\n",
    "    def area(self):\n",
    "        return self.__class__.pi * (self.radius ** 2)\n",
    "\n",
    "    @classmethod\n",
    "    def set_pi(cls, new_value):\n",
    "        cls.pi = new_value\n",
    "\n",
    "    @staticmethod\n",
    "    def is_valid_radius(radius):\n",
    "        return radius > 0"
   ]
  },
  {
   "cell_type": "code",
   "execution_count": 69,
   "id": "9d920094-75a4-4a07-be8b-8472e53b33aa",
   "metadata": {},
   "outputs": [
    {
     "data": {
      "text/plain": [
       "50.24"
      ]
     },
     "execution_count": 69,
     "metadata": {},
     "output_type": "execute_result"
    }
   ],
   "source": [
    "a = Circle(4)\n",
    "a.area()"
   ]
  },
  {
   "cell_type": "code",
   "execution_count": 70,
   "id": "1e22972c-c18c-4720-b2b9-a4ec08813237",
   "metadata": {},
   "outputs": [
    {
     "data": {
      "text/plain": [
       "3.14"
      ]
     },
     "execution_count": 70,
     "metadata": {},
     "output_type": "execute_result"
    }
   ],
   "source": [
    "a.pi"
   ]
  },
  {
   "cell_type": "code",
   "execution_count": 71,
   "id": "7f42102a-fd1a-426e-82aa-e875d90e9eb9",
   "metadata": {},
   "outputs": [
    {
     "data": {
      "text/plain": [
       "3.1415926"
      ]
     },
     "execution_count": 71,
     "metadata": {},
     "output_type": "execute_result"
    }
   ],
   "source": [
    "Circle.set_pi(3.1415926)\n",
    "a.pi"
   ]
  },
  {
   "cell_type": "code",
   "execution_count": 72,
   "id": "96e3954e-1202-450e-902d-15e95aaa5fd1",
   "metadata": {},
   "outputs": [
    {
     "data": {
      "text/plain": [
       "50.2654816"
      ]
     },
     "execution_count": 72,
     "metadata": {},
     "output_type": "execute_result"
    }
   ],
   "source": [
    "a.area()"
   ]
  },
  {
   "cell_type": "code",
   "execution_count": 73,
   "id": "788ebcc2-aa15-4107-9bd8-1591987339ad",
   "metadata": {},
   "outputs": [
    {
     "data": {
      "text/plain": [
       "True"
      ]
     },
     "execution_count": 73,
     "metadata": {},
     "output_type": "execute_result"
    }
   ],
   "source": [
    "a.is_valid_radius(6)"
   ]
  },
  {
   "cell_type": "code",
   "execution_count": 74,
   "id": "8dbe582c-5197-479a-bb2c-a70077217add",
   "metadata": {},
   "outputs": [
    {
     "data": {
      "text/plain": [
       "True"
      ]
     },
     "execution_count": 74,
     "metadata": {},
     "output_type": "execute_result"
    }
   ],
   "source": [
    "Circle.is_valid_radius(6)"
   ]
  },
  {
   "cell_type": "markdown",
   "id": "30c47108-5140-42bb-b3f8-cace1999fb2c",
   "metadata": {},
   "source": [
    "Public, Protected And Private (For both attributes and Methods)"
   ]
  },
  {
   "cell_type": "code",
   "execution_count": 106,
   "id": "d20a6b94-3ad1-46e5-9a0e-e2ed908b5e5b",
   "metadata": {},
   "outputs": [],
   "source": [
    "class Circle:\n",
    "    pi = 3.14\n",
    "\n",
    "    def __init__(self, radius):\n",
    "        self._radius = radius\n",
    "\n",
    "    @property\n",
    "    def area(self):\n",
    "        return self.__class__.pi * (self.radius ** 2)\n",
    "\n",
    "    @property\n",
    "    def circum(self):\n",
    "        return self.__class__.pi * 2 * self.radius\n",
    "\n",
    "    @property\n",
    "    def radius(self):\n",
    "        return self._radius\n",
    "\n",
    "    @radius.setter\n",
    "    def radius(self, radius):\n",
    "        if radius < 0:\n",
    "            raise ValueError(\"Radius should be greater than 0\")\n",
    "        self._radius = radius\n",
    "\n",
    "    @radius.deleter\n",
    "    def radius(self):\n",
    "        print('Property Deleted')\n",
    "        del self._radius"
   ]
  },
  {
   "cell_type": "code",
   "execution_count": 107,
   "id": "d29d192a-c9a7-43a3-8d13-84ffd26bc5f7",
   "metadata": {},
   "outputs": [],
   "source": [
    "a = Circle(4)"
   ]
  },
  {
   "cell_type": "code",
   "execution_count": 108,
   "id": "45fc8a1b-243c-4895-9d3b-d22b25bf6a7e",
   "metadata": {},
   "outputs": [
    {
     "data": {
      "text/plain": [
       "25.12"
      ]
     },
     "execution_count": 108,
     "metadata": {},
     "output_type": "execute_result"
    }
   ],
   "source": [
    "a.circum"
   ]
  },
  {
   "cell_type": "code",
   "execution_count": 112,
   "id": "bd1ef158-887e-4a77-93b5-6ee7f84266e8",
   "metadata": {},
   "outputs": [],
   "source": [
    "class MyClass:\n",
    "\n",
    "    __slots__ = [\"attr1\", \"attr2\"]\n",
    "    \n",
    "    def __init__(self):\n",
    "        self.attr1 = 1\n",
    "        self.attr2 = 2\n",
    "\n",
    "a = MyClass()"
   ]
  },
  {
   "cell_type": "code",
   "execution_count": 113,
   "id": "c5962d7e-4350-46d0-99f2-65cef148e261",
   "metadata": {},
   "outputs": [
    {
     "ename": "AttributeError",
     "evalue": "'MyClass' object has no attribute 'attr3'",
     "output_type": "error",
     "traceback": [
      "\u001b[0;31m---------------------------------------------------------------------------\u001b[0m",
      "\u001b[0;31mAttributeError\u001b[0m                            Traceback (most recent call last)",
      "Cell \u001b[0;32mIn[113], line 1\u001b[0m\n\u001b[0;32m----> 1\u001b[0m \u001b[43ma\u001b[49m\u001b[38;5;241;43m.\u001b[39;49m\u001b[43mattr3\u001b[49m \u001b[38;5;241m=\u001b[39m \u001b[38;5;241m3\u001b[39m\n",
      "\u001b[0;31mAttributeError\u001b[0m: 'MyClass' object has no attribute 'attr3'"
     ]
    }
   ],
   "source": [
    "a.attr3 = 3"
   ]
  },
  {
   "cell_type": "code",
   "execution_count": 114,
   "id": "f246d020-c6db-4d6e-841c-edbe17301edb",
   "metadata": {},
   "outputs": [
    {
     "data": {
      "text/plain": [
       "True"
      ]
     },
     "execution_count": 114,
     "metadata": {},
     "output_type": "execute_result"
    }
   ],
   "source": [
    "isinstance(a, MyClass)"
   ]
  },
  {
   "cell_type": "code",
   "execution_count": 115,
   "id": "44fb144f-5282-4c07-8f36-30ca9339b8bb",
   "metadata": {},
   "outputs": [
    {
     "data": {
      "text/plain": [
       "True"
      ]
     },
     "execution_count": 115,
     "metadata": {},
     "output_type": "execute_result"
    }
   ],
   "source": [
    "issubclass(MyClass, object)"
   ]
  },
  {
   "cell_type": "code",
   "execution_count": 116,
   "id": "ca68f205-5255-4d8b-a967-d69d4280f4b0",
   "metadata": {},
   "outputs": [
    {
     "data": {
      "text/plain": [
       "['__class__',\n",
       " '__delattr__',\n",
       " '__dir__',\n",
       " '__doc__',\n",
       " '__eq__',\n",
       " '__format__',\n",
       " '__ge__',\n",
       " '__getattribute__',\n",
       " '__getstate__',\n",
       " '__gt__',\n",
       " '__hash__',\n",
       " '__init__',\n",
       " '__init_subclass__',\n",
       " '__le__',\n",
       " '__lt__',\n",
       " '__module__',\n",
       " '__ne__',\n",
       " '__new__',\n",
       " '__reduce__',\n",
       " '__reduce_ex__',\n",
       " '__repr__',\n",
       " '__setattr__',\n",
       " '__sizeof__',\n",
       " '__slots__',\n",
       " '__str__',\n",
       " '__subclasshook__',\n",
       " 'attr1',\n",
       " 'attr2']"
      ]
     },
     "execution_count": 116,
     "metadata": {},
     "output_type": "execute_result"
    }
   ],
   "source": [
    "dir(MyClass)"
   ]
  },
  {
   "cell_type": "code",
   "execution_count": 117,
   "id": "b03b86bd-01ed-4359-8d06-0e3cb8ebf142",
   "metadata": {},
   "outputs": [],
   "source": [
    "class Circle:\n",
    "    \"\"\"A Circle Class \"\"\"\n",
    "    \n",
    "    _pi = 3.14\n",
    "    \n",
    "    def __init__(self, radius):\n",
    "        self.radius = abs(radius)\n",
    "\n",
    "    @property\n",
    "    def area(self):\n",
    "        return self.__class__._pi * (self.radius ** 2)\n",
    "\n",
    "    @property\n",
    "    def circum(self):\n",
    "        return self.__class__._pi * 2 * self.radius\n",
    "\n",
    "\n",
    "    def __str__(self):\n",
    "        return f'This is a circle with radius {self.radius}'\n",
    "\n",
    "    def __add__(self, other):\n",
    "        if isinstance(other, Circle):\n",
    "            return Circle(other.radius + self.radius)  \n",
    "        return False\n",
    "\n",
    "    def __eq__(self, other):\n",
    "        if isinstance(other, Circle):\n",
    "            return other.radius == self.radius\n",
    "        return False\n",
    "        \n",
    "    def __lt__(self, other):\n",
    "        if isinstance(other, Circle):\n",
    "            return self.radius < other.radius\n",
    "        return False\n",
    "\n",
    "    def __ge__(self, other):\n",
    "        if isinstance(other, Circle):\n",
    "            return self.radius >= other.radius\n",
    "        return False\n",
    "\n",
    "    def __ne__(self, other):\n",
    "        if isinstance(other, Circle):\n",
    "            return self.radius != other.radius\n",
    "        return False\n",
    "\n",
    "    def __call__(self):\n",
    "        return f\"Circle with radius {self.radius}\""
   ]
  },
  {
   "cell_type": "code",
   "execution_count": 119,
   "id": "a1f0ef69-c074-4f78-8922-5210075e4cc0",
   "metadata": {},
   "outputs": [
    {
     "data": {
      "text/plain": [
       "4"
      ]
     },
     "execution_count": 119,
     "metadata": {},
     "output_type": "execute_result"
    }
   ],
   "source": [
    "a = Circle(4)\n",
    "a.radius"
   ]
  },
  {
   "cell_type": "code",
   "execution_count": 121,
   "id": "e302d38a-590a-440e-acb9-c9c82a686815",
   "metadata": {},
   "outputs": [
    {
     "data": {
      "text/plain": [
       "'Circle with radius 4'"
      ]
     },
     "execution_count": 121,
     "metadata": {},
     "output_type": "execute_result"
    }
   ],
   "source": [
    "a()"
   ]
  },
  {
   "cell_type": "markdown",
   "id": "db261bb6-5a1f-45a3-ad62-edb2cee61e67",
   "metadata": {},
   "source": [
    "## Inheritance"
   ]
  },
  {
   "cell_type": "code",
   "execution_count": 122,
   "id": "2d31a487-27a4-4d84-87d8-a49609ef71b1",
   "metadata": {},
   "outputs": [],
   "source": [
    "class Animal:\n",
    "    def speak(self):\n",
    "        return f\"I am an Animal and I speak this\""
   ]
  },
  {
   "cell_type": "code",
   "execution_count": 123,
   "id": "b1059ab9-1a6c-4b46-9737-53aab2de0342",
   "metadata": {},
   "outputs": [],
   "source": [
    "class Dog(Animal):\n",
    "    pass"
   ]
  },
  {
   "cell_type": "code",
   "execution_count": 125,
   "id": "aae8b45d-74c7-4e15-9acb-05f732162e01",
   "metadata": {},
   "outputs": [
    {
     "data": {
      "text/plain": [
       "'I am an Animal and I speak this'"
      ]
     },
     "execution_count": 125,
     "metadata": {},
     "output_type": "execute_result"
    }
   ],
   "source": [
    "a = Dog()\n",
    "a.speak()"
   ]
  },
  {
   "cell_type": "code",
   "execution_count": 126,
   "id": "6bff3069-130a-4411-ac9f-6611ce6be8bf",
   "metadata": {},
   "outputs": [],
   "source": [
    "class Animal:\n",
    "    def __init__(self, name):\n",
    "        self.name = name\n",
    "    def speak(self):\n",
    "        return f\"I am {self.name} and I speak this\""
   ]
  },
  {
   "cell_type": "code",
   "execution_count": 137,
   "id": "7375c3d2-93e1-48cd-8f0e-034e19145a13",
   "metadata": {},
   "outputs": [],
   "source": [
    "class Dog(Animal):\n",
    "    def __init__(self, name, breed):\n",
    "        super().__init__(name)\n",
    "        self.breed = breed\n",
    "    def speak(self):\n",
    "        return f\"I am {self.name} and my breed is {self.breed} and I bark\""
   ]
  },
  {
   "cell_type": "code",
   "execution_count": 138,
   "id": "d29c0a7d-6584-46e7-b745-8f3bbcd259c9",
   "metadata": {},
   "outputs": [
    {
     "data": {
      "text/plain": [
       "'I am bobby and my breed is gs and I bark'"
      ]
     },
     "execution_count": 138,
     "metadata": {},
     "output_type": "execute_result"
    }
   ],
   "source": [
    "a = Dog(\"bobby\", breed = \"gs\")\n",
    "a.speak()"
   ]
  },
  {
   "cell_type": "code",
   "execution_count": 143,
   "id": "170101c2-ca02-4beb-8845-9872f4ffba38",
   "metadata": {},
   "outputs": [],
   "source": [
    "class Cat(Animal):\n",
    "    def __init__(self, name, breed):\n",
    "        super().__init__(name)\n",
    "        self.breed = breed\n",
    "    def cat_intro(self):\n",
    "        return super().speak()"
   ]
  },
  {
   "cell_type": "code",
   "execution_count": 146,
   "id": "d2831ef9-84a6-4d4c-94b8-9e5a469b869e",
   "metadata": {},
   "outputs": [
    {
     "data": {
      "text/plain": [
       "'I am a and I speak this'"
      ]
     },
     "execution_count": 146,
     "metadata": {},
     "output_type": "execute_result"
    }
   ],
   "source": [
    "a = Cat(\"a\", \"b\")\n",
    "a.cat_intro()"
   ]
  },
  {
   "cell_type": "code",
   "execution_count": null,
   "id": "f4335248-bd7b-4cd6-be36-2a6aad89cce6",
   "metadata": {},
   "outputs": [],
   "source": []
  },
  {
   "cell_type": "code",
   "execution_count": 149,
   "id": "8e04e174-6027-4aaf-94e7-37d508c3354d",
   "metadata": {},
   "outputs": [],
   "source": [
    "from dataclasses import dataclass\n",
    "\n",
    "@dataclass(init = True, repr= True, eq = True, order = True, frozen = True)\n",
    "class Circle:\n",
    "    radius: float\n",
    "    color: str\n",
    "\n",
    "    pi = 3.14\n",
    "\n",
    "a = Circle(5.0, \"red\")\n",
    "b = Circle(8.0, \"blud\")"
   ]
  },
  {
   "cell_type": "code",
   "execution_count": 150,
   "id": "f3421fe8-3f81-4484-93b7-c9cedef77fcd",
   "metadata": {},
   "outputs": [
    {
     "data": {
      "text/plain": [
       "False"
      ]
     },
     "execution_count": 150,
     "metadata": {},
     "output_type": "execute_result"
    }
   ],
   "source": [
    "a == b"
   ]
  },
  {
   "cell_type": "code",
   "execution_count": 151,
   "id": "6e56391d-0b06-4a69-9336-9d1929d6e5e0",
   "metadata": {},
   "outputs": [
    {
     "data": {
      "text/plain": [
       "False"
      ]
     },
     "execution_count": 151,
     "metadata": {},
     "output_type": "execute_result"
    }
   ],
   "source": [
    "a >= b"
   ]
  },
  {
   "cell_type": "code",
   "execution_count": 152,
   "id": "1a9c4a90-7f0e-44b3-84a6-f78b7bd3c63f",
   "metadata": {},
   "outputs": [
    {
     "data": {
      "text/plain": [
       "True"
      ]
     },
     "execution_count": 152,
     "metadata": {},
     "output_type": "execute_result"
    }
   ],
   "source": [
    "a <= b"
   ]
  }
 ],
 "metadata": {
  "kernelspec": {
   "display_name": "Python 3 (ipykernel)",
   "language": "python",
   "name": "python3"
  },
  "language_info": {
   "codemirror_mode": {
    "name": "ipython",
    "version": 3
   },
   "file_extension": ".py",
   "mimetype": "text/x-python",
   "name": "python",
   "nbconvert_exporter": "python",
   "pygments_lexer": "ipython3",
   "version": "3.12.7"
  }
 },
 "nbformat": 4,
 "nbformat_minor": 5
}
