{
 "cells": [
  {
   "cell_type": "markdown",
   "id": "132f84ee-9949-4deb-92c5-fb08fc3ba167",
   "metadata": {},
   "source": [
    "# Pickle Module Practice Problems\n",
    "\n",
    "## Beginner Concepts\n",
    "\n",
    "**Problem 1: Basic Serialization**\n",
    "- **Task**: Create a Python list containing integers and strings. Pickle this list and save it to a file named `my_list.pkl`.\n",
    "- **Hint**: Use the `pickle.dump()` function to save the list.\n",
    "- **Expected Outcome**: A file named `my_list.pkl` should be created in your working directory.\n"
   ]
  },
  {
   "cell_type": "code",
   "execution_count": null,
   "id": "7f842a48-accd-44fb-bab1-32367f4d718a",
   "metadata": {},
   "outputs": [],
   "source": []
  },
  {
   "cell_type": "markdown",
   "id": "18bfbbd3-2e7e-41ca-9e11-027e7fa5f4bd",
   "metadata": {},
   "source": [
    "**Problem 2: Basic Deserialization**\n",
    "- **Task**: Load the pickled list from `my_list.pkl` and print its contents.\n",
    "- **Hint**: Use the `pickle.load()` function to load the list.\n",
    "- **Expected Outcome**: The contents of the list should be printed to the console."
   ]
  },
  {
   "cell_type": "code",
   "execution_count": null,
   "id": "13c10f7a-f26b-4277-a3df-49386055a455",
   "metadata": {},
   "outputs": [],
   "source": []
  },
  {
   "cell_type": "markdown",
   "id": "71733fdd-a3e7-4378-8935-0ece64c821de",
   "metadata": {},
   "source": [
    "## Intermediate Concepts\n",
    "\n",
    "**Problem 3: Complex Serialization**\n",
    "- **Task**: Create a dictionary containing nested lists and dictionaries. Pickle this dictionary and save it to a file.\n",
    "- **Hint**: The `pickle` module can handle complex data structures.\n",
    "- **Expected Outcome**: A pickled file containing the dictionary should be created."
   ]
  },
  {
   "cell_type": "code",
   "execution_count": null,
   "id": "9a6942ef-08b0-41cf-9e5a-62110eb5da44",
   "metadata": {},
   "outputs": [],
   "source": []
  },
  {
   "cell_type": "markdown",
   "id": "4c7aa96c-49b3-4062-8648-31659bf22f2b",
   "metadata": {},
   "source": [
    "**Problem 4: Accessing Nested Data**\n",
    "- **Task**: Load the pickled dictionary and access a specific value within it.\n",
    "- **Hint**: Use indexing and key-value pairs to access elements in the dictionary.\n",
    "- **Expected Outcome**: The requested value should be printed to the console."
   ]
  },
  {
   "cell_type": "code",
   "execution_count": null,
   "id": "62f5a454-773c-4649-bac5-7bc81c8cf107",
   "metadata": {},
   "outputs": [],
   "source": []
  },
  {
   "cell_type": "markdown",
   "id": "202d6229-a421-440a-98e1-bda21251d796",
   "metadata": {},
   "source": [
    "**Problem 5: Custom Class Serialization**\n",
    "- **Task**: Pickle a custom class object and save it to a file.\n",
    "- **Hint**: Make sure the class has a `__getstate__` method to define what attributes should be pickled.\n",
    "- **Expected Outcome**: A pickled file containing the class object should be created."
   ]
  },
  {
   "cell_type": "code",
   "execution_count": null,
   "id": "fbe86704-33b8-4820-9370-bca08835ed97",
   "metadata": {},
   "outputs": [],
   "source": []
  },
  {
   "cell_type": "markdown",
   "id": "ff1d21f4-8a7e-4778-91fb-eeed0ba69ea1",
   "metadata": {},
   "source": [
    "## Advanced Concepts\n",
    "\n",
    "**Problem 6: Reconstructing Custom Objects**\n",
    "- **Task**: Load a pickled object and r|ecreate the original class instance.\n",
    "- **Hint**: Use the `__setstate__` method to restore the object's state.\n",
    "- **Expected Outcome**: The original class instance should be successfully recreated."
   ]
  },
  {
   "cell_type": "code",
   "execution_count": null,
   "id": "75e98115-3fe4-4d0d-8130-736e022d1f9b",
   "metadata": {},
   "outputs": [],
   "source": []
  },
  {
   "cell_type": "markdown",
   "id": "aec95517-73ff-4ede-badf-392c01028fba",
   "metadata": {},
   "source": [
    "**Problem 7: Performance Optimization**\n",
    "- **Task**: Pickle a large dataset and measure the time taken. Experiment with different compression methods to optimize performance.\n",
    "- **Hint**: Consider using the `protocol` parameter in `pickle.dump()` to adjust compression.\n",
    "- **Expected Outcome**: You should observe differences in performance with different compression methods."
   ]
  },
  {
   "cell_type": "code",
   "execution_count": null,
   "id": "eb2efe9c-169b-4df2-b931-8846d57e1858",
   "metadata": {},
   "outputs": [],
   "source": []
  },
  {
   "cell_type": "markdown",
   "id": "c0285429-41db-47eb-a440-a82b25038183",
   "metadata": {},
   "source": [
    "**Problem 8: Security Considerations**\n",
    "- **Task**: Explore the security implications of using the `pickle` module. Discuss potential vulnerabilities and best practices for safe usage.\n",
    "- **Hint**: Research topics like deserialization vulnerabilities and code injection attacks.\n",
    "- **Expected Outcome**: A clear understanding of the security risks associated with `pickle` and guidelines for mitigating them."
   ]
  },
  {
   "cell_type": "markdown",
   "id": "b50fded1-7a95-470a-ba57-dc7254007ad0",
   "metadata": {},
   "source": []
  },
  {
   "cell_type": "markdown",
   "id": "c22001cd-b93f-4796-a967-111005ac96fa",
   "metadata": {},
   "source": [
    "**Problem 9: Serializing Functions**\n",
    "- **Task**: Define a simple function and serialize it to a file named `function.pkl`. Deserialize the function and call it to verify it works.\n",
    "- **Hint**: Functions can be serialized if they are defined at the top level of a module.\n",
    "- **Expected Outcome**: The deserialized function works as expected."
   ]
  },
  {
   "cell_type": "code",
   "execution_count": null,
   "id": "b8a57026-241d-4cc1-9fd4-8e639990fdd0",
   "metadata": {},
   "outputs": [],
   "source": []
  },
  {
   "cell_type": "markdown",
   "id": "ca61f9eb-a109-4d95-902b-651f25243adb",
   "metadata": {},
   "source": [
    "**Problem 10: Compatibility Between Python Versions**\n",
    "- **Task**: Serialize an object in one Python version (e.g., Python 3.8) and deserialize it in another version (e.g., Python 3.9). Test with a simple object.\n",
    "- **Hint**: Be aware of potential compatibility issues.\n",
    "- **Expected Outcome**: Object is correctly deserialized across different Python versions.\n"
   ]
  },
  {
   "cell_type": "code",
   "execution_count": null,
   "id": "560e4d21-fd3f-4c0b-8ec9-08431462069d",
   "metadata": {},
   "outputs": [],
   "source": []
  },
  {
   "cell_type": "markdown",
   "id": "9e0cec83-32e8-4645-886c-40d6878f9826",
   "metadata": {},
   "source": [
    "**Problem 11: Serializing Lambda Functions**\n",
    "- **Task**: Attempt to serialize and deserialize a lambda function using `pickle`. Discuss whether this operation is successful and explain why or why not.\n",
    "- **Instruction**:\n",
    "  - Create a lambda function and serialize it to a file named `lambda.pkl`.\n",
    "  - Attempt to deserialize the lambda function from `lambda.pkl` and use it.\n",
    "  - Explain the results and any limitations encountered.\n",
    "- **Hint**: Lambda functions may not always be serializable due to their dynamic nature.\n",
    "- **Expected Outcome**: You should discuss the success or failure of serializing and deserializing lambda functions and explain the limitations encountered.\n"
   ]
  },
  {
   "cell_type": "code",
   "execution_count": null,
   "id": "67b56d55-063f-4a58-a70f-98b8dc2b99fc",
   "metadata": {},
   "outputs": [],
   "source": []
  },
  {
   "cell_type": "markdown",
   "id": "3455ea87-3e80-40bc-b853-ef48e2f63837",
   "metadata": {},
   "source": []
  },
  {
   "cell_type": "code",
   "execution_count": null,
   "id": "ab706e24-f67e-4d82-9842-e5cec65fc5f5",
   "metadata": {},
   "outputs": [],
   "source": []
  }
 ],
 "metadata": {
  "kernelspec": {
   "display_name": "Python 3 (ipykernel)",
   "language": "python",
   "name": "python3"
  },
  "language_info": {
   "codemirror_mode": {
    "name": "ipython",
    "version": 3
   },
   "file_extension": ".py",
   "mimetype": "text/x-python",
   "name": "python",
   "nbconvert_exporter": "python",
   "pygments_lexer": "ipython3",
   "version": "3.12.2"
  }
 },
 "nbformat": 4,
 "nbformat_minor": 5
}
