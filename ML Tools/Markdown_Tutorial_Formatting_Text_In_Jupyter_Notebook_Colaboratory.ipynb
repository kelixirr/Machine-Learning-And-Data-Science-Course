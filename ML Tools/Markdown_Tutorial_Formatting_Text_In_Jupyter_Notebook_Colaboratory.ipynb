{
  "nbformat": 4,
  "nbformat_minor": 0,
  "metadata": {
    "colab": {
      "provenance": [],
      "mount_file_id": "1Kl0PCYqqVMmZw2SN4F8wjEbSFIRL-6TD",
      "authorship_tag": "ABX9TyNYb3fdA6OQrpX0xb3xqwjO",
      "include_colab_link": true
    },
    "kernelspec": {
      "name": "python3",
      "display_name": "Python 3"
    },
    "language_info": {
      "name": "python"
    }
  },
  "cells": [
    {
      "cell_type": "markdown",
      "metadata": {
        "id": "view-in-github",
        "colab_type": "text"
      },
      "source": [
        "<a href=\"https://colab.research.google.com/github/kelixirr/Complete-Machine-Learning-And-Data-Science-Course/blob/main/Markdown_Tutorial_Formatting_Text_In_Jupyter_Notebook_Colaboratory.ipynb\" target=\"_parent\"><img src=\"https://colab.research.google.com/assets/colab-badge.svg\" alt=\"Open In Colab\"/></a>"
      ]
    },
    {
      "cell_type": "markdown",
      "source": [
        "# Open This In Colab To See The Code In Case You Are Viewing It On GitHub \n",
        "***Only by clicking on the texts you will see the codes.***\n",
        "\n",
        "This course is offered by **Odist Academy** and we keep all the rights reserved. Please enroll in course from here: https://pages.razorpay.com/odist-academy-data-science\n",
        "\n",
        "# What is Markdown?\n",
        "\n",
        "Markdown is a lightweight markup language that you can use to add formatting elements to plaintext text documents. \n",
        "\n",
        "### Why Use Markdown? \n",
        "\n",
        "- Markdown can be used for everything. People use it to create websites, documents, notes, books, presentations, email messages, and technical documentation.\n",
        "\n",
        "- Markdown is portable. Files containing Markdown-formatted text can be opened using virtually any application. If you decide you don’t like the Markdown application you’re currently using, you can import your Markdown files into another Markdown application. That’s in stark contrast to word processing applications like Microsoft Word that lock your content into a proprietary file format.\n",
        "\n",
        "- Markdown is platform independent. You can create Markdown-formatted text on any device running any operating system.\n",
        "\n",
        "- Markdown is future proof. Even if the application you’re using stops working at some point in the future, you’ll still be able to read your Markdown-formatted text using a text editing application. This is an important consideration when it comes to books, university theses, and other milestone documents that need to be preserved indefinitely.\n",
        "\n",
        "- Markdown is everywhere. Websites like Reddit and GitHub support Markdown, and lots of desktop and web-based applications support it.\n",
        "\n",
        "- We will use it for documenting our projects. "
      ],
      "metadata": {
        "id": "LFdyTZ9xqcU7"
      }
    },
    {
      "cell_type": "markdown",
      "source": [
        "I am a text cell. "
      ],
      "metadata": {
        "id": "hl4Ct8Gtf_cB"
      }
    },
    {
      "cell_type": "code",
      "source": [
        "# I am a code cell. \n",
        "2 + 3 "
      ],
      "metadata": {
        "id": "LTuB_pXlgItQ",
        "colab": {
          "base_uri": "https://localhost:8080/"
        },
        "outputId": "08c5cc46-372f-4e7d-f4bf-2a6044d3aeee"
      },
      "execution_count": null,
      "outputs": [
        {
          "output_type": "execute_result",
          "data": {
            "text/plain": [
              "5"
            ]
          },
          "metadata": {},
          "execution_count": 3
        }
      ]
    },
    {
      "cell_type": "markdown",
      "source": [
        "Hello all, how are you? \n",
        "\n",
        "\n"
      ],
      "metadata": {
        "id": "rh1BPN6C0Hb7"
      }
    },
    {
      "cell_type": "markdown",
      "source": [
        "## Headings in markdown\n",
        "\n",
        "# Heading 1 \n",
        "## Heading 2\n",
        "### Heading 3\n",
        "#### Heading 4\n",
        "##### Heading 5\n",
        "###### Heading 6\n",
        "####### Heading 7 \n",
        "\n",
        "\n"
      ],
      "metadata": {
        "id": "TTYivay929EK"
      }
    },
    {
      "cell_type": "markdown",
      "source": [
        "## How To Make Texts Bold & Italic \n",
        "\n",
        "I am **Bold** text. \n",
        "\n",
        "I am *italic* text.\n",
        "\n",
        "I am * italic * text \n",
        "\n",
        "I am ** bold ** text \n",
        "\n",
        "I am ***Bold and italic*** text \n",
        "\n"
      ],
      "metadata": {
        "id": "voewQ8BN4wgx"
      }
    },
    {
      "cell_type": "markdown",
      "source": [
        "## BlockQuotes \n",
        "\n",
        "> I am a blockquote text.\n",
        "> I am another blockquote text. \n",
        "\n",
        "> I am a blockquote text.\n",
        ">\n",
        "> I am another line in same blockquote.\n",
        "\n",
        "> I am a blockquote text. \n",
        ">> I am a nested blockquote. \n",
        "\n",
        "\n",
        "> ### I am blockquote with heading  \n",
        ">> I am another nested blockquote with ***bold and italic*** text. \n",
        ">\n",
        "> * I am a list in the blockquote. \n",
        "> * I am another list in the blockquote.  \n",
        "\n"
      ],
      "metadata": {
        "id": "eZSovPAL6G9w"
      }
    },
    {
      "cell_type": "markdown",
      "source": [
        "## Lists \n",
        "\n",
        "### Ordered Lists\n",
        "\n",
        "1. List 1\n",
        "3. List 2\n",
        "6. List 3 \n",
        "7. List 4 \n",
        "<br> \n",
        "\n",
        "use br or two lines gap for new list. \n",
        "1. List 1 \n",
        "2. List 2\n",
        "3. List 3 \n",
        "4. List 4 \n",
        "\n",
        "always start this list with number 1. \n",
        "\n",
        "### Unordered List \n",
        "\n",
        "* List 1\n",
        "* List 2 \n",
        "\n",
        "\n",
        "- List 1 \n",
        "- List 2 \n",
        "\n",
        "\n",
        "+ List 1\n",
        "+ List 2 \n",
        "\n",
        "\n",
        "- List 1 \n",
        "  - List 1.1\n",
        "  - List 1.2 \n",
        "    - List 1.2.1\n",
        "    - List 1.2.2\n",
        "- List 2 \n",
        "\n",
        "- List 1\n",
        "\n",
        "  I am a paragraph. \n",
        "  > I am a blockquote. \n",
        "\n",
        "- List 2 \n",
        "\n",
        "Always use any one sign while writing your document for consistency. \n",
        "\n",
        "          "
      ],
      "metadata": {
        "id": "MbzwkTGH8ORP"
      }
    },
    {
      "cell_type": "markdown",
      "source": [
        "## Codes \n",
        "\n",
        "`I am code` Use to denote word or phrase as code in a line. \n",
        "\n",
        "``We use double backticks to espcape `code` backticks in markdown`` \n",
        "\n",
        "### Code Blocks \n",
        "\n",
        "To use codes in your documents use four indentation ( click four times spacebar)\n",
        "\n",
        "    <html>\n",
        "      <head>\n",
        "      </head>\n",
        "    </html>\n",
        "\n",
        "or use fenced code blocks using 3 backticks. \n",
        "\n",
        "``` <html>\n",
        "      <head>\n",
        "      </head>\n",
        "    </html>\n",
        "``` \n",
        "\n",
        "\n",
        "\n",
        "\n",
        "\n"
      ],
      "metadata": {
        "id": "PX6D-RIKAAJ_"
      }
    },
    {
      "cell_type": "markdown",
      "source": [
        "## Horizontal Rules \n",
        "\n",
        "*** \n",
        "---\n",
        "\n",
        "## Links \n",
        "\n",
        "#### Adding link to a text\n",
        "\n",
        "I am a [link](https://www.google.com/). \n",
        "\n",
        "#### Adding tooltip/title with the text link\n",
        "\n",
        "I am a [link](https://www.google.com/ \"Fastest Search Engine\"). \n",
        "\n",
        "\n",
        "## URls And Email Addresses \n",
        "\n",
        "<https://www.google.com><br>\n",
        "<myemailid@gmail.com> \n",
        "\n",
        "You can also format links with bold, italic, codes formatting. \n",
        "\n",
        "Reference Links: \n",
        "\n",
        "I am a [reference link][1] and I am [another reference link][2]. \n",
        "\n",
        "[1]: https://www.google.com/ \"Fastest Search Engine\" \n",
        "[2]: https://www.google.com/ \"Fastest Search Engine\" \n"
      ],
      "metadata": {
        "id": "x74PilnnDN7F"
      }
    },
    {
      "cell_type": "markdown",
      "source": [
        "## Images And Videos\n",
        "\n",
        "### Adding images to document \n",
        "![I am image alt text](https://www.wikipedia.org/portal/wikipedia.org/assets/img/Wikipedia-logo-v2@1.5x.png \"I am image file-path or link\").\n",
        "\n",
        "*I am image caption* \n",
        "\n",
        "### Addding any link to image. \n",
        "\n",
        "[![I am image alt text](https://upload.wikimedia.org/wikipedia/commons/thumb/3/3c/Giant_Panda_2004-03-2.jpg/330px-Giant_Panda_2004-03-2.jpg \"I am image file-path or link\")](https://en.wikipedia.org/wiki/Lists_of_animals) \n",
        "\n",
        "\n",
        "\n",
        "\n"
      ],
      "metadata": {
        "id": "XsmXxE5rGhAX"
      }
    },
    {
      "cell_type": "markdown",
      "source": [
        "## Escaping Characters\n",
        "\n",
        "To display a literal character that would otherwise be used to format text in a Markdown document, add a backslash (\\) in front of the character. \n",
        "\n",
        "\\** \n",
        "\n",
        "\\-\n",
        "\n",
        "\\+\n",
        "\n",
        "\\`\n",
        "\n",
        "\\[ ] \n",
        "\n",
        "\\{ }\n",
        "\n",
        "\\< > \n",
        "\n",
        "\\> \n",
        "\n",
        "\\. \n",
        "\n",
        "\\! \n",
        "\n",
        "\\* I am a *line*. "
      ],
      "metadata": {
        "id": "XH0QPH1mICwt"
      }
    },
    {
      "cell_type": "markdown",
      "source": [
        "## Tables\n",
        "\n",
        "| Column 1      | Column 2 |\n",
        "| ----------- | ----------- |\n",
        "| Header      | Title       |\n",
        "| Paragraph   | Text        | \n",
        "\n",
        "#### cell alignment\n",
        "\n",
        "| Syntax      | Description |   Text   |\n",
        "| :---        |    :----:   |     ---: |\n",
        "| Header      | Title       | text 1   |\n",
        "| Paragraph   | Text        | text 2   |\n",
        "\n",
        "\n",
        "\n",
        "\n",
        "\n"
      ],
      "metadata": {
        "id": "ZCVfQU9BJchF"
      }
    },
    {
      "cell_type": "markdown",
      "source": [
        "## Footnotes \n",
        "\n",
        "#### How to create footnote refrence in a document \n",
        "\n",
        "use a caret and an identifier within barckets. \n",
        "\n",
        "Here's a simple footnote,[^1] and here's another one.[^another]\n",
        "\n",
        "then write your footnote with the colon followed by the caret and indentifier within the bracket. \n",
        "\n",
        "[^1]: This is the first footnote.\n",
        "\n",
        "[^another]: Here's another."
      ],
      "metadata": {
        "id": "8UWeaBuHK3yD"
      }
    },
    {
      "cell_type": "markdown",
      "source": [
        "## Heading IDs \n",
        "\n",
        "### first section {#section} \n",
        "\n",
        "Please jump to the [First Section](#section) to find the paragraph context. \n",
        "\n",
        "## Strikethrough \n",
        "\n",
        "How to ~~strikethrough~~ (Use: Tilde twice ~~ before and after) \n",
        "\n",
        "## Task List\n",
        "\n",
        "- [x] Task 1\n",
        "- [ ] task 2\n",
        "- [ ] task 3\n",
        "\n",
        "## Using Emojis \n",
        "\n",
        "Hi I am happy 🙂 and :joy: ✈\n",
        "\n",
        "## Highlight A word\n",
        "\n",
        "I want you to focus on the ==this word== \n",
        "\n",
        "I want you to focus on the <mark>this word</mark>\n",
        "\n",
        "### How to disable URL? \n",
        "\n",
        "http://www.example.com\n",
        "\n",
        "`http://www.example.com` use code. \n",
        "\n",
        "\n",
        "## Admonitions \n",
        "\n",
        "> :warning: **Warning:** Do not delete this document. \n",
        "\n",
        "> ⚠ **Warning:** Do not delete this document. \n",
        "\n",
        "\n",
        "\n",
        "\n",
        "\n",
        "\n",
        "\n"
      ],
      "metadata": {
        "id": "ID41fusoW_2f"
      }
    }
  ]
}
