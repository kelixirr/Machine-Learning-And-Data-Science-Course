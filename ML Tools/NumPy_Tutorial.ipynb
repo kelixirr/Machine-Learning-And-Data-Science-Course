{
  "cells": [
    {
      "cell_type": "markdown",
      "metadata": {
        "id": "view-in-github",
        "colab_type": "text"
      },
      "source": [
        "<a href=\"https://colab.research.google.com/github/kelixirr/Complete-Machine-Learning-And-Data-Science-Course/blob/main/NumPy_Tutorial.ipynb\" target=\"_parent\"><img src=\"https://colab.research.google.com/assets/colab-badge.svg\" alt=\"Open In Colab\"/></a>"
      ]
    },
    {
      "cell_type": "markdown",
      "metadata": {
        "id": "afs7VtHQf_B-"
      },
      "source": [
        "## NumPy Tutorial For Data Science And Machine Learning \n",
        "\n",
        "### What is an array: \n",
        "**informal definition**: Array is nothing but a collection of elements with same datatypes. We use array to store information with same datatypes. Unlike python lists it only accepts elements with same datatypes at a time. \n",
        "\n",
        "**Standard Definition**: An array is a collection of items of same data type stored at contiguous memory locations. \n",
        "\n",
        "They are also more compact and take up less memory and space which makes them more size efficient compared to lists. We also. Using python array library you can work with simple array but for advance mathematical calculations in the field of data science or machine will use Numpy arrays which allows us to work with multidimensional arrays. \n",
        "\n",
        "### NumPy\n",
        "NumPy is the fundamental package for scientific computing in Python. It is a Python library that provides a multidimensional array object, various derived objects (such as masked arrays and matrices), and an assortment of routines for fast operations on arrays, including mathematical, logical, shape manipulation, sorting, selecting, I/O, discrete Fourier transforms, basic linear algebra, basic statistical operations, random simulation and much more.\n",
        "\n",
        "At the core of the NumPy package, is the `ndarray` object. This encapsulates n-dimensional arrays of homogeneous data types, with many operations being performed in compiled code for performance. \n",
        "\n",
        "- NumPy arrays have a fixed size at creation. Changing the size of an ndarray will create a new array and delete the original.\n",
        "- The elements in a NumPy array are all required to be of the same data type. \n",
        "- NumPy arrays facilitate advanced mathematical and other types of operations on large numbers of dat. \n",
        "\n",
        "Further Read: \n",
        "1. Documentation: https://numpy.org/doc/stable/user/whatisnumpy.html\n",
        "2. Python Arrays: https://www.freecodecamp.org/news/python-array-tutorial-define-index-methods/"
      ]
    },
    {
      "cell_type": "markdown",
      "source": [
        "This course is offered by **Odist Academy** and we keep all the rights reserved. Please enroll in course from here: https://pages.razorpay.com/odist-academy-data-science"
      ],
      "metadata": {
        "id": "6fPuY9rTBzvU"
      }
    },
    {
      "cell_type": "code",
      "execution_count": null,
      "metadata": {
        "id": "zCMVmUqplH6y"
      },
      "outputs": [],
      "source": [
        "# importing NumPy in our notebook\n",
        "import numpy as np "
      ]
    },
    {
      "cell_type": "code",
      "execution_count": null,
      "metadata": {
        "colab": {
          "base_uri": "https://localhost:8080/"
        },
        "id": "UmiV5Myff7D_",
        "outputId": "4004d13d-3026-4cd1-a857-3ab050bace59"
      },
      "outputs": [
        {
          "data": {
            "text/plain": [
              "array(2)"
            ]
          },
          "execution_count": 5,
          "metadata": {},
          "output_type": "execute_result"
        }
      ],
      "source": [
        "# creating zero dimensional array - also called scaler\n",
        "zero_d = np.array(2)\n",
        "zero_d"
      ]
    },
    {
      "cell_type": "code",
      "execution_count": null,
      "metadata": {
        "colab": {
          "base_uri": "https://localhost:8080/"
        },
        "id": "5Ng0cCVgopQw",
        "outputId": "fe2271a6-1a50-4a91-cdcc-05cd1a8b032c"
      },
      "outputs": [
        {
          "data": {
            "text/plain": [
              "numpy.ndarray"
            ]
          },
          "execution_count": 6,
          "metadata": {},
          "output_type": "execute_result"
        }
      ],
      "source": [
        "# checking the type of zero-d array \n",
        "type(zero_d)"
      ]
    },
    {
      "cell_type": "code",
      "execution_count": null,
      "metadata": {
        "colab": {
          "base_uri": "https://localhost:8080/"
        },
        "id": "dqgl_s5jo-hx",
        "outputId": "6cd0c328-c365-4066-8581-4ff81ca4f37c"
      },
      "outputs": [
        {
          "data": {
            "text/plain": [
              "((), 0, dtype('int64'), 1, 8)"
            ]
          },
          "execution_count": 7,
          "metadata": {},
          "output_type": "execute_result"
        }
      ],
      "source": [
        "# checking basics attributes of the object Numpy array\n",
        "# shape (the number of axes (dimensions) of the array.) \n",
        "# dimension (the dimensions of the array. For a matrix with n rows and m columns, shape will be (n,m). The length of the shape tuple is therefore the number of axes, ndim.)\n",
        "# dtype(an object describing the type of the elements in the array)\n",
        "# size of one-d array (total number of elements of the array)\n",
        "\n",
        "zero_d.shape, zero_d.ndim, zero_d.dtype, zero_d.size, zero_d.itemsize "
      ]
    },
    {
      "cell_type": "code",
      "execution_count": null,
      "metadata": {
        "colab": {
          "base_uri": "https://localhost:8080/"
        },
        "id": "-AvgMIm7pFXx",
        "outputId": "f839c113-4c71-46fd-df2c-69aed16dd4c0"
      },
      "outputs": [
        {
          "data": {
            "text/plain": [
              "array([1, 2, 3, 4, 5])"
            ]
          },
          "execution_count": 11,
          "metadata": {},
          "output_type": "execute_result"
        }
      ],
      "source": [
        "# creating one-dimensional array - also called vectors\n",
        "one_d = np.array([1, 2, 3, 4, 5])\n",
        "one_d"
      ]
    },
    {
      "cell_type": "code",
      "execution_count": null,
      "metadata": {
        "colab": {
          "base_uri": "https://localhost:8080/"
        },
        "id": "kls4-wrYv2A-",
        "outputId": "ecb1b040-934d-41d2-eb4d-318d49a34b90"
      },
      "outputs": [
        {
          "data": {
            "text/plain": [
              "(numpy.ndarray, (5,), 1, dtype('int64'), 5, 8)"
            ]
          },
          "execution_count": 12,
          "metadata": {},
          "output_type": "execute_result"
        }
      ],
      "source": [
        "# checking the basics\n",
        "type(one_d), one_d.shape, one_d.ndim, one_d.dtype, one_d.size, one_d.itemsize"
      ]
    },
    {
      "cell_type": "code",
      "execution_count": null,
      "metadata": {
        "colab": {
          "base_uri": "https://localhost:8080/",
          "height": 218
        },
        "id": "U0djYO1wwfrI",
        "outputId": "3199a741-9fd0-410d-c9dc-00b1a0dddb8c"
      },
      "outputs": [
        {
          "ename": "TypeError",
          "evalue": "ignored",
          "output_type": "error",
          "traceback": [
            "\u001b[0;31m---------------------------------------------------------------------------\u001b[0m",
            "\u001b[0;31mTypeError\u001b[0m                                 Traceback (most recent call last)",
            "\u001b[0;32m<ipython-input-13-407db27b8620>\u001b[0m in \u001b[0;36m<module>\u001b[0;34m\u001b[0m\n\u001b[1;32m      1\u001b[0m \u001b[0;31m#creating two-dimentional array\u001b[0m\u001b[0;34m\u001b[0m\u001b[0;34m\u001b[0m\u001b[0;34m\u001b[0m\u001b[0m\n\u001b[1;32m      2\u001b[0m \u001b[0;34m\u001b[0m\u001b[0m\n\u001b[0;32m----> 3\u001b[0;31m \u001b[0mtwo_d\u001b[0m \u001b[0;34m=\u001b[0m \u001b[0mnp\u001b[0m\u001b[0;34m.\u001b[0m\u001b[0marray\u001b[0m\u001b[0;34m(\u001b[0m\u001b[0;34m[\u001b[0m\u001b[0;36m1\u001b[0m\u001b[0;34m,\u001b[0m \u001b[0;36m2\u001b[0m\u001b[0;34m,\u001b[0m \u001b[0;36m3\u001b[0m\u001b[0;34m,\u001b[0m \u001b[0;36m4\u001b[0m\u001b[0;34m,\u001b[0m \u001b[0;36m5\u001b[0m\u001b[0;34m]\u001b[0m\u001b[0;34m,\u001b[0m \u001b[0;34m[\u001b[0m\u001b[0;36m6\u001b[0m\u001b[0;34m,\u001b[0m \u001b[0;36m7\u001b[0m\u001b[0;34m,\u001b[0m \u001b[0;36m8\u001b[0m\u001b[0;34m,\u001b[0m \u001b[0;36m9\u001b[0m\u001b[0;34m,\u001b[0m \u001b[0;36m10\u001b[0m\u001b[0;34m]\u001b[0m\u001b[0;34m)\u001b[0m\u001b[0;34m\u001b[0m\u001b[0;34m\u001b[0m\u001b[0m\n\u001b[0m\u001b[1;32m      4\u001b[0m \u001b[0mtwo_d\u001b[0m\u001b[0;34m\u001b[0m\u001b[0;34m\u001b[0m\u001b[0m\n",
            "\u001b[0;31mTypeError\u001b[0m: Field elements must be 2- or 3-tuples, got '6'"
          ]
        }
      ],
      "source": [
        "#creating two-dimentional array \n",
        "two_d = np.array([1, 2, 3, 4, 5], [6, 7, 8, 9, 10])   # result in error as it accepts only one object argument\n",
        "two_d   "
      ]
    },
    {
      "cell_type": "code",
      "execution_count": null,
      "metadata": {
        "colab": {
          "base_uri": "https://localhost:8080/"
        },
        "id": "6Y6FoKPjw3n9",
        "outputId": "7e583c0c-7253-4209-a049-0b24b254a007"
      },
      "outputs": [
        {
          "output_type": "execute_result",
          "data": {
            "text/plain": [
              "array([[ 1,  2,  3,  4,  5],\n",
              "       [ 6,  7,  8,  9, 10]])"
            ]
          },
          "metadata": {},
          "execution_count": 22
        }
      ],
      "source": [
        "two_d = np.array([[1, 2, 3, 4, 5], [6, 7, 8, 9, 10]])  # close them in brackets - 2-d arrays are also called matrix\n",
        "two_d "
      ]
    },
    {
      "cell_type": "code",
      "execution_count": null,
      "metadata": {
        "colab": {
          "base_uri": "https://localhost:8080/"
        },
        "id": "u4-1fJfFxBGe",
        "outputId": "0824ea02-cb7f-465a-ea87-f185e3ddad3c"
      },
      "outputs": [
        {
          "output_type": "execute_result",
          "data": {
            "text/plain": [
              "(numpy.ndarray, (2, 5), 2, dtype('int64'), 10, 8)"
            ]
          },
          "metadata": {},
          "execution_count": 23
        }
      ],
      "source": [
        "# checking its basics\n",
        "type(two_d), two_d.shape, two_d.ndim, two_d.dtype, two_d.size, two_d.itemsize"
      ]
    },
    {
      "cell_type": "code",
      "execution_count": null,
      "metadata": {
        "colab": {
          "base_uri": "https://localhost:8080/"
        },
        "id": "YOpuoLTXxZ_b",
        "outputId": "eee2c38f-1459-46d1-c2e7-985315dd1abf"
      },
      "outputs": [
        {
          "data": {
            "text/plain": [
              "array([[ 1,  2,  3,  4,  5],\n",
              "       [ 6,  7,  8,  9, 10],\n",
              "       [11, 12, 13, 14, 15]])"
            ]
          },
          "execution_count": 18,
          "metadata": {},
          "output_type": "execute_result"
        }
      ],
      "source": [
        "# creating three dimensional array\n",
        "three_d = np.array([[1, 2, 3, 4, 5], [6, 7, 8, 9, 10], [11, 12, 13, 14, 15]]) # this will result in two array only. \n",
        "three_d"
      ]
    },
    {
      "cell_type": "code",
      "execution_count": null,
      "metadata": {
        "colab": {
          "base_uri": "https://localhost:8080/"
        },
        "id": "ViOoJ1Vfx4Kl",
        "outputId": "58c91e5d-c4f3-437a-f62d-6313b1d815cb"
      },
      "outputs": [
        {
          "name": "stdout",
          "output_type": "stream",
          "text": [
            "2\n",
            "(3, 5)\n"
          ]
        }
      ],
      "source": [
        "print(three_d.ndim) \n",
        "print(three_d.shape)"
      ]
    },
    {
      "cell_type": "code",
      "execution_count": null,
      "metadata": {
        "colab": {
          "base_uri": "https://localhost:8080/"
        },
        "id": "NgS8pVkJx-rV",
        "outputId": "87daeec3-6838-432c-898d-b4f0834b8f8d"
      },
      "outputs": [
        {
          "data": {
            "text/plain": [
              "array([[[ 1,  2,  3,  4,  5],\n",
              "        [11, 12, 13, 14, 15]],\n",
              "\n",
              "       [[ 6,  7,  8,  9, 10],\n",
              "        [16, 17, 18, 19, 20]]])"
            ]
          },
          "execution_count": 29,
          "metadata": {},
          "output_type": "execute_result"
        }
      ],
      "source": [
        "# creating an actual three- d array \n",
        "three_3d = np.array([[[1, 2, 3, 4, 5],\n",
        "                      [11, 12, 13, 14, 15]],\n",
        "                     [[6, 7, 8, 9, 10],\n",
        "                      [16, 17, 18, 19, 20]]\n",
        "                     ])\n",
        "three_3d"
      ]
    },
    {
      "cell_type": "code",
      "execution_count": null,
      "metadata": {
        "colab": {
          "base_uri": "https://localhost:8080/"
        },
        "id": "JYL1j3Qjyzq2",
        "outputId": "f45f73d8-7afa-4a4b-d3ab-119226a6885a"
      },
      "outputs": [
        {
          "data": {
            "text/plain": [
              "3"
            ]
          },
          "execution_count": 30,
          "metadata": {},
          "output_type": "execute_result"
        }
      ],
      "source": [
        "three_3d.ndim"
      ]
    },
    {
      "cell_type": "code",
      "execution_count": null,
      "metadata": {
        "colab": {
          "base_uri": "https://localhost:8080/"
        },
        "id": "oY6oKOVuy4y1",
        "outputId": "32146f20-c436-4329-97dd-2770c79cdadf"
      },
      "outputs": [
        {
          "data": {
            "text/plain": [
              "(2, 2, 5)"
            ]
          },
          "execution_count": 31,
          "metadata": {},
          "output_type": "execute_result"
        }
      ],
      "source": [
        "three_3d.shape"
      ]
    },
    {
      "cell_type": "code",
      "execution_count": null,
      "metadata": {
        "colab": {
          "base_uri": "https://localhost:8080/"
        },
        "id": "K5q22zXb3K4t",
        "outputId": "d34fa977-1846-43f2-95ee-d51717d353e1"
      },
      "outputs": [
        {
          "data": {
            "text/plain": [
              "array([[1.+0.j, 2.+0.j],\n",
              "       [3.+0.j, 4.+0.j]])"
            ]
          },
          "execution_count": 32,
          "metadata": {},
          "output_type": "execute_result"
        }
      ],
      "source": [
        "# You can also specify the type of array \n",
        "c = np.array([[1, 2], [3, 4]], dtype=complex)\n",
        "c"
      ]
    },
    {
      "cell_type": "markdown",
      "metadata": {
        "id": "thHHeNG4225t"
      },
      "source": [
        "Understanding Axes: \n",
        "https://towardsdatascience.com/understanding-axes-and-dimensions-numpy-pandas-606407a5f950"
      ]
    },
    {
      "cell_type": "markdown",
      "metadata": {
        "id": "t5AVgKY839E9"
      },
      "source": [
        "Often, the elements of an array are originally unknown, but its size is known. In that case you can use: "
      ]
    },
    {
      "cell_type": "code",
      "execution_count": null,
      "metadata": {
        "colab": {
          "base_uri": "https://localhost:8080/"
        },
        "id": "6yA0IoXTy7lS",
        "outputId": "3d99438c-86a7-42c7-e4c4-542314ab87d0"
      },
      "outputs": [
        {
          "data": {
            "text/plain": [
              "array([[0., 0., 0., 0.],\n",
              "       [0., 0., 0., 0.],\n",
              "       [0., 0., 0., 0.]])"
            ]
          },
          "execution_count": 35,
          "metadata": {},
          "output_type": "execute_result"
        }
      ],
      "source": [
        "np.zeros((3,4))"
      ]
    },
    {
      "cell_type": "code",
      "execution_count": null,
      "metadata": {
        "colab": {
          "base_uri": "https://localhost:8080/"
        },
        "id": "_2gciI6R4GSN",
        "outputId": "960ca0e5-86bc-4cff-ba01-bf3fecc81bf5"
      },
      "outputs": [
        {
          "data": {
            "text/plain": [
              "array([[1., 1., 1., 1.],\n",
              "       [1., 1., 1., 1.],\n",
              "       [1., 1., 1., 1.]])"
            ]
          },
          "execution_count": 36,
          "metadata": {},
          "output_type": "execute_result"
        }
      ],
      "source": [
        "np.ones((3,4))"
      ]
    },
    {
      "cell_type": "code",
      "execution_count": null,
      "metadata": {
        "colab": {
          "base_uri": "https://localhost:8080/"
        },
        "id": "_xQSpk1_4MRt",
        "outputId": "87fcc09e-b12e-4eb6-c793-be395834b5b6"
      },
      "outputs": [
        {
          "data": {
            "text/plain": [
              "array([[1.9714721e-316, 0.0000000e+000],\n",
              "       [0.0000000e+000, 0.0000000e+000],\n",
              "       [0.0000000e+000, 0.0000000e+000]])"
            ]
          },
          "execution_count": 39,
          "metadata": {},
          "output_type": "execute_result"
        }
      ],
      "source": [
        "np.empty((3,2))  #creates an array whose initial content is random and depends on the state of the memory"
      ]
    },
    {
      "cell_type": "code",
      "execution_count": null,
      "metadata": {
        "colab": {
          "base_uri": "https://localhost:8080/"
        },
        "id": "Gh8ZgUdC4XC0",
        "outputId": "bb2cddd3-af43-4695-ff0a-cbee1c091844"
      },
      "outputs": [
        {
          "data": {
            "text/plain": [
              "array([[[1, 1, 1, 1],\n",
              "        [1, 1, 1, 1],\n",
              "        [1, 1, 1, 1]],\n",
              "\n",
              "       [[1, 1, 1, 1],\n",
              "        [1, 1, 1, 1],\n",
              "        [1, 1, 1, 1]]], dtype=int16)"
            ]
          },
          "execution_count": 41,
          "metadata": {},
          "output_type": "execute_result"
        }
      ],
      "source": [
        "np.ones((2, 3, 4), dtype=np.int16) # you can also specify the type using dtype if you don't want the result in float format"
      ]
    },
    {
      "cell_type": "code",
      "execution_count": null,
      "metadata": {
        "colab": {
          "base_uri": "https://localhost:8080/"
        },
        "id": "r3IlxdpC4oFN",
        "outputId": "ee15bbf7-fe02-4e3e-dda1-48bad0fdaf7c"
      },
      "outputs": [
        {
          "name": "stdout",
          "output_type": "stream",
          "text": [
            "1\n",
            "3\n",
            "5\n",
            "7\n",
            "9\n"
          ]
        }
      ],
      "source": [
        "# Python range function \n",
        "x = range(1, 10, 2)\n",
        "for i in x:\n",
        "  print(i)"
      ]
    },
    {
      "cell_type": "code",
      "execution_count": null,
      "metadata": {
        "colab": {
          "base_uri": "https://localhost:8080/"
        },
        "id": "-hcdsl795IPF",
        "outputId": "c029a78f-0eb4-455d-df87-5269c02417db"
      },
      "outputs": [
        {
          "name": "stdout",
          "output_type": "stream",
          "text": [
            "0\n",
            "1\n",
            "2\n",
            "3\n",
            "4\n",
            "5\n",
            "6\n",
            "7\n",
            "8\n",
            "9\n"
          ]
        }
      ],
      "source": [
        "# Python range function another example \n",
        "y = range(10) # it starts at zero and step increment one one\n",
        "for i in y:\n",
        "  print(i)"
      ]
    },
    {
      "cell_type": "code",
      "execution_count": null,
      "metadata": {
        "colab": {
          "base_uri": "https://localhost:8080/"
        },
        "id": "BtDUmSIA5Yb1",
        "outputId": "7da59834-e877-4fd9-efea-8283094b7638"
      },
      "outputs": [
        {
          "data": {
            "text/plain": [
              "array([10, 13, 16, 19])"
            ]
          },
          "execution_count": 47,
          "metadata": {},
          "output_type": "execute_result"
        }
      ],
      "source": [
        "# Numpy range function for creating array \n",
        "np.arange(10, 20, 3)"
      ]
    },
    {
      "cell_type": "code",
      "execution_count": null,
      "metadata": {
        "colab": {
          "base_uri": "https://localhost:8080/"
        },
        "id": "8Si0n4x85rEs",
        "outputId": "0a5784e4-501e-48c1-c1c6-4eff8e4404cc"
      },
      "outputs": [
        {
          "data": {
            "text/plain": [
              "array([2.4, 3.6, 4.8, 6. , 7.2, 8.4, 9.6])"
            ]
          },
          "execution_count": 48,
          "metadata": {},
          "output_type": "execute_result"
        }
      ],
      "source": [
        "np.arange(2.4, 10.5, 1.2)"
      ]
    },
    {
      "cell_type": "markdown",
      "metadata": {
        "id": "3xS5HtL36P58"
      },
      "source": [
        "When arange is used with floating point arguments, it is generally not possible to predict the number of elements obtained, due to the finite floating point precision. For this reason, it is usually better to use the function linspace that receives as an argument the number of elements that we want, instead of the step"
      ]
    },
    {
      "cell_type": "code",
      "execution_count": null,
      "metadata": {
        "colab": {
          "base_uri": "https://localhost:8080/"
        },
        "id": "OlMI_ett59al",
        "outputId": "7c5dfee0-ec5a-4cee-a29e-814bd5988cd1"
      },
      "outputs": [
        {
          "data": {
            "text/plain": [
              "array([2.  , 2.25, 2.5 , 2.75, 3.  , 3.25, 3.5 , 3.75, 4.  ])"
            ]
          },
          "execution_count": 49,
          "metadata": {},
          "output_type": "execute_result"
        }
      ],
      "source": [
        "np.linspace(2, 4, 9)"
      ]
    },
    {
      "cell_type": "code",
      "execution_count": null,
      "metadata": {
        "colab": {
          "base_uri": "https://localhost:8080/"
        },
        "id": "CZ5e5Evc6OU1",
        "outputId": "7271dfef-4f72-4e33-b55b-5c46755979fc"
      },
      "outputs": [
        {
          "data": {
            "text/plain": [
              "array([   0,    1,    2, ..., 9997, 9998, 9999])"
            ]
          },
          "execution_count": 52,
          "metadata": {},
          "output_type": "execute_result"
        }
      ],
      "source": [
        "np.arange(10000) #everything is not printed when array is too big "
      ]
    },
    {
      "cell_type": "code",
      "execution_count": null,
      "metadata": {
        "colab": {
          "base_uri": "https://localhost:8080/"
        },
        "id": "Q20tVUNU6yhe",
        "outputId": "5f6801d6-118e-4618-d6d1-68b8c70c3323"
      },
      "outputs": [
        {
          "data": {
            "text/plain": [
              "array([[0.02857961, 0.23010165, 0.67529917],\n",
              "       [0.45003578, 0.22570575, 0.03934367]])"
            ]
          },
          "execution_count": 53,
          "metadata": {},
          "output_type": "execute_result"
        }
      ],
      "source": [
        "np.random.rand(2,3) # prints random array between 0 to 1"
      ]
    },
    {
      "cell_type": "code",
      "execution_count": null,
      "metadata": {
        "colab": {
          "base_uri": "https://localhost:8080/"
        },
        "id": "v9Lr8IH47gm9",
        "outputId": "06130f18-2e05-4e76-cf40-23ece1fe5e7f"
      },
      "outputs": [
        {
          "data": {
            "text/plain": [
              "array([[0.0850839 , 0.02982495, 0.34424771],\n",
              "       [0.91077887, 0.75931856, 0.42097045]])"
            ]
          },
          "execution_count": 56,
          "metadata": {},
          "output_type": "execute_result"
        }
      ],
      "source": [
        "np.random.random((2,3)) # takes one positional argument prints random array between 0 to 1 "
      ]
    },
    {
      "cell_type": "code",
      "execution_count": null,
      "metadata": {
        "colab": {
          "base_uri": "https://localhost:8080/"
        },
        "id": "LhIHBKyl7pjV",
        "outputId": "1c5a7bdf-756a-4754-885a-7dd27fd6293f"
      },
      "outputs": [
        {
          "data": {
            "text/plain": [
              "array([4, 2, 7])"
            ]
          },
          "execution_count": 57,
          "metadata": {},
          "output_type": "execute_result"
        }
      ],
      "source": [
        "np.random.randint(10, size=3)"
      ]
    },
    {
      "cell_type": "code",
      "execution_count": null,
      "metadata": {
        "colab": {
          "base_uri": "https://localhost:8080/"
        },
        "id": "CK6Drosr8Cid",
        "outputId": "7aad0e7f-b1cd-400c-c3f0-eb6556caef17"
      },
      "outputs": [
        {
          "data": {
            "text/plain": [
              "array([[663, 379, 686, 455],\n",
              "       [885, 422, 773, 525],\n",
              "       [372, 166, 667, 141],\n",
              "       [ 73, 200, 771, 266],\n",
              "       [495, 951, 203,  25],\n",
              "       [966, 116, 879, 756],\n",
              "       [568, 942, 591, 653],\n",
              "       [113, 856, 997, 669],\n",
              "       [807, 128, 489,  11],\n",
              "       [473, 771, 296, 553]])"
            ]
          },
          "execution_count": 58,
          "metadata": {},
          "output_type": "execute_result"
        }
      ],
      "source": [
        "np.random.randint(1000, size=(10,4))"
      ]
    },
    {
      "cell_type": "markdown",
      "metadata": {
        "id": "5vTvoSQB8on1"
      },
      "source": [
        "More on randint here https://numpy.org/doc/stable/reference/random/generated/numpy.random.randint.html"
      ]
    },
    {
      "cell_type": "code",
      "execution_count": null,
      "metadata": {
        "colab": {
          "base_uri": "https://localhost:8080/"
        },
        "id": "L8VYwe-t8OO6",
        "outputId": "9dd34312-bd6e-4401-fe25-0f8b67b88c4f"
      },
      "outputs": [
        {
          "data": {
            "text/plain": [
              "array([[0.37454012, 0.95071431, 0.73199394, 0.59865848],\n",
              "       [0.15601864, 0.15599452, 0.05808361, 0.86617615],\n",
              "       [0.60111501, 0.70807258, 0.02058449, 0.96990985]])"
            ]
          },
          "execution_count": 63,
          "metadata": {},
          "output_type": "execute_result"
        }
      ],
      "source": [
        "# random seed \n",
        "np.random.seed(42)\n",
        "np.random.rand(3, 4)"
      ]
    },
    {
      "cell_type": "code",
      "execution_count": null,
      "metadata": {
        "colab": {
          "base_uri": "https://localhost:8080/"
        },
        "id": "eNzt8hOM9n2N",
        "outputId": "7e39a2f4-6fb2-41f9-9d0a-5dd18376ca75"
      },
      "outputs": [
        {
          "data": {
            "text/plain": [
              "array([[0.37454012, 0.95071431, 0.73199394, 0.59865848],\n",
              "       [0.15601864, 0.15599452, 0.05808361, 0.86617615],\n",
              "       [0.60111501, 0.70807258, 0.02058449, 0.96990985]])"
            ]
          },
          "execution_count": 64,
          "metadata": {},
          "output_type": "execute_result"
        }
      ],
      "source": [
        "# random seed \n",
        "np.random.seed(42)\n",
        "np.random.rand(3,4)"
      ]
    },
    {
      "cell_type": "code",
      "execution_count": null,
      "metadata": {
        "colab": {
          "base_uri": "https://localhost:8080/"
        },
        "id": "5dGjNNcC9-8X",
        "outputId": "7a62cc00-93df-4c2a-eacb-c2abf6c7dd77"
      },
      "outputs": [
        {
          "data": {
            "text/plain": [
              "array([[0.30461377, 0.09767211, 0.68423303, 0.44015249],\n",
              "       [0.12203823, 0.49517691, 0.03438852, 0.9093204 ],\n",
              "       [0.25877998, 0.66252228, 0.31171108, 0.52006802]])"
            ]
          },
          "execution_count": 67,
          "metadata": {},
          "output_type": "execute_result"
        }
      ],
      "source": [
        "# without random seed every time you run the cell numbers will be different\n",
        "np.random.rand(3, 4)"
      ]
    },
    {
      "cell_type": "markdown",
      "metadata": {
        "id": "WPWyChefBNmP"
      },
      "source": [
        "## Basic Operation In NumPy\n"
      ]
    },
    {
      "cell_type": "code",
      "execution_count": null,
      "metadata": {
        "colab": {
          "base_uri": "https://localhost:8080/"
        },
        "id": "i09SbNZ3BNNA",
        "outputId": "115fa9ba-eb35-46ff-a71e-b2b0c7fdad54"
      },
      "outputs": [
        {
          "name": "stdout",
          "output_type": "stream",
          "text": [
            "[[1 1]\n",
            " [0 1]]\n",
            "[[2 0]\n",
            " [3 4]]\n"
          ]
        },
        {
          "data": {
            "text/plain": [
              "(None, None)"
            ]
          },
          "execution_count": 74,
          "metadata": {},
          "output_type": "execute_result"
        }
      ],
      "source": [
        "a = np.array([[1, 1],\n",
        "              [0, 1]])\n",
        "b = np.array([[2, 0],\n",
        "              [3, 4]])\n",
        "print(a), print(b)"
      ]
    },
    {
      "cell_type": "code",
      "execution_count": null,
      "metadata": {
        "colab": {
          "base_uri": "https://localhost:8080/"
        },
        "id": "tMPEma7g-IXU",
        "outputId": "a19be71c-cde8-400e-a26b-112ce7d6b2a3"
      },
      "outputs": [
        {
          "data": {
            "text/plain": [
              "array([[3, 1],\n",
              "       [3, 5]])"
            ]
          },
          "execution_count": 73,
          "metadata": {},
          "output_type": "execute_result"
        }
      ],
      "source": [
        "a + b"
      ]
    },
    {
      "cell_type": "code",
      "execution_count": null,
      "metadata": {
        "colab": {
          "base_uri": "https://localhost:8080/"
        },
        "id": "CaEmxGJhBjL0",
        "outputId": "3e4c54ad-15d3-4e7f-90b7-d2bd8cb88d92"
      },
      "outputs": [
        {
          "data": {
            "text/plain": [
              "array([[-1,  1],\n",
              "       [-3, -3]])"
            ]
          },
          "execution_count": 75,
          "metadata": {},
          "output_type": "execute_result"
        }
      ],
      "source": [
        "a - b "
      ]
    },
    {
      "cell_type": "code",
      "execution_count": null,
      "metadata": {
        "colab": {
          "base_uri": "https://localhost:8080/"
        },
        "id": "_CzqsT8XBp18",
        "outputId": "17b39ec4-04bc-4fc6-86c5-15e65142785c"
      },
      "outputs": [
        {
          "data": {
            "text/plain": [
              "array([[2, 0],\n",
              "       [0, 4]])"
            ]
          },
          "execution_count": 76,
          "metadata": {},
          "output_type": "execute_result"
        }
      ],
      "source": [
        "a * b # see the operation here is happening element wise "
      ]
    },
    {
      "cell_type": "code",
      "execution_count": null,
      "metadata": {
        "colab": {
          "base_uri": "https://localhost:8080/"
        },
        "id": "p7ODyddeBrpc",
        "outputId": "eb88c161-b4fd-4160-ff40-6d803b4164bb"
      },
      "outputs": [
        {
          "data": {
            "text/plain": [
              "array([[5, 4],\n",
              "       [3, 4]])"
            ]
          },
          "execution_count": 77,
          "metadata": {},
          "output_type": "execute_result"
        }
      ],
      "source": [
        "a @ b # matrix product just like mathematics "
      ]
    },
    {
      "cell_type": "code",
      "execution_count": null,
      "metadata": {
        "colab": {
          "base_uri": "https://localhost:8080/"
        },
        "id": "yNFC_K1EB2s8",
        "outputId": "5a58e1d8-73fe-4d7f-fe79-e971e6f1e618"
      },
      "outputs": [
        {
          "data": {
            "text/plain": [
              "array([[5, 4],\n",
              "       [3, 4]])"
            ]
          },
          "execution_count": 79,
          "metadata": {},
          "output_type": "execute_result"
        }
      ],
      "source": [
        "a.dot(b) # another way for matrix product "
      ]
    },
    {
      "cell_type": "code",
      "execution_count": null,
      "metadata": {
        "colab": {
          "base_uri": "https://localhost:8080/"
        },
        "id": "85f_6YG0CAmV",
        "outputId": "92dc9a40-f05d-4218-e5f1-873154082949"
      },
      "outputs": [
        {
          "data": {
            "text/plain": [
              "array([[ 4,  0],\n",
              "       [ 9, 16]])"
            ]
          },
          "execution_count": 81,
          "metadata": {},
          "output_type": "execute_result"
        }
      ],
      "source": [
        "b**2"
      ]
    },
    {
      "cell_type": "code",
      "execution_count": null,
      "metadata": {
        "colab": {
          "base_uri": "https://localhost:8080/"
        },
        "id": "Ule6ZhohCE7t",
        "outputId": "d85ac434-673f-4ef3-d1df-6cb675d01405"
      },
      "outputs": [
        {
          "data": {
            "text/plain": [
              "array([[0.5, 0.5],\n",
              "       [0. , 0.5]])"
            ]
          },
          "execution_count": 82,
          "metadata": {},
          "output_type": "execute_result"
        }
      ],
      "source": [
        "a / 2"
      ]
    },
    {
      "cell_type": "code",
      "execution_count": null,
      "metadata": {
        "colab": {
          "base_uri": "https://localhost:8080/"
        },
        "id": "FeBkc-0NCWLK",
        "outputId": "42da789d-879d-4594-fadb-663c77912fc4"
      },
      "outputs": [
        {
          "name": "stderr",
          "output_type": "stream",
          "text": [
            "<ipython-input-83-a2c3c55d7cc4>:1: RuntimeWarning: divide by zero encountered in true_divide\n",
            "  a / b\n"
          ]
        },
        {
          "data": {
            "text/plain": [
              "array([[0.5 ,  inf],\n",
              "       [0.  , 0.25]])"
            ]
          },
          "execution_count": 83,
          "metadata": {},
          "output_type": "execute_result"
        }
      ],
      "source": [
        "a / b "
      ]
    },
    {
      "cell_type": "code",
      "execution_count": null,
      "metadata": {
        "colab": {
          "base_uri": "https://localhost:8080/"
        },
        "id": "70Ojb9fACXny",
        "outputId": "a1985089-4551-475e-cdbf-100659b543b7"
      },
      "outputs": [
        {
          "name": "stderr",
          "output_type": "stream",
          "text": [
            "<ipython-input-84-97ae6b8c7713>:1: RuntimeWarning: divide by zero encountered in floor_divide\n",
            "  a // b\n"
          ]
        },
        {
          "data": {
            "text/plain": [
              "array([[0, 0],\n",
              "       [0, 0]])"
            ]
          },
          "execution_count": 84,
          "metadata": {},
          "output_type": "execute_result"
        }
      ],
      "source": [
        "a // b "
      ]
    },
    {
      "cell_type": "code",
      "execution_count": null,
      "metadata": {
        "colab": {
          "base_uri": "https://localhost:8080/"
        },
        "id": "UKhrYwyvCeda",
        "outputId": "f8162805-14bf-4e45-a45a-a5c032988dbc"
      },
      "outputs": [
        {
          "name": "stderr",
          "output_type": "stream",
          "text": [
            "<ipython-input-85-b95a82f0c12a>:1: RuntimeWarning: divide by zero encountered in floor_divide\n",
            "  b // a\n"
          ]
        },
        {
          "data": {
            "text/plain": [
              "array([[2, 0],\n",
              "       [0, 4]])"
            ]
          },
          "execution_count": 85,
          "metadata": {},
          "output_type": "execute_result"
        }
      ],
      "source": [
        "b // a "
      ]
    },
    {
      "cell_type": "code",
      "execution_count": null,
      "metadata": {
        "colab": {
          "base_uri": "https://localhost:8080/"
        },
        "id": "Cb1iZebLCjxI",
        "outputId": "7bc51646-004e-483d-92b9-ba89e87c9196"
      },
      "outputs": [
        {
          "data": {
            "text/plain": [
              "array([[2.71828183, 2.71828183],\n",
              "       [1.        , 2.71828183]])"
            ]
          },
          "execution_count": 86,
          "metadata": {},
          "output_type": "execute_result"
        }
      ],
      "source": [
        "np.exp(a) # takes exponential "
      ]
    },
    {
      "cell_type": "code",
      "execution_count": null,
      "metadata": {
        "colab": {
          "base_uri": "https://localhost:8080/"
        },
        "id": "ebaiDy1MCsgw",
        "outputId": "9e396bd7-bea5-4eec-d694-b96b72ff1559"
      },
      "outputs": [
        {
          "name": "stderr",
          "output_type": "stream",
          "text": [
            "<ipython-input-87-3f8f764f67ee>:1: RuntimeWarning: divide by zero encountered in log\n",
            "  np.log(b)\n"
          ]
        },
        {
          "data": {
            "text/plain": [
              "array([[0.69314718,       -inf],\n",
              "       [1.09861229, 1.38629436]])"
            ]
          },
          "execution_count": 87,
          "metadata": {},
          "output_type": "execute_result"
        }
      ],
      "source": [
        "np.log(b) # take log "
      ]
    },
    {
      "cell_type": "code",
      "execution_count": null,
      "metadata": {
        "colab": {
          "base_uri": "https://localhost:8080/"
        },
        "id": "6ENyCESoCzWG",
        "outputId": "6a9de0c0-2e48-439c-8d5d-aa6cae0fe988"
      },
      "outputs": [
        {
          "data": {
            "text/plain": [
              "array([[1, 1],\n",
              "       [0, 1]])"
            ]
          },
          "execution_count": 88,
          "metadata": {},
          "output_type": "execute_result"
        }
      ],
      "source": [
        "a % 2 "
      ]
    },
    {
      "cell_type": "code",
      "execution_count": null,
      "metadata": {
        "colab": {
          "base_uri": "https://localhost:8080/"
        },
        "id": "KKIBLJ8VNtve",
        "outputId": "857fc3c3-3a67-4d32-f168-4e7429c18837"
      },
      "outputs": [
        {
          "data": {
            "text/plain": [
              "array([[1.41421356, 0.        ],\n",
              "       [1.73205081, 2.        ]])"
            ]
          },
          "execution_count": 135,
          "metadata": {},
          "output_type": "execute_result"
        }
      ],
      "source": [
        "np.sqrt(b)"
      ]
    },
    {
      "cell_type": "code",
      "execution_count": null,
      "metadata": {
        "colab": {
          "base_uri": "https://localhost:8080/"
        },
        "id": "zm2r8udLDkG0",
        "outputId": "a9b76941-90a0-4fc7-d49f-7aec551dbd95"
      },
      "outputs": [
        {
          "data": {
            "text/plain": [
              "3"
            ]
          },
          "execution_count": 91,
          "metadata": {},
          "output_type": "execute_result"
        }
      ],
      "source": [
        "np.sum(a)"
      ]
    },
    {
      "cell_type": "code",
      "execution_count": null,
      "metadata": {
        "colab": {
          "base_uri": "https://localhost:8080/"
        },
        "id": "d-6FznF_DoBy",
        "outputId": "cdcea655-f4f6-4fa5-d30a-d93e5c53a915"
      },
      "outputs": [
        {
          "data": {
            "text/plain": [
              "1.0"
            ]
          },
          "execution_count": 92,
          "metadata": {},
          "output_type": "execute_result"
        }
      ],
      "source": [
        "np.median(a)"
      ]
    },
    {
      "cell_type": "code",
      "execution_count": null,
      "metadata": {
        "colab": {
          "base_uri": "https://localhost:8080/"
        },
        "id": "fncK23KkD5kb",
        "outputId": "73ba1845-8552-450c-e1af-ccf6ea06fa0b"
      },
      "outputs": [
        {
          "data": {
            "text/plain": [
              "0.4330127018922193"
            ]
          },
          "execution_count": 93,
          "metadata": {},
          "output_type": "execute_result"
        }
      ],
      "source": [
        "np.std(a)"
      ]
    },
    {
      "cell_type": "code",
      "execution_count": null,
      "metadata": {
        "colab": {
          "base_uri": "https://localhost:8080/"
        },
        "id": "zGAZvTv7D-kE",
        "outputId": "8f751335-9e40-46c4-eb20-a040d45051c1"
      },
      "outputs": [
        {
          "data": {
            "text/plain": [
              "0.75"
            ]
          },
          "execution_count": 94,
          "metadata": {},
          "output_type": "execute_result"
        }
      ],
      "source": [
        "np.mean(a)"
      ]
    },
    {
      "cell_type": "code",
      "execution_count": null,
      "metadata": {
        "colab": {
          "base_uri": "https://localhost:8080/"
        },
        "id": "TKy1IkrAECCc",
        "outputId": "0a447dc7-ccee-4ed8-8638-2b671f5c58c7"
      },
      "outputs": [
        {
          "data": {
            "text/plain": [
              "4"
            ]
          },
          "execution_count": 97,
          "metadata": {},
          "output_type": "execute_result"
        }
      ],
      "source": [
        "np.max(b)"
      ]
    },
    {
      "cell_type": "code",
      "execution_count": null,
      "metadata": {
        "colab": {
          "base_uri": "https://localhost:8080/"
        },
        "id": "XPyqyrJ5EERb",
        "outputId": "5abda93f-44fa-45ee-e42d-5f7ac4f3c770"
      },
      "outputs": [
        {
          "data": {
            "text/plain": [
              "0"
            ]
          },
          "execution_count": 98,
          "metadata": {},
          "output_type": "execute_result"
        }
      ],
      "source": [
        "np.min(b)"
      ]
    },
    {
      "cell_type": "code",
      "execution_count": null,
      "metadata": {
        "colab": {
          "base_uri": "https://localhost:8080/"
        },
        "id": "OL9wxbEUEJoc",
        "outputId": "24a80610-bf75-40e7-a613-e8befbc1acd3"
      },
      "outputs": [
        {
          "data": {
            "text/plain": [
              "2.1875"
            ]
          },
          "execution_count": 99,
          "metadata": {},
          "output_type": "execute_result"
        }
      ],
      "source": [
        "np.var(b) # finds variance"
      ]
    },
    {
      "cell_type": "code",
      "execution_count": null,
      "metadata": {
        "colab": {
          "base_uri": "https://localhost:8080/"
        },
        "id": "TPuoUFpaEM__",
        "outputId": "d1a1c0a8-4521-4ffb-815f-88b5e56f18f7"
      },
      "outputs": [
        {
          "data": {
            "text/plain": [
              "3"
            ]
          },
          "execution_count": 100,
          "metadata": {},
          "output_type": "execute_result"
        }
      ],
      "source": [
        "np.argmax(b) #find index of maximum value"
      ]
    },
    {
      "cell_type": "code",
      "execution_count": null,
      "metadata": {
        "colab": {
          "base_uri": "https://localhost:8080/"
        },
        "id": "WvkuGbX3EjZ8",
        "outputId": "e1d485bb-8aa0-46c0-f173-d72b79537c22"
      },
      "outputs": [
        {
          "data": {
            "text/plain": [
              "1"
            ]
          },
          "execution_count": 101,
          "metadata": {},
          "output_type": "execute_result"
        }
      ],
      "source": [
        "np.argmin(b) #find index of minimum  value"
      ]
    },
    {
      "cell_type": "code",
      "execution_count": null,
      "metadata": {
        "colab": {
          "base_uri": "https://localhost:8080/"
        },
        "id": "r92uglL0FySm",
        "outputId": "60436e9e-4848-48c6-e766-2f4bd9bbe5ab"
      },
      "outputs": [
        {
          "data": {
            "text/plain": [
              "array([1, 1])"
            ]
          },
          "execution_count": 111,
          "metadata": {},
          "output_type": "execute_result"
        }
      ],
      "source": [
        "np.argmax(b, axis=0)"
      ]
    },
    {
      "cell_type": "code",
      "execution_count": null,
      "metadata": {
        "colab": {
          "base_uri": "https://localhost:8080/"
        },
        "id": "21OUAfCuEuM8",
        "outputId": "d9629700-23d1-4ad2-ab11-aa0680f9e54d"
      },
      "outputs": [
        {
          "data": {
            "text/plain": [
              "array([[2, 3],\n",
              "       [0, 4]])"
            ]
          },
          "execution_count": 102,
          "metadata": {},
          "output_type": "execute_result"
        }
      ],
      "source": [
        "# Transposing a matrix  \n",
        "b.T"
      ]
    },
    {
      "cell_type": "code",
      "execution_count": null,
      "metadata": {
        "colab": {
          "base_uri": "https://localhost:8080/"
        },
        "id": "V4_P-3zWE6cM",
        "outputId": "5ff41cf0-970e-437b-e096-37b8814492f0"
      },
      "outputs": [
        {
          "data": {
            "text/plain": [
              "array([[2, 0],\n",
              "       [3, 4]])"
            ]
          },
          "execution_count": 103,
          "metadata": {},
          "output_type": "execute_result"
        }
      ],
      "source": [
        "b "
      ]
    },
    {
      "cell_type": "code",
      "execution_count": null,
      "metadata": {
        "colab": {
          "base_uri": "https://localhost:8080/"
        },
        "id": "_FaSLF0DE84U",
        "outputId": "7d69c628-041d-46f0-9732-0d4a91c8de5f"
      },
      "outputs": [
        {
          "data": {
            "text/plain": [
              "array([[ True, False],\n",
              "       [ True,  True]])"
            ]
          },
          "execution_count": 104,
          "metadata": {},
          "output_type": "execute_result"
        }
      ],
      "source": [
        "a < b "
      ]
    },
    {
      "cell_type": "code",
      "execution_count": null,
      "metadata": {
        "colab": {
          "base_uri": "https://localhost:8080/"
        },
        "id": "4pZ78-OpFCzk",
        "outputId": "f02aaaae-2548-46e5-c7a8-9ce5e2cebf94"
      },
      "outputs": [
        {
          "data": {
            "text/plain": [
              "array([[False,  True],\n",
              "       [False, False]])"
            ]
          },
          "execution_count": 105,
          "metadata": {},
          "output_type": "execute_result"
        }
      ],
      "source": [
        "b <= a "
      ]
    },
    {
      "cell_type": "code",
      "execution_count": null,
      "metadata": {
        "colab": {
          "base_uri": "https://localhost:8080/"
        },
        "id": "_1dcJiaRFGM8",
        "outputId": "ff41151b-3ac0-4ba2-bc02-9e5d51019b27"
      },
      "outputs": [
        {
          "data": {
            "text/plain": [
              "array([[ True,  True],\n",
              "       [ True,  True]])"
            ]
          },
          "execution_count": 106,
          "metadata": {},
          "output_type": "execute_result"
        }
      ],
      "source": [
        "a != 3 "
      ]
    },
    {
      "cell_type": "code",
      "execution_count": null,
      "metadata": {
        "colab": {
          "base_uri": "https://localhost:8080/"
        },
        "id": "49GkW3mdFJm9",
        "outputId": "b050674b-8683-46fd-9f0c-dd5c6f954942"
      },
      "outputs": [
        {
          "data": {
            "text/plain": [
              "array([[ True,  True],\n",
              "       [False,  True]])"
            ]
          },
          "execution_count": 107,
          "metadata": {},
          "output_type": "execute_result"
        }
      ],
      "source": [
        "b != 3 "
      ]
    },
    {
      "cell_type": "code",
      "execution_count": null,
      "metadata": {
        "colab": {
          "base_uri": "https://localhost:8080/"
        },
        "id": "zKF9zz_rFMD0",
        "outputId": "da699eda-ef59-43e6-d84a-193040c61531"
      },
      "outputs": [
        {
          "data": {
            "text/plain": [
              "0"
            ]
          },
          "execution_count": 109,
          "metadata": {},
          "output_type": "execute_result"
        }
      ],
      "source": [
        "np.sum(a > 2)"
      ]
    },
    {
      "cell_type": "code",
      "execution_count": null,
      "metadata": {
        "colab": {
          "base_uri": "https://localhost:8080/"
        },
        "id": "KVzmh69VFP68",
        "outputId": "2c8be88d-5da8-4677-bad6-d22d83830d53"
      },
      "outputs": [
        {
          "data": {
            "text/plain": [
              "array([[0, 2],\n",
              "       [3, 4]])"
            ]
          },
          "execution_count": 112,
          "metadata": {},
          "output_type": "execute_result"
        }
      ],
      "source": [
        "np.sort(b)"
      ]
    },
    {
      "cell_type": "code",
      "execution_count": null,
      "metadata": {
        "colab": {
          "base_uri": "https://localhost:8080/"
        },
        "id": "qSGULhWOGKic",
        "outputId": "2d299fb6-0713-4329-b13b-a38b4858ec4a"
      },
      "outputs": [
        {
          "data": {
            "text/plain": [
              "array([[1, 0],\n",
              "       [0, 1]])"
            ]
          },
          "execution_count": 118,
          "metadata": {},
          "output_type": "execute_result"
        }
      ],
      "source": [
        "np.argsort(b) "
      ]
    },
    {
      "cell_type": "code",
      "execution_count": null,
      "metadata": {
        "colab": {
          "base_uri": "https://localhost:8080/"
        },
        "id": "pzQvErP0GNxs",
        "outputId": "f3d26d18-7bfc-4310-a775-4899f88851c2"
      },
      "outputs": [
        {
          "data": {
            "text/plain": [
              "array([[2, 0],\n",
              "       [3, 4]])"
            ]
          },
          "execution_count": 119,
          "metadata": {},
          "output_type": "execute_result"
        }
      ],
      "source": [
        "b"
      ]
    },
    {
      "cell_type": "code",
      "execution_count": null,
      "metadata": {
        "colab": {
          "base_uri": "https://localhost:8080/"
        },
        "id": "doXew7ztGRic",
        "outputId": "acb1c539-cb50-41fe-e540-cf5386c4a42e"
      },
      "outputs": [
        {
          "data": {
            "text/plain": [
              "array([[0.00552212, 0.81546143, 0.70685734, 0.72900717],\n",
              "       [0.77127035, 0.07404465, 0.35846573, 0.11586906],\n",
              "       [0.86310343, 0.62329813, 0.33089802, 0.06355835]])"
            ]
          },
          "execution_count": 125,
          "metadata": {},
          "output_type": "execute_result"
        }
      ],
      "source": [
        "# reshaping \n",
        "s = np.random.rand(3,4)\n",
        "s"
      ]
    },
    {
      "cell_type": "code",
      "execution_count": null,
      "metadata": {
        "colab": {
          "base_uri": "https://localhost:8080/"
        },
        "id": "itn8PF5dJitE",
        "outputId": "ebb0c961-ce2f-415b-cc41-e17b9d7a5adc"
      },
      "outputs": [
        {
          "data": {
            "text/plain": [
              "(3, 4)"
            ]
          },
          "execution_count": 124,
          "metadata": {},
          "output_type": "execute_result"
        }
      ],
      "source": [
        "s.shape"
      ]
    },
    {
      "cell_type": "code",
      "execution_count": null,
      "metadata": {
        "colab": {
          "base_uri": "https://localhost:8080/"
        },
        "id": "N_s_FCGmJ2Ok",
        "outputId": "d42eaebe-5d90-4999-d949-2c1ca235bff2"
      },
      "outputs": [
        {
          "data": {
            "text/plain": [
              "array([[[0.00552212, 0.81546143],\n",
              "        [0.70685734, 0.72900717]],\n",
              "\n",
              "       [[0.77127035, 0.07404465],\n",
              "        [0.35846573, 0.11586906]],\n",
              "\n",
              "       [[0.86310343, 0.62329813],\n",
              "        [0.33089802, 0.06355835]]])"
            ]
          },
          "execution_count": 128,
          "metadata": {},
          "output_type": "execute_result"
        }
      ],
      "source": [
        "rs = s.reshape(3, 2, 2)  # use this function to reshape but keep in mind that size should be same in all that means product of the numbers should be same in the argument \n",
        "rs "
      ]
    },
    {
      "cell_type": "code",
      "execution_count": null,
      "metadata": {
        "colab": {
          "base_uri": "https://localhost:8080/"
        },
        "id": "w4Nn6-P2KDB2",
        "outputId": "48649018-7cb7-4aba-bf58-a3d8a54dcfb0"
      },
      "outputs": [
        {
          "data": {
            "text/plain": [
              "array([[[0.00552212, 0.81546143, 0.70685734, 0.72900717, 0.77127035,\n",
              "         0.07404465]],\n",
              "\n",
              "       [[0.35846573, 0.11586906, 0.86310343, 0.62329813, 0.33089802,\n",
              "         0.06355835]]])"
            ]
          },
          "execution_count": 130,
          "metadata": {},
          "output_type": "execute_result"
        }
      ],
      "source": [
        "ry = s.reshape(2, 1, 6)\n",
        "ry"
      ]
    },
    {
      "cell_type": "code",
      "execution_count": null,
      "metadata": {
        "colab": {
          "base_uri": "https://localhost:8080/"
        },
        "id": "Hl-mLjO2KXrU",
        "outputId": "76dc8410-c10f-4ab6-8d9d-a8bec1e93000"
      },
      "outputs": [
        {
          "data": {
            "text/plain": [
              "array([[0.00552212],\n",
              "       [0.81546143],\n",
              "       [0.70685734],\n",
              "       [0.72900717],\n",
              "       [0.77127035],\n",
              "       [0.07404465],\n",
              "       [0.35846573],\n",
              "       [0.11586906],\n",
              "       [0.86310343],\n",
              "       [0.62329813],\n",
              "       [0.33089802],\n",
              "       [0.06355835]])"
            ]
          },
          "execution_count": 131,
          "metadata": {},
          "output_type": "execute_result"
        }
      ],
      "source": [
        "s.reshape(12, 1)"
      ]
    },
    {
      "cell_type": "markdown",
      "metadata": {
        "id": "0vWI5txBGh5F"
      },
      "source": [
        "More functions from here: https://numpy.org/doc/stable/reference/index.html"
      ]
    },
    {
      "cell_type": "markdown",
      "metadata": {
        "id": "U67YnFOwL0W7"
      },
      "source": [
        "## Broadcasting\n",
        "The term broadcasting describes how NumPy treats arrays with different shapes during arithmetic operations. Subject to certain constraints, the smaller array is “broadcast” across the larger array so that they have compatible shapes.\n",
        "\n",
        "NumPy Broadcasting: https://numpy.org/doc/stable/user/basics.broadcasting.html#basics-broadcasting\n",
        "\n",
        "![1_lY8Ve6Uz_bqVI5NPh5RPZA.webp](data:image/webp;base64,UklGRsxoAABXRUJQVlA4WAoAAAAIAAAAIAQAfQIAVlA4IOxnAABQ9wGdASohBH4CPm00lkkkIqUiIZGKCKANiWdu/CMaS+xbgen4ZrQp9CO9SdmAbEv8/3gDofqb9z/zu7Nj36F/J7sxRLvCjAdqX9L7zPm16OP8t6i/9r/uP6x9bX+p+gD+Yf6L91Pd2/8v7h++X/IftH7gH9b/zvrR+rR/bfUA/lv+b9Oj9kvht/uH/P/ar4EP2A///WAf//rd+n3+G/r37G+CH+b/rn+Z/z3oP+OfPv4L8qf8V7XH97/h/JH6N/O/+j0L/jv2h/Mf339y/8r+9X3b/cv+X/evF/4z/5v90/cT/F/IL+S/y3/I/2b9x/7t6gf2B7mLTv9x/2/7f7AvsT9H/3P+e/0P/k/zf7cey3/k/5n92/cn84/wf/T/vv+H/8P0Afyv+t/8j86/ij/o+EX9+/6PsBfzn/D/+L/I/mZ9LX9X/3f9F/rv/V/u//////jX+j/6T/0/6n/afIR/Pf7L/zv8b++3+j///1z///3O/u3////b8Mf7l//8ZFs9T4Ki6mVDIQEqHUyoZCAlQ6mVDIQEqHUyoZCAlQ6mVDIP/dBK4TOumCazxJy+Xy3YiXjC2M1/pgo2E64xmr/kOmVee4pLoFcdXYA6EfPY0f3Uitrx2CyT7MKj5Igsqnwks761fmHpv4UrjyBefTugZoX9WG0kjnY4P+r77zxZ+BI0CV/nOIzOi8m0lVc4yNeu9oCVDqZUMhASodTKhkICUSmXSFzNFrCF9LSxn9+NDWRsom/U39OVHR9E0emcHd37soV63FmoQWSSWOhNZGWiaL5F9MiraZUDZfGJoAxHuhLrugO6a7T0AHTJSpyKsQeiqMmoEf75zR4Wag2Hw7dYL39333z3GnyHUyoZCAlQ6mVDIQEYdQa5haayj/ML+AMh5/nGQpHYmRvfd8E3pNJjjBBSGopLsQYpqq7gkeflkqMuX4GCQBZHKFBbJVWwczVO6IFRdTKhkICVDqZUMhARh4Nc9um7MZsdQ7NcrGeXtAvlUc5ctj5eNuaIVC53JtciLRhu31Sj8SbbyxeXFzhBB0VRWH+dYVqXcp8WqXUyoZCAlQ6mVDIQEqG4uACMfMwc1/tPcOu2edBukB69TIbnXO3PSTqXc5UxH5+Z2ybea8JyjFebkgYq4ehVbqXdDF/wBrVLrbeU+uQVFubp0bN1HM1BBcln6/5/lovLt+FRjLU8t9+9mNGFj2/KcHYURO1s5yqzitC8v+OjLtfxbC3SeX3/ZVMKN0yOPgqLqWY/NO5X/CrMqtWX7faoWPKPz8sk4r5VFKcVef6B+3VAnBQ7fT3ZYqlTLvrer+sUC+J3jzk5LNEj6Ir7opVAMy5+nGB2dXvrLpJd6HJhkZuWp7Y9l5rK6S1gpj3qKjfEzmEETtbFfR8lDZjg7dHMRHcy4DYBCFZmKwAQ5w4IDmgkhuMiDRau6uBBl+CcVsXBS/+eiAPV65qA6Ov/vY8T36H1uxa8n4htUgiEhbPU+B49l46IqiM6Yji6ZRR0YQdd0OmTIL0ogfLoSgt0ivY8+pUQFPxGLdLAGTWkEZXbE8D5jJ8oJStqhT0Nuz5DcJQqzeNozXVOILCzp6AKy7fSEUueENvL4KiHLzjrQz2qfBpC3IBtv6djsBIbRwGeb1+P+rvSay8wmbAJLkJpaGGCayPGrhLSSEUPvFfCzyDGQgJUN3frm7QVc9JSkpbsxoizAFBiGk04iXAK0b9dARQ9yA1y8J0wzS4mx+nknKIXD8HBM6CLdKV+cxV+6AlFsG3nNeniRncbvMje2Ch4GbaVEtQfCzGDhgA0z+2eotI+i+FnoyUMfLTKv3GG+9TJwbTK2gRzo7eUDwIuZ/gNhGuub+d9UR8AhviHGuhOQ1C5XU2m1t9Tq1hQ6mVDEs77ZjDcYR4wAhIbCjjhtV2lDNmFeKSjw6qUlGiMtdjgs5Z8EiwT045z0RmsykDDEDU127DN2hkI8lVzGfp1DzhUW/55nCEKARpI1JxeRFz50jnANEhw69EWBRHcCsyfv+y7XLQEqJAawWT2JsFkyoZCAiTxIdcTqA0ck50Vanj6hnLP5gMnly40lsREqR2QHU/kK+qTEREab+/poHyS9s6VgayC1JpwJSFC1kF7dEZCsexIu3O6fJL4FCi3qKsTVhlgqLqZUMhASodTKhkICYexMKhCUMcIDAsIV2z1Pg6l84U6nDqZUMhASodTKhkICVDqZUMhASodTKhkICVDqZUMhASodTKhkICVDqZUMhASodTKhkICVDqZUMhASodTKhkICVDqZUMhASodTKhkICVDqZUMfuCKQJ3zos+OWewNDEHhcrYJUOpkJ0JSIhBPW+U1yvAK+1DvPXD/9s9T3ZRLNkup1DMx3ckfisHiid/tnqfBUXUyoZCAlQ6mVCftrYxQ9xa7iKmuwlOBBeuSmGv8/XL+HWjt9ov8mMgqxscB+W+yNyiZutwv2RbPp9CPPTKYn3hY1pDqho5/UsaklD81yfPA4o8jgByh5D5O15em5WaZXzrD2cngqLqZUMhASodTKhkICUYZIJu8FLgBkilxmhgBzkP5+Y0Plmc2bW5GsdzRhQkAa9nVgqMqNoHtP8U/rhm+akeHwq+cM4b0lp7xbSlHH6xXjZCyCGkUm4BDsHLZJTSiUnsBL3eEBKh1MqGQgJUOplQyATZgYvd4H9KGerUoEYhQqeN3wFjuOrJu3AzRV0M2WOoOH7mzr4pRkakg3Hl6XuNBJOpPz6FJegvkRP/yCXuQnMZ4wX0HyV7C77h44NeSwxxV88Kqul98MDgwwQ/wVF1MqGQgJUOplQyD/xuWqkH8guYafOO4kXMN4vhwRS8NwlC00sjQ1KRz2N4FyA6FoS6lVIxbIVa4l/xLS/svOr9Zd/mQgJUOplQyEBKh1MqGJZ3DxGSnWEABvJTjeqmRwvHi1OzJ9Fh4dnUyFIkMiV2ViMYvr/j5PrUN1MDPbbtWbQdTn+PoH698YxxuuwNNUpChtciCRMqGQf+uL01RtbOcl9/Dpo72QGWV69LH5SXcuiLlwc+rEd4FBfbPU+CFU0t6kEDKDRTrvUN0S20siKBGk8gPCGRR4nh0sL3FFKRfzmR+Fc26URkcNzjnL/6GDfRJCe2dXmou6TdMuCvqyotk8U24jotTHfF3FEK+igkmKe4q8uM27n33oiqoafIdTKZ0+TSYmHt7zZOHAmAiQUIYYIBwPPkMNhUTVg6M7A+rUMhASoCy8uORgkyyma6GLKEaqDAc4dHWODCqkvs2mKJFM3NV56aBZlXMlBK12NgYacqf3L8cnFQ971/H9mR3OBNnqe7cqGf21X/8CdOt1/L59xtwrYhmZDNeFvAI3DhOkcICVDptaUaWz/oI4lP44Rfl0ZZevz8ss1a1f0beCuvMhv+hWVqaY35E5c5M4tUBdlIcVwZQfeKoTGODxn90Q5NMy8ZJHAPSGx6djFcGlfJT5aAlQ3iHTFdC+XP7UylpSt3Cgr2TzILssZJlpirqhGq+cAONkk0+iRBaHhxkBwbBUcpd76JJFy8fds9T4KZh6vy5LR5apbkutpnaDbgTqh8Oh2JfBCqN5h3l/MQUA0h4w0kvNULiKug4vtIlZ6j29heGAD9ufvLNjBGvWLxX/c7IAxkUgpmAFM7YJUOplQyEBKh1MqGQf+MvZfb8IvP9kmflnJ16S50mLolcFLBZaLui2mS4twB2nToywrzSgdyJA+BPNWdh6kyoPyG+UlxsqwPUfmwTgaexQrf+Z61sEqHUyoZCAlQ6mVDIQEqHUyoZCAlQ6mVDIQEqHUyoZCAlQ6mVDIQEqHUyoZCAlQ6mVDIQEqHUyoZCAlQ6mVDIQEqHUyoZCAlQ6mVDIQEqHUyoZCAlQ6mVDIQEqHUyoZCAlQ6mVDIQEqHUyoZCAlQ6mVDIQEqHUyoZCAlQ6mVDIQEqHUyoZCAlQ6mVDIQEqHUyIaUIYbDml+ow9MG4KQEZvWb2StE5YEPTalTX1LwWQyRtgIHWY/Dq4FqN1jxbHB/1wCRukGYG4Oj+4qLDTU/mnw6G2Nu0gQ6mVB6zMJ3yPcZmCESVPbql7M3tQuq6Jx8FRdTKhkICVDqZUMhASi1bnQeVaV8AL1mVmqsmDlGAtBnjgPNvo4LILMmtGmC8xJawFL1VBrIr2Ebg33BuFNOzlUNHYymyEpc3mVzj2karE4PLAbyWfHsCgxI5AOMfSnu6agihJwMqovQAs3VjwjlSbbv01V8cG1TdLOhqSiEJw6mVDIQEqHUyoZCAlGFcOyySvroLPV1rQ5TFviVUJmZ4YkJF1XQzUiPFyZEoG5mtQIqsREegJgNeOG8SVIYA8/PuO/2zVkZphhpR2ccNjUoSX6ooCouplQyEBKh1MqGQgIw6mF4M+65bfJfHDb3ixv4P6RYZw4mal024EiSSramZOAIrlmlu0u/w7KP6gukmJLa+xrwKJbY/USF+AzfYS0uplQyEBKh1MqGQgJUNxusG57e0C/7PjLM0YYj2W6XbANUCcSjxVHNf3Lz2sLlFuez5N2EBkvekVlaiZ0jnOZ8P/Tmf91R70SfVfbPU+CouplQyEBKh1MnLLFlnUqYKkHsEJ3ImjLvTkkFkeYk4SH2wAVCOMENHn5Vsa4+Of5hn3VVebC+9KrtYXVWF4S/HXq+oABaFq4nAL2XguYad9rMlOnwqbh5dRqlUMg7W+fSF6PtfkGp8fkD4iOet6RV2slqIo/sJdqC86vXAjqTEEASgj7eLioTq0bhyasSKJIYyqmPEnsEqHUyn0z2B4nMfyHm4ramKInF9gR0daYSd2XG6mjsmO9F4+ajHoK/gr598jiJO4PcNcXhqZ4BJwuzvRcu9ylHuV96pV3/JXKuQWt5ESUnvwVF0yagPRwIQQqrhmtJIHbAdFBhj91+QOzCZU4i6wRR2dOHUyoQ81hdQ41qJ6u4PHUVkPksABkDhkXtutfjwEuD/v7oS5WRk5YBMIhqDjGzufc7eWUiIti7mR56kiZumx/wMC/OFOxEEU0qhkIDSoO4o9Ix4Ki6mU7yfJLZuPGNVEgqmMqXK7u0/wWlgt3MBLEZB4wOA5mFN92mnDxECZSSNdxEBU3euMKhiWhbfZjrsuEQnpkWC2UHFAuzZIGG+/0BEOLLzXWHslC+2ep8FRdTKhkICVDpnY907rkjasAjTenQ3TyOngfHO8TI96Y2yNFyf+lbUymLbVwGqnbcItPnQgz9KGYOPX1EhB7z2r1hPVuk4CRPzchGtulTO7dc3at5m6x8sGSMj2V5ImOMRpw6mVDIQEqHUyoZCAivehQAAdAa+mb90HWozDfk7nHLsNRQL4IbxeQvpLPM2A5IVwfYeIEWr9CzYKgJReKfzeCA0l1U/dbtG+bPU+CouplQyEBKhtgAA/v9w4AAAAABM9v6wLPJe2vSsGEZwCPqOuQwreYt6jmUHJTiUpgAiFBJw3lTw+xlHNatjPSgBZRyMrMRokIgMx2/Wnr1z9m99RRyZRoaMSYHz7O3f2MVX6C1xZwvo1/BZJnMlqJ5MAJ+zOK9O+FxPCH2V5L+sx/8k6sYQn327y+sf7q5rle1OqcsWVBRykJIvvm5ru2POiPj9bolOmO34psPU2YzoJDviVu6D3zgaEj8ezhwplVvfDmQB95UVtqw6pH7ZLe5HGhmsvTmj+SwyodknOjmKX6MoYP9foblkKPVtTv6Fv2QY+XDBlfbGhINz0rVgWXVqXxO6Sd4xWvwj8rqH+Yt+SYxMxKielw+sf7jCrWnfkOjLPZzmqNmJZfIgMm6YdDmXo+YJgf0Isl1TmN76AHIc5p+M2+4ek8nAV7EiCGX88PSjlz7ZOe4H5n+/kN5OY4Q1sWNHwgB6ba2M9KAFkzDYaIUXsGLYKIOzkDKVqkVDRiTA+fZ27+xexSEkZRpDTD258RGiU9psCLunopyEQVLG+Uxtve6l7jkZkQ9q9kqI8Pa/o4QDMwlgjBc2uHhlwDVEMy4gbnOBewFg+JCan0bWa13jI60UGgqFl0NQHj3B48H1FgFlLkdxRXwvNpKTOfvfk1EmiYjj8KWzX05Y9bLc/oyHGHQl+t3mCYIBpZlgd0J8bq1ox8QgTr4RG0bJwxiuqRVtCFFjRTdiS9PB+NOo6Wa3O/7h8J5uCdERQvoeatjrvzPdSJsYLE7i9qUHStD3O1emParpDrpkotXQa7wD3bFlTmjjzE+yboVTPnV5eqSlRDW5rIk2AIMyGO4W9FjgTBq7g43Q8XCV/wGDYvwljf72Vu9ao70e8ja4ohJNWFg1QYNC4ddILqZGvfvm0g09NLjBDxA8t6n0jlycIDidAdrAzCflX+kDt7a1ZA+vZ1wJxyfEt+vXxYJmwXitIh1cA+ykOKj5QMEeQ8T4MbniSSZWXveMkc4CJALWXH++mMp4bJnKU0mdPMdKwFRGGGSp+1Bp05j7dljQ0Pe7vr0770lZV1I6eE4/pGn/yJx50Y4Mjps3U48/xAohe+ZQL7DyBHqW4ksO00Pvdc3Pbjb4DP7r2T3nnA4xjhu2sOq6ETgp8pBIMkPwg/uGIvEwOxJORU4KW1zE40hAKzI9jI8WJw/+trQMymsrw4fkJ24KJ9FtjkQiSwFvQZdV2amjILQdVOFOxJXiwfEeryxvCB25FfE3itCghlJppBDIS65PW6po/j/rNlOe9iP3fgUbUXMyZuAoxYD+hSfKUy7JTy2GTo5fZFL5PFo3wsXItRCtSgMwyN59Vg6Ps1veLjc5UNxJwdPkGZdG1ks7j+yfk+uWBnPNEYw7ns6LAHZJSpURIdvdmqt5iMBfsBJu6NPMyNb5HwxvntnyDqCrX7ANuiedNtbGelACykRdAJHnw9zhEbnevrFY2cxmjj/Exx4MzSXXbPSt19fMAganTaDHL1yfDslyVypkT4DqtbMkOE4kGqHUHTLySoXvRtNH+DeTz2gS4ZSO64eGXANUQzLiBuc4F7AWD4kJqfRunVZcP+YjEVrWC3YfnYMV/xUmSnWeuHldsTpUP8VIHl4ltz+elPQgjqpachyJNAAAym/ucQplxl7wvSDIQgu9F8nYDgtpnlEZbkHefW6TT9mfGz7gVbD8fZp8AjUT8+DB7eXecj3E3sI+4cLoZiSA/LFgQkZIvP6wX/p7zywG/86f+eLQSgzV8eMrRd+KQ+yeulCy1VhSS85QYNrUXUQZVJ3UnUm65zHlaAuDOTizOyVkOuaUGYxIyNDwUNCrYJGVW2QTkGe+20wQnkmP+P+KVU8gLo5C9slONa4t8tSAfRnvTTFdE+xMcgNq2BhdnNSP10279rDpzBecxUVL8aY7lLIEUBj3jSmFS77Lgvdek5d8y0gmLDk39hnhB2ycBpPed/nMddYU4YqHC+Ia6xiANeJYiFetVFki495PuvE8rmjdsxtevUViAZDjozcMNtpC+n8cOnDjnfbHdEDQ3xru28tGQbiJKUekACV1TGpyGUWt3z9pwup+HcMAacShHyJpb0DrWmf9NpnLwYTvQ84xCtBDSkvagS3H3D0wKep9H57xwKnAw0+AVNU14kqkqVPlHswZJUs2JDpA1Kgn2doCuUF2ZKI9Q3ImRzZs+YuQBD67rOUB60LL43/qAnlksWloNjeIZKKURdINo9oi8jopFvt/Ex3MSub3rCgxdOZ35Pis0H/9HBKyahJNF8luZMB85eDM0drV/bWuoqRh3lWMW4FvEeUSUofPmocTBsIefOGEEj2MqV4Wuwzg/iUCnLWoCoUxTaIdsfMltvgX6NdorL3vFDc9mkt9EAR6T8LJbcsamnFl0b5uaKOrzByGySEAN7UHeHNs0pwaRrX/XrMXIQABU3XMo1ju7Adn3P7f0O5gczrJd0FbOgwRjPnmzzKGL8Y4J2zXPyyJ9CHzHdMKO69id9h6JSLXwFrg9SAzD7IyAtSStQ9qCJXknMPfX4qp5eoLwZlerNwiqOqQr4fqr2ptL1S+MslGOQbF3tsolsK8X7/vB552NHSe5hajcc/zN0vW4IquX/p/Gs4Dp5LIM4alsZlbLoCJnjDLyF4IxG+YpvxvcIU/yOb0kW/9ABIHdUlE9qZ3bXoH1zcqp7auOv060QxRcm/IwFEC9PH/MGIJLFQk0xzW8yYfA3qS7wRnWPjSGeZnzqwiw9rtKrq033uJGVvuHFiCVKT21pqQ2f6150yvrbhWLLZFt7Yv8h4eB/GL0RJF3exuXuY7q/1QCb5nn61Jzsx32r+98Cv4pLo+1qwPiJSOI5O1rcPvYe43bnFqQ+ovGGP+JI5TyWkN/KBpaHmwYwp50SQrIBiAwNt8ttHFJNdgF8DUKIBsyDe4qpFtLqatOHk5xITID25+XKRZvmobBqqNTOUJlZw9V+sZCbk/dblLYQ2IZeEXU/eltnsZqNzq6gUPgjvxfVjZnE4o5ZTGeZRCyK8AjcJ2Tm68GL6TR2aX5wZat0Y/QX8NjcHoEpDUZ03c2JVL1KnkmjfVOyA9JRPfj9NAjoAAZLpkx0WgYoYuIe2qkHAPAldXcgNcfAeT2o0ZmB8hZCS70MwAFkE9THJ041u+06QvM/p09sM5NbswkwKgjn5Eu3o7SOV8szQ9quj6zVZ9lVONRP9VznvNMlWV9TV6hfWQhM+9MIMllQLEpwhQcYGmk7JS9B5f5qFY4PfIC6EjQ7Rs0PMDgoA5SIpZOBQom3kL4DiJEzBli+I6iYuE80DVm1mKPVReWYi20xytkBp/UAAd0U0MATwbh5pzaju3chJXdIhpB+OnoJI/ctsiuM+qEtUiLQEOJiX8GzoUlM9/DCvrIcKSNok2KRXnPkP7tFB8tjC4EGB1H45I4vuLrHn12TkVWWaCyFB7DC0xghUqobVbuPGnPAcbLnEYudGIfbgobHkrgbXpBmMCNdQW5gbMVpUMvgIqoiqnvEF/ZEaToB6E6sgaVdiJ68Sg13Z5msWXPaTE6HCe+NrKzGY8y1itvA/OcCe4xFhO5HMAAjQSYHJjZgVyUggx8jQS9I04deswKMloaoIpXFPhrf9kObmuosYeBViBr4o8YvscVRmTxSKtF8pGGN8Nj8f8ZgZMsnpNjV4rDLjnm3UCZD53ymIGtaZ5j0WzagZMKpefSrkroHdfM83vSMHE6C64WG1EdkpF5KjqEbpYzr0jSm18fhfIrZIZmyeqhrTsIec4l+hDWJTwlCL52gnA/Xz0Grg2szkPnd0uHoOdNCUDf6W3LvS7chDLzNKsuTTXlRNOaisDEE2/yOuLoST2bhhurKEPisaNrwAohHAREO3mPSHan50wxf+ke3MXg0yDxWCBHaVJ+BNyPEu5AUf7Xjvi9pQppH97poX3YYN8jqvdsNn/DcSu5dhLajKpCPoTRDRq+YDF0r7mrp5vmGhQh53ZW5Vha9I3En2JgvnzCWAOmcdlO7TU5IAqaf+LbY5WQrfsnm+zgeyenG65rbK1gqR/D7dxoeUyd6/fxsN+UICpc0PRroqIZM6GxYTrndbiZRWodfQfuQkoYXHjgB5Xdz8eUK0nujFTWtmC03vdf4/ZqwOy8VT6/AmRVWC1ikpC/e1zm169Msiigf+kp+U9BmYs1t9q6EY/6qWT5PDXro2EeFNyS+p2ow3jQzk6dTIVHzKm8yxU5Ju/FlOSGcaHioltUVP8BYvY8MfV5ZjXMkBFu1b7LTcu/4YLO2YcZ5uqqbkyp0kMbx2xz9P+3Ldd9SCBRClYntPubzoZHX+0hbOnMllpKZAYGQ1VHMWGNEb/CSXM1S/FBptDy4MWjViCE+Oizb1OlV41uakddG9X09GpeC58fSmNp7kmSCMzjSUW2TOCFlUariv8PMNP3TTNivDc5oyA+nRsZSlHwVU0Laa2li3lTehhsax2qDiJrutLFrNwVJopVF+mlA3rqDvsphVmHGVP3TVr7u7ekUJTChLwETBBhAfnb9sllMMTSSQbRdnEtaPay98LnAYKHSWSeHYA606JOa+8azgRAY7CQ2ISIPDNsJRtwdXaKZUDQ/yMaVApB6bdUJaH+uUe7qe61HheGeXuvsu58Tj5Ob1tLp3YXR3bbSnTHzBzl9YXo5UHxYWky3PUH5679uCFVLEyHEs879aZX0KN31vqmO9hubg9MnQuIkmrnAsL1bYjo2HCrIrQ2QqZRobyrGH3cfMHFm0f/I9l7o9Ti52bc0T0quiGPdxOW+724Pn3Ph7KupOLVzQLUtv9O7TmZX+Jt4P/AyXGQqjt7jVKQ7Nd8Ik4ZutZBMmmWsoBtkVzghT0X+HLdW1SWuMsM2HtLfBH0ziFMid2D4w/fq43hiEQyg+fkP2IifXuV8AoiNsfp9NgGzrKX4f4U6VidhBVTsU8cOriiu+pG4hRoWQMvi8tGnzV7MJZ05fkTrfhOHBqspLuCULSo0WzT/MYiZXiYphr2XLsx8l6CdswBlKMwx8GR75UroMOPVkfrYhg5URiBXakadaAj3lV/i1leXG3lLU4ZnNwkq7q5QlAy8ETJ4Se+9nP21YmewFnWHBvhttfv+NtZHgmopLHuUB6n8WcxJSzfi2f6hyesJgSISKq/pcxjqTIRVSuBB9t7Cbzyu6l1/2WmJ+5zEOW5vuoIyapSBDtwe7vZZ7y4fP317sZm8Ywxmqi9UkpIAU3OvMkN/CJG/RIJL7iiE+3KiLuWGqLupHisVmLBx13Bxb7Eih3dkD/DneFWBLzTz7P1ILqiauRMUKi89MZ8kMD3lyddSKOlS0fWPH5rak18Xve5jbf6/K7ekWY/q+WuVYJ3Lbne/xrt7C+lFlVOuIJ8pqg5Yh8Mf8XBgdOhHjgfpt2mMYgPXI0u2S8d9zS7hPJXRcRW497D+h/m7oejahx6GpV14cYeiPpa5MoPV8GW6wiHKrDttkvDM2s0SJ4olqxV66scLRsFyf7IGi6iDiioT+zmyzMGdxXLBtlmvFUG8fLNmP74uFeg/dX0YMrCS3lpl+kfEvZL6+K91s3Zzy7aA7SBg1gtyYYMk+f6A8cM8GugKVTIuxLj4Rgr7fLEKGo3kPhokPD00AU/4gZ6HE154xQjlSC01OnbTo73nW31Q37IQH52HB2uBGe2h3x5+GhuKeYpdnNSSa9d8AE20xisaXHmF3lFUQbBHnfjy9KiqZQmzJbIa064KOlGY8DQgbTfEM2E1QmugEeBK8/ocgchP2PD1etTL2sg+IFKjwOi9rQCOIfg7HGhtCN5Gg4xOsZrXQHmTZSXxEZdR6UzbPCz2IuqqzD6C32biV+HDtk+ISp6Qmakw72rfBvhrAb5Oi9jVoekX04ufk0+0QYXdafkgWnrH25PZpWlJnYVfv2y+ZuPN4vtnfenAi+pQqbIi5RopiYWvQ8+kN76bqd0NJnwenl+fXMZkCSTBCDWTzCOUsbmCmo85Hf5JrXJJe/k/uiAACWU2f+b9DeFg3b7cQmaTG4MhjxJE1lF+Rw50nPgLaR8R5c6zNCVWFxZQtMY434JrRpPTFojxFwNVSqs7XRQ8TEb4+zOFUYlyujDMGSGkuagSlaNZeNR/VCimWq0qoh4IFtcbxdFIu8vySZhcdr7znMms8dMjrm8xeO4PQK+onSxp/IEZ9k+kCtxyti2TyCb4VeEdhRyxZQjWbqh0QCMKgPLY2lyfVFN2TvrURaYcLsLOaDtXPg+TJZr4+L76UQYXzm9EFPuFnj7B8q15zd7EwgR82JNb4SEWZxh7/b9h0PycdjWfbgrffNYoM0OJkfPz0VWudNo0wKyN+AP3d6U+hn2NDWmq1yrWhj8mpYHkx8MDaQk3IXjk90VmMb44TpyX05D/UWsq9/yblpJwENkbP2JYulEClWOpZaJwit6/Dl5O+7zSwMr9v9c80ex+wLcD9dFfSfr2RN+cSp//Evxz2jwmADaSLrX1inyf9nUoFu5e5V8bbnBbPOZy8G2X+Ak1pC4BRieExN5uzaI8FQPrWBKoXid0Dd/iPg+jMnypdqlwN/KyCUu9HTIdPpsfeXdHZOb3+kvr3c5d0j6W5I00owi72o6s2/98Z9c5jyqJZTnOwQlM/NNBUdZ4l1dPJ2xn+Xo5IZlR5q9xrukRctMlyTgjiO59x22hKDrFBF6Q5mW8/evHoWcQ9nITPsrpRMzZO3QzqryqxTCL2ltC1bzOkTbLKFG6zsnZ8dGiyI6bXp4Hx3vv3DRLezFkpprlWq39g4aeG/wBdtZchz3Es6X8/CZNFbU0REfB/D00ZT/8zUzY/NjZ2pTLFEUcar2OpNRQsB9IPQGNG5Tg78PseywzlQRXmuCPwA3dIYCf157B/sKF9/VGwLrfyLfH/3A2zQjWFDtPjptHun+nnJjkvieYqHdgH8HqKwvN6NZ/UKTu1fzkS1V6nwyPkBisag/Wjp4n5LIxQNR5pFvCWeIxQAsRXgmQisi/z9jo59wwYQtNOf3QHI19UCHxCSUUn5pHttrq9VjkAPmJhGbPdtfWBLuH7W8hdO/dbNMqwXx1C44Y+4wCQCO33fQsfT+/SMaTh1pjdEKUT637IaSaDUaSoVTjeGTAuUszyYA+J4bZsHuqOcqPhI2o68dWUBXpy7PxxThnOlHIQ5GYP7Cl6Xbo1VEM79GTuardGw+8rDfDdSpujYnvfwEY/MMZAs203oSfnQGwXPJVUTUrAVk5d279g/gi5fYcypaeL9qQ5oWuJm2vWF+HWLRsCzZjuYxQNgCA/gDIim1mCMsEvXSQAywmHGt72z3NuVI/4cLFDe6lk+hPGl6QWByuYL8eCMj2ATxMYsaF+DGip5MFudESTYD5Vt8OATEVGkp+hiQXspZnkwC4k0Mk1YlOLUZLAFiNk51UwxLnPl5YExKQ8McqHPq3WvUW8rMC/jvL9g5H27O0lPzhEoblO4LKaUFKLfMeEobMT7a0qxPavN7ZnRAJO5w0nUXrVZ/8uJKzwwIcsHLVx5pvymyUNZeOcxYjDzKxytb+6gQuUR8ZoXSfq5ZZTca+zaTc62PiJH/To5Ojw+rGbAxlO4tS2bHp//KGvnyoHynYbDKd49H1el/39hDqUTDZUX38/jiTM/lBdSQpY+FTZlag/XYj57jz6zQPyMdJeqB9B8ZTGWQC/2sfcY6ciFDnL+sjSdB2YatvCiHBIrfgeJLvYREnUPrPJwQGM9LqQcpWvTmw+C+HSFanh1I4ZyOY/5hF2JaGBZantOoj4FZWRD3s/1TZ4hiSWSw+1mh7uYhiDdxPy5zHKyuAVArE0SFOYx4NCP+hYLPcQKFk629Qx/DyVbq/jaIL3DtmNo2/QI4yikrMiClj/dwhi+oNcAp/OnARvBtcCpGHdrxHtAS5v2pn1X8LYaFVW3aNSRBaG2xMLTb0SKQXFmRc59eOBGYaBSoJ7+DCQWz5y+Cd9Wvd7fAU3xZAnXlvNpvTT1J3/Id16kKT10Zz+LnlipzDs0Jvu5rcLx9inMcqXGsu8aias4odx16mNCy8Jr/PYRBo4Sdw2/pAOk+9BLtLsJIC/1f0hqqc3iWHdZJMK1KjKdxzosGRBfENzdqyE3phWeEcswZJmd4dlvAuCrL5kiUStwGceFp5/Mu9/7iMTahcojdm5F+qWUyM4sWcz+Z37dzZXjJ1zg3e9X60N1qfxFqPoUxnK6JBRD4M2i+LsIpSCGyz4et0FSsu/EJkheEoU63b8EE7Li8xshrinidTeeHxCj3VPICt8zHJ3zeg+9/ln+ggwd5L00k9/Bq9JZ+GPzBgjvIJ7Tq68lz6Ojc4xXVMURxsOp5gg8XXf/7o2HYCHpYg3af9TrOA4p1BORU4AQBW+V0cAomJp/NIo/rJrNwJxXeGzMWsjF3FqpV6mjsVHGiCNTSalmcWBjg3X5AdEyxsSxqV/7kzdM8DiguY7YXA3MQGNNVWSKrF4j+wyNxQdKCGeakNKnfv0SS+5UE4OzGCRdJ0Dk5oRu6zvVM97uDLalnB/xiA1T/sW5Wt+sx/iKAIqSjr5pMADBj/9TzPcjKv89fDo/tlrCpemTUgpYdDwZpBAhq7tTgLEy9hr/Jv0nyWLVUnPaKM7DIMbK7svy2b/LNmP8iNRS6fq1XedmqjepgrttAZwD2gDP1cunSOOeLwmTo8cE2VU1gZI+Rlq1HKpgBxofvrquFw9cR1gacjDnhNFE6JIv+ifGRM4HFScWx2ru1Gogr/x8GHrEiJlH8qUmCbXXrKyyZDQpTsa6+VeIzmnaKwCjk1/M2+Qc2uxM8otEpKZFKpKs+ArkgOV9/XLT+4Wwh8kfCDvLKcccNXmt5bdo0m2p8s+qncXOhPAlGtq7q3jiAf0F+q7lpHVchdqmQBpKiQJVYLPDPmUZyxhRmlejSnlx+YPLuCiDsFRCxLeIMmoWlTVV5I4/znWRTOHc5f6FLLP0bgwMLf3ue4cJIs43zH2zcj+DYg48PN0DCTqCdVs3g4jTlBNnbL3Vrv6cVLYdamMPwf0yVlGkJr8FrbRtINrQw17ccTOxKh7O23JgqpoerGdtkj3U+sSrPbzhUNEVX3SVeLHDEB/EnBADTR9OfXUniZiNSdLxnYuwEmyg+o+siCXSVqNDcFmyYWkWeWgPRn90aLICQPwduaozmoutPiaJdtN2jgf5U3taVxgeRLd4Y+6gsAiA3Zck4RzJvEZ5q+a48Rf+bzzPlNhS5Zyxs6hdMy4m3352B55LxYsaLsFTurMkwNAwZLbnqdJLiJZxy/cWIqBpa0K3Klp8kbKOCLLo/XzHokdGrCVIc5LfjqiMVRrg8ZUk6OiUycQK8UcIo6qXdW9lyUvoGOqhbe5ubFQVLWPNwC0kyxJMm15FP6kkxUAhn62ShYSt9lplms/3fk3+tGL+lWcDhEQKGwJDTGLILsYX1+fmQ/6M2Gksj8IMN6lCHZTUR50Yjg50GsiyL5uNNBVH8abjHtrVn4vhuGnE0OMF+LZfYBB1O+JKtHWXlcw1tC49Dp10CjsHFX8SRwL27CaS40BSF4f2oYXstgEbpstfl0ZU7IyZ7tM/+EbLnce31n+t3G/ZKbMAQBQM8yyP5plA2oOiCa2s0NEY5RVlb4XD00Yi06Vv9C5d2VFEBvyX2NwcJUf4NUDA+1Fdeer+YiYYj2Y7/j1Ovr+yldhhD7eKFZ1TyWRgsSYChRAy5Q5skqhhYJsUqEqllAOlF9qR3It2WyMqzWRFEKXdb05bHSkxaxHXvyUigt5KwyyvLE7lRkNvB3FtPfyuJSBTnWtIIhcuOcmNd0MdeT6QYMD/GO6oF/AqiYFe7fy6fPQMrXozGrBryCE3I0wDXTA3l8lMGNDa6GC2pQ7cX7mwahhXeUBI7fJMLCf/VnsTBnC5aSU6g6vMfVAisL+Py2W2vimCg1C8fGFFgqLRxI5I4cbmHenyyDdFziAyTlSXnDTueP2+2d/bC24FYFemxmk68NnuSRe66s6VkJpLXjywv85uU9gYqdZmobdm+5eiTxnuRcptK74eVfUqS/I4Hh7KXkoyc4sNZN8Wt+c4TD/buWLT8csB7UnF4Q35v8TePks0Zq7EQKMn4Uqozurwucym0ZNjaGb6Sp6LvM64EWnjRYEDxGkP27Q3bSJ0Oce6vIYrGMTtBPtDABa4v1vlEWzh1cdpsh3TbyRLdrLoYg0cFsrxlf5E/Rcnuz/Bxt+OhlTFTangghB4hO6NAH3lohAcOeDTTw5UF0S84W1NYivN+VKIQXqoMXFMo4hje1sPAT5A1GaByG5VgYvRkAy9cVNoPyu8smCTnKiQ2lCIB8fP0/7Jvu+nH0HMHydwLq71PZTOCM39FvANZNggrdT4IYAs6Jy31kadW9JIvZ0lSQEAcjsQCQnhH2EhXCMNGR/LGDu5IF1YaqwLOUEK/G0MC4L7dSIIT9wya+O9RfNDZc8+7rJLCHIPIq2ZoTjrp0UAAe3l92fHek18O/d2BDTPxuparwmfwjkp4YvUGmtwLpMCRcRxMFctHUJyqoEmhCDmgrpoEyDGOJb4AELntFUYipCL3wXkYQ+WYq7BfQCfThXAHDjyA7TyH/cQQSgAIqi9pzZ7G/HMA3kCdGB2IkPJzrC5i57AHdqDaMNXrn29VRS5s+FF8GqYftCcwfffCA7ioGSjXhOZV7NY8cB+4GiwxgMsl996ofdxaMilLHqp8yhXoBHM9Kz/4OtDjvDged2HDmGDy7wYF9coL0c8PnlKWH9Uz3WACnOx11nphvooPtW7IywV8CIXe66o6OkzsZ4YMOkeiNT+exg4c3oUtZMB/rCMmiKDZBykyCjdJ6kcET6URInBl6K6HS/dthJN7XFqzNX2Vm5BZYKMyLwCT1dohGeI1nrHSwDiUGW+0nGFJOtwERG9NIIzuAWwAOg3rqoCm14O/OylTQn//T+9UmbazE3bivdmvORAztj4VRcH5KNh3RbdoRmuPhzFMqCbhQnsvhDM8ufN0kpoWMSDwLZxE7iFz0+kGVLpPpGL13xpLdsXv51jAuQFWXuxVeKrjZloBWwOw1Y9HQLQmxGUOQG7Rqe554b5YPNHETZcwBUv+8Y2el7vlt5PqeTWyo/wfPMDzwAAAAAAAAAAAAAAAAAAAAAAAAA5xHERZDs1shv/44LKvQJ5I9xUM0i7Sc1mexPLgYQ25Bg77BfOLnA+f4KlcPK9CZT7codHU1dWt0U2m7MJyV0+k3We9w1z/xKdPodW7thnJ8l/owYK4yNhMgQrwEUyGJWwoeOipeTGI6Bue5+GNcgsqNXyleTAt8Es9Hmp4w9jKqdYiFOm3WN+Zx//Ehj6R05z14l3FMdBTY4ywfATwfR0SUbGvcwcg1tlVeTutD2j27DbNYkt1bHSCx2xrDbZFMfz+GJRzXkMfH6LWGhXz0Dt4a9Vsk9sy3fy9Y+6JBtLF2zHsfuGA38fN6qnhLl4UZ4NRTqdjdWeGz7GjnBmg7fG2vHGypTKfjgTI979xocc+zZXbjlr6yMX+rGf5X3Uk679NmPesWAzYv30pdbVlboEdpbbZWkuLxj74WNjdR4da/Uk7T/+jJ2q0hB1imeTgqbDM5wlbegn9bgXutxtXU88HggIniUboVIxdBQU8TrfH0Ziqp2HpbWOrTRfDPap+90106rsoyVS0Yc8f6oqRk/GxAoWCb0GL7xtLRRFXQjBNu0zoZ7GbtJCB1Qh5XoTKfZ+GHkOMiq04/meSbJgV4a1zzZ5f7ygKORwy+EvoD2kOsBQ+LoBUR/Do0JuaDT4VxWOA+ciXx83+7AWT/l3lBIWn31HAAAd3y+PEAD8mq+6LH+F2SKEcsH/6jzRUzOBNp2aARzHGtNX7/bWO64vBu1Slmv0BtGIWYGK/Y66KBLRx8RsBjF5DTO/x14u/eYi3Mha01B1iyR6+vZg1nWp0BvQArJ8E7mC4+vfwn/0YERn6xZxwBnDygWhMt8DPnEf4/ozYZr+kFOl4+KzwzasSpaqh65t6AtDlUwJHiP8t+vLlA1ES4iWM+qwb2aGQwgpBlOUwt6LX97kKjkfi7o7DLOsmhipQpMfsnaiMrJvJrBN/jaOIkYJPfWXekUSSSUeFbVbe6aanZ0KGGK2+ah1q/PEyl7QQuiXFZLetd+LGSnrrhR6JS3K0EKGVi1aJ76qYx9bCCYrqfAOVsNdb2sDxVdYTBn2FMvKvMesOowI1/QcoGB/f1lyO1Aw5G0bdDKPv5021kr4K1YpBx1uLLp4gR/xMQGoRub3ngg87sd+Sw8/f94K+suzrVV2CScaKEFp2stEIsXAMBodDf02pvEAuYpxnDcNX0p0PpluMg0xPKPPA1IZxaaeAluNnfSg/DwnwnK/AgDDksBUKLQOyDOnOSTniWOyyAti8Fn/osMT8n3Z1O5yFhM1D2q6Nb2kZStqtX2L8CSegK0yktpFoDRDvsZrLhFoeBL48/GSBYbReyZqwp4n6E9V6GRi9C6R/Bm+xO7ENIZUZNmgCrza9F6F3ntY90ouG06PJv5Q5hJ+QG8OIbT5/4RBbHG6cL6yah2bS8/wGgOqyLF/mv0+vSW/oJn9VSMiBeUob84R25ZXWeUO0jxyA4h2bb4KznZ3ZnZoBHMca01fwAmZJSSGCLgbbaKY24JdZY8pVg6ifpota2OMEaR7yBWfPonHbNa4Wb79dNY8FHMPS4pg1FuoI+nR+JqVgWEC3gcGtyoLhcNMay2dna7KAtiObCBgak/ekMIAand+hHIUEwAHb8pvzjFfeEZcI34H+FgOPUBPiOjnJK323lPbO1lCyrrpAy9tnxCJeOb8/9B5uC3hwTlJUyyK6mDJaOmxIC+5QjcroMCqWndGvqjG+JCu4WTfZxNWvb8Bp7YRk+D2sDGACsPo0eHpGk3FmYE4a/oTL3AtgWIOgme39X5pEUbfiUY0fNfMyQpnly8v3ayjAY8ptiayYp5mgSu2SgUGp4r1WG255UGeommlltehxqu1RlU/bzVSZdSeH9qzFQVejBJ77D7lrSpIwOlEp5d3oozmb4eIIW1HyJln5jtH4pPGpPfW/slDMKEEwef5ivTCAmut2Q1ZlPbABX+bgVlNN8l3/DFT0CY2NuxlwwVbkPUJxSTAVQRiiYs02e+GQs+KwkIX9QAzSkFZI6uJ0tGaXewkJbUGCaKtsq8U2DPbUZZv/Cg6Q5wLv+xW2aVNdk6J5EGRV3zEh17TWKpTCpuGLuZJubHi00ParpiUSHXwZS18DU+vyVfAl5PYLhbHIy7xu9EGdQcGxIFOzgk7BiLFWxQaAC1ixHo2ZrxjBrZlrn0lo1DCvMyTLXjjRX7CzNUuzeIPk6rVLYTMam9p7mr0p/lHgl/glxuNnc8+XhJjpQ7pxV2CptqyZFp33d7GMECDV3TBfsJfx6eKnycclSYXFlkWke2MGljfKho9WUag4nkzKwrfTniFsw5Bqo2xViIXKYXCCnmHKdyaGD1TJVq0HS4VMhOaNFofSmZIdshpGyc4zgAB3/TbWOX+XbmGACxxDBa7JL49TkPNVsRM2xjdPAQpTDQWEb7ujlQtu+3ZlWLbb4m+Uh8e6vkFT5Xcaqjnwo7Mibh7iTXWDSrKNMxWT0jpTGaW9YhV8fInemEHpp2o5lXCraF34lyBRxbd+CUUe6hxbM4lExb4XNhpBef0HC7ElXph8TrH4wcAcBWJ0I4y3uVWJQb9KXR3xRXVWREdElUao3AJ5hf/14M7fcRbPx2+w1Jh9YsxwqCbd74h5KGdx846onmix3KOwlZCVW1Qx7fqdRRixXLog4rWuCLgunHp3JU8a4rO/HVHBAmVmMzRaUrS5wKzSc5M2Xo7Rj1dkNcYo5oIRyB6OxIjHYIIH89+bvqePS9sF0bN6oWw+wqv65ow/KtELTwsQDvRJSlF9awyAiqa9l9Y5li0yZeVHR1VGsmX4axRGUm3FoHDlhOIQT6fXNERfGsXEAn/ctu2z34osIP2kD3V9DxcVvv0GTIenntaMAbOIBAnZESqJfj0rsv+mv02g0v+Ng/xnx/bp4tAL8Q6FLr7e5E+b61oLgZ/Urm0gcQRHBuP/G0X6cMUbvveqIX0+t7m4EBqdRuw0xatnhtQX15/EnHrkOJyJ2KDykjlE/4dcGSxGp//LAUXOa/Iuu78yWDUlmvfjjwOxAVq4x2JaWKh7+VyDpAx1kQG6PKroZ6EHDDjnu4KTJwUMfAcrX9EyWgVbQEFEE5tORNz5r6RgXWBRds+3KIRSArpf8JuSpzAGpWV5wlSqUhypsicoy2BDHQd/QbQQuomrPyNw0P5awUfXv8pF2sT7QlKOvxGoR/m/Y3W7SF2JUyrfKRRwVSEFXrHtE7tTGuAVkwZ2Mgo8A/91tGtKEQAFqykKapKAZn7txueCl+LrMW2jkv7TcIWEBjwU/AjvJZlI+nkgR7uJSvllSrTe/hvSVDuviNxf0pWA153EZMPFg3/iyZW7/eQb70rNFJeRfl6B1rhZbTUM7Pq3zv3Kkj9St2j5njRgQ+Ta4dWPnPb1+ejBGrukrwrlQ0BF8FYTuva4RIxtaOKOisvQO3tQDskpb3mXpDnySYRubN21v93a2KeZZ4JvPBFSeYXFZOIZfB+Xp6YzQaX27zKUqZaV5UWR2tbp8+9OEKxA6hezWzanFiV1W/62ke/GKcH+ZRiLEsMt/sRPfcofqYb6eqSpBfnKe54UWIOzBzvid1o/YsYDMqClTQ/dGCJghjEYGO2QumG31lnuFFIwvXdqtk5NXYKYjd5dq4UrP4Xu5/aaTQeipAAAZd9EvoGLE9t/L3QRxzervXdgRigrNFzqomHURomKFsul/gtXsbDxBxPpdX7hLQ++Cd2gdr5Mu1fkNHlQkojy/BUtd0ws3xfMwDmH2OT/bCkVJG5VE9tW9VfFCvyqNRMsC3HrgVG4LteZwOh2/M++BhzTDcsbsgqHeyDJv5Di1p/0GAaA+QpAJSr+HaoD45CtgujkJMgSsZc+3hxEK2IPDdYoOwv6yVdywUDnIYK/XdXMyuV3wJGrlW2UCwxvrfyTU2u5aHkqMLpkAdF12HuB7LnmSk8V8shOjNSEvaG56lSh2BcpB/iuoSwQNR/hqqn+zU9euKK4GnTnhBuhBgzjlPAmcTsnV1Pwn19FTwtBjfhQz/plgDo2zsw79pfvyx/hAMdNAG6aTZ1QpywyuoCOjzpZSkkBtlmsqN7N6g9hiC8ocfH/FEi/oX4xwTehiw6LXh+14ymK1OpquUPQXj5OhcGWit1ebsWtbHLbFV9nCkDmGIhoSL3xPTQ828OIaWknA/CZhupFME4Vfmk/U29DEMrIX5ON5kqoVqeLMGiEHfnfQ5Os944M3GEGEXyH3lQnBefjcJRboagrdAjVqxUCYzlXfYNprpFZ1FqcxJ6kdcRia8nOWodSVGIUZfY3m13AByysyo0vnciasvYFpafNnsb+W6ErvhC4u9ccGCeFqdwxgE/iCqFirpwVH2PIs4vTlUBJNa4sd7VGYjSfPVKJCki4PasDUqR027F1EtywL+or1Pbzv6RB4I8MIF8f/PHTmtbL0/ief7MJnXcfx9ekeBiKCy6i7lC2jnkzkBld0UUGwM9xOnqyMgeMxuvEg/5DQHOYDg9GnckKAXjBlfYPexoAHd3gNlGYRBrD/f+b58IsIl+He9WOhHbNg1xc5btuKK4rNfBQix88snP9qB+zQc9q6EV/RAzjw/ACMHM+rYbepe/tSwFZN9LuEQZtDBnPIPkIvLM1JxohmCiu2Ic7noJJ59WefsDmV3cIpedcM+PQujsIYGydpwl1XmZnJaZWZvhlGUgYxh7rSiiaq3SNSoEgI9+EcteOdOk+4y1Kk/mvmMnv/UNNYWpOVmxKjiWpFN1rt2EgUhvp8+4GUyW31cT+BDQrJmF7FbgN+T+ciVWWy/AvZ1ML62qlIqC+lxlMeJ+NvR9wPaQfYLx1V2y69AyMzCPhc6korEWfiP71hbixUxQSMWmBhPyWVtvSjakVHFeVTT6qSjkavn48GzMbgZzp9dRkaaou/HbHK3H5cURof/uM1MDCc5MvwVJKF0YqEI6sBgXLV3Xyf+gQfpZUz7T+rj7PqhR0H/NLHfLEu/yCxbadvala3BA8hepbxIzwuKAl7d0x7UfAL2bNmaxPCLW2bTFfogRpDywKQzZBf0f4qATpoNZibzPagGBQFA3abFNqCUr7p4YDUQ6EqGwNcKe9pn3ytlVLorJs+4Sga3q9bZPBQUBxq1AvRsMPSSvfTK04n4XvKuoMmgJUM88UCW5ICP++zkDXplCgnDifoIwSU4jplBDY08PqSYEmT7vVqrbL2i1gT0tJJDR2W5eJqj08NcDx52whGPuSNAE/xnvfBc1XSkhXc9FeJhEtj66CV+4G2W2l7F1DQ69+HiOw9Awbaw13axN5BZ5IugxNP5yu1UaYZIu3YzggcKqIzW0jShr++Gi7Bn3OVzrf7FV7p+K50ZYsQJ3YUmya6ebxyNa0OByBy/D56hNnzl8/iAe8Yc0wfk98ss7WwG0pYcbKJsbkmA3eIcYWxtuzTJ5JxGy8rV53XcYRLLDpl/fQTt+hDwMqMN58pfJnDLxybqzOPG2auxQmWvyUFpwADSOpf80eIE6un/L4lPXdKGeOc/e+KBaaF/CmyFDr4atmiF42ZoFIemkFCqmhipAaCyC8couYBw0JoKIqHeq80JjgIiWP5RPIFkm8OF5WBOp5bKGMqLbVzv97bMz9mQq2hkuvEtNfYspXyBwtby3squNam4q5zzln17mdKG1AtbRZ6nzu+88ASqVRNKiZcI6sEg1OUDoig+zjXyIf/qlXj/6QfqsDp0eejOUN5eTv8oZHheEuhA1qRbYDaM7BL5e8ykJlrW2iVKis6z9Pd6CjZ8mnUMcnCw+AOGSSx/Q46XadmmGH7g/MkmQCz/PEBwh3UTvrHMiVIcIUSdWhn2pBDjCZgkrlCxgjkPtMgxZCPifzF4JLHGTHtbQkSTKWOSvsPG9iBWujJhljwFHkn65J5cgvDp9M++qDpP0nQRVrkpwKkY0JLg5nFHc+U8Ag6V5qITCoJbaqNK0ASuHZ9gF/PIcNjKlYe0ynsVXQSxNx3r7ioXQwpiuZ2T8DfMXI8ONT8EeJ3UJp3Yueis/CZ6FtK5ADuIPju/Ub++jCPxuOdAxDJM5fCu1ij2NmSOghte87hf9H5f/LvBhStSGYiPII4nJM+Y1aSA7YoJkQCmNGNzm6eom9lQgcDO/dK4CyiQPjbEMjsUOJWBamXCWRRwALbIQ4lLZm/IIvnMk7wgIxPG8DjojRO+L5ls0hGfdDMHas3AvGf/gUD/BQou8k5Imk0YI59Jyqsb1O0rh/cXyzl0v8kNF1jZ0SLv2swFVny6yj5B4t4aLCihexqP/oGqwo7hW8AQ5rLjkONlRjZmqMIMKm09xnU8AUx2mP2WYxrThpaUbL0sivXYuPH5Y8mxE1W9Pjoq9CZOXyMRh82zXa6ry5jbrYolEuHIWQdRu+WZcvG2TfKrzmDOoordN2OiHCIspV7QRR2k1sbPkX3zu3DbU8cZP3Y7zOLQ8eiq82BU9k07JmQNmc7O0pm7IL/2TlJNwBNQv76kXbs6zXOCJhNaVjgN6z0ikXR1SV1svaWunug7SB6az/iv14OLeMnqfe5daWpuw8gNIamZ21A5sPStNACi2WNfl59TB6FwPmxtqffwPtbJV3Jrp4Ulo1q4a5ghj+DXTppek5eiwHDBX0DdhpNxYvw8/5M/25fzrHTCkluDV14U7HUH4DsP3axnuTxXGHhh0jKeWIXV0WFL0VvZprmuZDq9Z9oZ3YKfu7+XykAQY4ujM//bVyrLVMXcykQg0i/w23sxlN68QdSXlHn3TrVZkOYINB+k1nzut8GZ05acyhdHiwZf4o2gbmLorrKDvyoEhrjQoakQ3QWg9I68bXMA7pNdKBS41STI/RU56BiLng9PljSGQoEfqItvbzrA9HlTEs6jmkhJ/Ef3I0Rdw6TANo5Tv8Y/Sws6qdu8X+znHeWPT44wKEZno0+aGxm72mt5Xq6b4yTAE+EAOH+45i+SHqWzIqTjzx6cQU3crwQLY3txDgX89uUDGKMy0rMZ8A+MxJzRoMpmjnokCLk6VIPXik1IAndDWqeGPXhArYK/fmnbHbVe4hwKS3jxF3jW4eZtDxGggdx8vXilcFeWgPe5Re5IdyuwBPHK9fbe29wLoldDg0cLmEW08yipOJvHms9u3Lu8GvPVO5Z6scfrQ4MiHVpLnhkt3GWoDWBsGYu59KRSan/4ELH6dpghTOtTMS0QXw4z5uS7qEUKrv03fu7rxhKKAChIs+L/nZLj7p7k5US7Q6ftWzUeRpin0cKAvAgYU9ony4cL+meVmx494OMWJ4GWhlswdEUtQwdozMrgpg0pvjJAvm+X09g4JLupc1q2oaZQIjNvqa6aw6oEDX4KhSoocjnujOSgFACvpR6fJva9zPQMTHGbWfH8BWCZBFRqQGexyFvTBEUz37ToBvATgrWg5jRpaz+ZkMC3F7Q0EzHcgZ7Zt1UnRmuKpOj+ZQYQziKFcKCaXpAieTalHwQxXdAgFbyjQVKXX3pG2FQBnfe0/fGVst4q5VfNzM3CaeIsEMpliW0t1Faih4/hJOe6qiQUVSJC7k7ixPApoExX83s3afPqpYB23B692vIVnxISmryMPkDATDvdKJ676rH1ShL0mMZrqGOxzxHrRGqwqm3L3SI7Jb+dsIfEVxBv+jwSUQhxQ07N5Qh0zcxkz77IQPS1fVBDVjR1MHGeUyMvs2DSSRLapLagdbC3mkioW0TqB8FNiD8XPS/xZUzh2GwaysRZh3tcYXihkSu7OJBfPwmTmi/b1bo2qSjEGjzm6cKOL041xppLiu6IDlKTgZR0PSUUfNuJ9WxXadK8eudvR+I/snxxwSqHTI56k5cC8UCXboA1wuwvXQgd4vvlNjGzUG1M6Sh+E19BY+rRi5zKSsEiOtSbiSlJThOhOc/nWLQdB7n/M2lQ/r+MFLutw5gli7Fqx6priUKpujnLn6gSmE3aYD9PnpfwcqDg9hoJhVgi0k9myDUrh/lcbAl0Bj47k9cIs1E/EMK+d1Ufs0XnT2n5I2GRE3FUebFEnDSWkn+hWc1E73nAZEor9CskmXuqZ0uUzq4sxYbiQQBb4ctwdtlctbk82nLlgysNPC23j0LmpUT0ym5ENjfXSZXSBH6LWunNCw9PjVuBDQg7tm3Na5xqjslC/Z93VmindQK1WMouH18LNYWksTHHgrFg0zgXgB+Gbz43sFnH3RWWpmw+TzpID0xR7HXR8+u6d0Mn+nAWsVU1zVL4nWLXjTbu913hJtUX3nkQrtpqUltdRtLjrzxXd4UT7hNIwtfMmBSA20gkudwMgGsOsiuBFBkj12qr+yYfgSAFi2VZ1Vj1YsprA/pE9ZoJfq/qam5+9jLCHHrRD3GlB62Xlzp4qnuQGTsz2QuFXF/WxuFIY4GmY92WtiUEhnbJN1biBN6bkGqJmrJ9lYPvqx+h0kHZK3MqIAzlPM7WF7OMw5pAs4UkHJpvoUe18Rvmr/dFjFHyEsmMaD2DlEUpANsheHuP6UWOyXmflLTTfpUWk0bcLZmpj6fjIpkkokHTM0NaKQ4Ut723SMpTXIYTrhbJ3Z3ao2bwnXupg0OzbeoJhgG7EH2DUyiaoINE5SEXftQQH6S3rlknR+dq2dLThIPlYRmFbGd6NTg943TRWimITzgDu53M1PoLOlJB0P2p/oOvCJQkb1SYKx4l8ZTHKpsmbTa0Op8K2w8deUUMgpqnE2IvbSH9X3PtyA9Qu92Rr/v5LOAsH+Hy9fUU4GTv15WGXkx1wcjn5HQz0C4w3Wl5yOktDv29w+6RKctZlqWow2tbkeOBvv80KBjLWlcguTgyA/qBFmBM2nD+4riZ2p45XfybKp4W+bDgZql6YXx2H+RMJEKSrzL3yl38XEoNFzxsv7c5j6huah1Gk7zAsZBJ0o/sdNJZePb6in1KwkdZAPBBG615RhAPgCJsTBuP/G0X6cMUbvyGVEL6ell7Yc7QYO7NSK2bNFqOhHhrWOddGOL0RNMCNn1Y62Poj1GnWBjVQQ8qZA9+I7HKFVJivJArY9Mi1bokATYUrvRrSzno4gpoIEh60AGWKHsBN3088ReMFX/c7+MZFgBYN7ghB090t26LwQT+emgO2zBbM33DnTL1xw8Y1P0fbclVUXIDxQ+j1zCDkksnkSkWAA1AABycBzsGkBSHhRHZf498mmVYCXoieTpdWqH0wDpRUdf2/uk1sEk6v1GUcJuIQ61OYIG3a1mRhPyu2lhN7CaJgRryJqOQrbgAY2bm98OnTaee0fAzU/ToUOUbl1EXHzK78hsZz7nDMmeIncSWsmkwVRe4frtwmR1iTyznZdkMcenkOwBTcHn9IVH7NwUb+XZOTzq9ltdlbxdHJKcAuJE8df20/pNee//DvlsrQ99qQ1/yJ831rQORgApdBea+u/GYhkkFofAyS63q4ohxWMoTLsrqLMAyzmh2BQ6JgNvA44VTP3AbJn8KONC+qCkQrrYLy/031Vr3L1+U5NiHAkf4+9jfDmUBcgAAAAAAAAAAAAAAAAAAAAAAAAAkvzByGUvWCoAS66jaAKymebvwcLy9UHo5XmTTzWoe+EZtM0f3ZNGmpkE2pmchjDUHCn39G+kbnprkn5kxVElCC479OaunlIDdhf3T/JMgfNW8mO1tNVyjrL2/Emo+caUP8sRZ98u0KHbDGt/V0DIOoTda9FbCNu6oDCSWQXR5C31iFB+wei2uC82Wt66a31fNb7oG4vChAWhr9mHv0wvUqEnCqiOjRhjJCUzcHQD6iXxwBhHen08gQVHXzHcrVjLdiYBuH2WpYjLBIhMm7rAuDNudDnMI7qLzFcJh7/m90A3tTH3pQJ9WQJ5S56yfQzdd9jGUM4vy+R1b6SDU55pYeHkxOiaeo80G+XlLLLJDjYSkKyZ5nz4okxecKfzJ4CXvjrd29GMlL8KsgJmqMrjJw6VV6eR7+ZSn+OEYcQrLbt6IqzeTPUXRhcuNFT8QvPIbcLkXkd2FHEOC/GOX1StKdSZxMW9bMcA2/H2EtczNtyod0bxdRRpE/XO2dHKg1qiloNNEhzQrEvn8RFtRgio4Zg+rNB2xngT+x5izA5T84fQGvqLSH9R4+3ZUnO9PBo4yoPe+7c+X1ZQ8TFodKy9OPZdoOOtvbeXElN4Ep/etiC4L/nCZGsiQpVhbNTYI9DtdScvyC25p4uSt5EJ9jcIgAk7reBTGtWoGaStpARtcjeg2+nN/aBTL8kDoOOEmc1n+MymCaflNoxW3UtdS/f47iHocn0yVW7Q66i7drj2ogn+PCYI+4BZ+Bc4S6m6vB5X0M9Ky/gcolGa7DbsrdQbL65MNusRz7K3FTXngycd2VInR2ezGfM+ReOG7wkTDPUxxRrM9x2LY2f6p0Eah9TES6r50oXqMy8Ci+HHAhrmhN91gO3tH4K/ZXgrTeowUrt0QHyMsAMSPZoJc3E9G0uRJHAJbVnfCgG+FIfQ9XU6SL0cx3D7zCNPV/uEjn0gclmxNM3gYlUI9M11wJMCFS8gHawaWxutRnSmauSFJrRcF+bCqDYcwDgL/FFh/CYY529u4Zbprp1XZRkqlow54/1RUjJ+NiBQsEo1ep3fGrnOsuFDN6ui6Zx7538G/zi2OU8gyfH0fxa76Uby5xbevUGMMtXSmc6hjKfZ+GHkOMiq04/meSbJdjumrUI5vh2HaN6H6FOipRGvZXDQLILIiuZNH7RdFWSoMuJ+uyJVvvHhjXUpc2fEGp4R/XktoTf/Vw/4JLc7ysNlcMpcA+R4bA2zoUWNib4eUYw1iMH0Bz9OrBTwAAG9XyQmWPsc0xyxUP+z9eoz2f8Wg7JHAvxCSvd2iI0a8yz+zLVz53vqZxwXOQmf7g+uVccUS8G97z4AWnTBUW+RNzrJOSB1E5Q3rbR9fkEf9X4InTZ5TJALBxWs1jJgFBN2Cyf9WL6Fz8piPnzyW2Fml/G6ioVrBtfJx8boc4RXbXx8AhgF+PtAobgMpo+xtb+su/0yXrFX7meU8XC8ps3Q/8URZ96AL/aUzB+h1fRMMJPKObS6GLfkFMrUu1B4bByL2IPXXzkkY4uiuWH4Qd8r0S31tHeZnVviHyh1HazEj29jFZQfXm0zYUFXn/AuSnW5EWE+K9zZx3XzN/WYv6jpsOWTvc41kITQ6vI25UVQFgAoSbtwuKT8bx93kXKD7CQtkbjlmz/N4CCZ/dc0R1YY08aa9vP2kDWvurYcfPgJe8JrC8cs+B4BF+RyGwyfdZAh8MSypblqCN7gXbXzvFQIAHjYIFaluZ80QBq45hecwN02zBJ21naFxRA+uuFHolLcrQQizsWrRPfVbPQNRDCbm2i142mG4P8waB3O9CynSKcHllbjZ0qPHLx/xR6juQiQjP0qJnKt0yuEWrrcu26wAkeWNnS5kIOMmc6o6kNzivRvMB/fztgd2+YeqrByJiQNHhL0vwF+ThcF1+YQXIKcmUIHPJddZ6duXoQwYQEEcCgiBteGtMq1qZs6VfVJydzXS1GMG3fbyMPUdMsrncKP/CMuwfE49/EJEwkC95XbsxYCCxRDJLpgkHAza4xKEWCOFlsEDok7JLTki3VPuNlGt4uK98n8XP7UXODKdAR+CnP3p5OgTIrqtLXHVNZSmsb/Lj7b2Vv8L1B+YUxnXC+zAN80Sz8ULSQYj5ZAeebHjsQWFnW5qSo5vRkwUlJ56plo2ie3NA2MI80PNhlsKzwi9R1oHbTC5+zmiCt+5fzco4ir0jw/8YL2b/7MQQBGNiCj1oRbFeCXMUQ27gcn4mvdL3kZAdXq4SUBuL8zpEZzhE/Jp1jLJlLiq4neNMJwmOE4KqEgAlhCj95H/WAXEH5RoewLIBs8CF4w5uiqS7+by8a9smzUPt8SlDeP7LDU4NZhftmGLwLr6+NsdYViIptjGdsCy4VqWuVho4at1YAAt/ICMg7ozn9tyHPsRqWis07IvSBFrjzSP2DaSAUdZmG+1G+TkyyvDlRA5kvYPsB4KGwQOLVRL50YocVQrNat6/GO53wcDaB5p918QG6vat+Jyw3Bj8e95s6EaeccV7n/ZmJQS7XdsIaRW/rlBlmAZYtkWq7YfHTjALPqINjoprJlvbZ+0Bf2W6ZvIXQEsVWcg0DricC8AtYIVmJM2trxw8GP3eHvuStYpifAP7MUhP02dIxWYdfKHyejDmvz//bBJjP9vz4E8dHm9IYt58sCZHOSIsnppzB7o0vWkUI/0g++Q560/fkpV5/rLDjKNwkwVHtKsx7mxGHVHGphA/JiowDpdj0EzK+phwIw85sDd1Rxc8ICzBYho1kz4luciy/MUTgvw7Kl46VTTpoEGk+94agO0p3imQasREjYYITvYCdddNxJbmK8a8kIGYaCO/JmkZlHcbMCM+ae9CbAk2B0oUh1YmeURmeP7mcMPIhO2fJ3bLzgdq9sBBZnXQdC3gGruAaOlyXnxeGMEe6E20WdpBCP8l5MbPo/hWXas8LB8XdIz+deS0CVOdOw9XaB/X9GjKjjZ3P7x0SVR3nKz9+bKVsAAB3/hUkGLnpwcMXdl12rbz2KvAZfV2wSrrcxr+DMjeDbnS6RsNeTcZUFOkJBaX63MPfn80dpw75eqyZnTZAxYEQomstMt3suXobjMlIfkQMJY5IVV7MkKamfOeBuHm8HSBZFAvKIr2pGO6iOX/SMkImo+2ru8VoIs8jdXdtyIkd7MBwlHop5QN1V+lGtOVIn14sjqsWAYBqyBuwmbU7VLtv/HVBZkmrDWyzB1+QW/0h/8nfJk+uNo35L8ptS4CUo6W5SypaXiMYRgphWCBf0zef/DtcBlywHcZsISeBj4Z/9qeQLi1bmsnQwOcTvRSFiTVdhvOhdMSOL7pKKVmhXpa98yGcYsK7/B5ZbGRxGAgD0etjT/2I0+AF+n/3UA3d24oaowdFj4WgNTuOag2XFP9Z2VZVEvAQ4LiE3Yt+kcMN+I1LhznqFRZa5/KUCe0IwNIaEyaaxvUqnek8g89OqQ0tUk7aIdrNcQY4q3yTI9RNwHkE7iXzzRFlEayAABzVwfFZzpsHX4zeFdg1tBdtGI5BO27xIlheQDkjqbsOv3veoKePErEx5RVEvXXTZVeCLsXkawAMqLiuhPj41lcGvaQRTEwKPVfw9R12VRiEUaf2eBguPpnP4blSM1zHZeZ1SPXw6gRO1USQX0JiUkS491v1l6ZBlAxcoBcWS8c6STJLX1Is8+lnGM01uKq39pIvE617YtDehqRaXaksTm46w8o1KwjR2sctV97UItcGVENqzTb2eWVSsVsdotifIHC+qm6WaumVgM2wZQ+VGLTD4c7CFkHYP4MVcH178I0QTEFRnwdXolT0CaDu6iAwCB2cu6bJ+00FUb6UAjWsFKKrvw3yPUfjN8qPLsMM681YI67DNOEaoy2KuVaq70bn6NrskpGNenuAuReySAtvNS8Ll1nERM5+xjwsLYmE/UWzlVcAlDMc8EiL/6jmb+pcWYbzGiBg4VLlQUd80YQvXrj1JRufO+AN9H7MVZt+ivIWxwOifSdzZFUiXDxomBKTAAO4zLl4lyoMTYWbmjmk+fy9/aErIka6hAkokfzPz2qIWPEfjV8LkGbe/i9bp0qdrgiunzAcLMeepXJrcZ55sH8b87YBtf8p5RPyYYWWRRl5TV4qc50e+hm6gztMOsQZ3kXZy6VTeFC5ulXYhfgaa8FqT03WslM9L0DfMTeuJaw5zuGPwDfFn4AY1Cw7erSdpZuFR3TimrDJgBhuL/SVn489GzPY8qhj2nHBRZ0Paybv0s1U88RcL5h4/LNtyZKmS2qfV1jmPuIwbfBpLZQxqJKr7HDm3OhSGVuv8WtiIhd5zuzWpHjTBVy34uNGLx1+2TqpjMnwvhmuP/pyNWko3cNT44Wf74ueeCZPD4/GeH8xpfhN8Pw+hA6OrE21zNgE2eh8rZPqG6ucmkHKI58REB/OIXooyva7bYsxg3jOyjuq2OkFnIpD9xe+VzjIT2KBdwx8b7BBSl2H1CPXVUyBQhZADibU8xeRiLhMxXro3tJagRCZddGOgWYe1oSR45ZtS30P94u25HM+nGxIKfGHP1v20qLHIPRTAR8sRrLCD46gpCs58yJmntYPMrQsXVwQMSkKxEUpD4XJZHHJl0lsPi82jQ97WShSMK29WAKllkyybTZC9lfwjRe+WGMHBmxoYUhYJaBEg5nsPY1EeSMIV4murPCDjdTf0wTp0D7aosun39c3p1Mwzbaz65FMTmta34VQ1M20kNBlgYm1ZS8R8eJZEtZ9WGopeqGUjVaYt38j+JXdr/ifLya1Us9z3WmX3qXSIIJlIBvPvVng05Txqw4VvkJB4dsW+XoaE7wzHJX3H7myheW3H7lrP6HomLSgHua3Ay+ngWsTUnQSv2I0Edj0yZAwAAWE8TE+/C2gHJ75SQlbmpa1+eSJVzIKh2X87lzyd12Iil282a10za+nyWvDITezf5SSI8jOAUnX0fklzRxUePyhh2Spcwg5j7BcI6GX15agO5DuXLclHdC4GNWC8hgQvCmeepm6iu3VkNWYLR61qmr+BSXVES4/PolaO8fgFDLObvYGPfEPqXaiWJqkXJE+JIKoLUI1nX5BZY+dWl4Mok6yGfUzgmAa6cC0kZaCwNAJ580LCkaiMk/KS5JAgPJ7/Vm4ORjBx7WJPlNDx2IL56HGakAeiPIbqh0056/Hb3goupBwdWyaN/QubqNPuIxW9nsrhFfq5GilzFbB7NAxqREx/a4sz9Yb31i7H9tTvJ83/DmEdnpax+YHfrN78OpGSmcrRG2oPpTGbT6O26eqX54RIOnVfxnb1UX63QY93ezZsjB2DtQ3B3IQCfCHALYTTRNv2cs26L8KSCROcgxjqgCtUUEQcfj794g+5fjkWJc21vKQvsaGxI7LCQoHSol8bVWAoBOHs/qqkjMTWa6wsE6vgCTKSivqeF0OVyZiW2wq0qjMkzlUT5wVYRVFvb2xcOLIDEagq5sOmGVPSvKNk0GKdNceY36t/6LVCDbWS3BKr/wGmXuy/C3p4WeyY19fNSRlvMD517ySEyMCESGL4ytcqH3kgloFWC90gYoZO70O7y825a4idFvVqxL5ENP3Acz0/TQ/oLtHTDXY0exohlw9O7TyeEkbMk2KZBupBzGQemFXV8K6st8az7Eejm/0+MN96tlaebNVq0mTgK28bfr9eX6GZAxrN7Ju08V/7CGyMULuCoabfB84ZlEOlk5aDBngHGCxPI+V2sGXaDuVVG7DwpZ9i5yfAXpw9RnqEZM1JH93sEr0r9W2UGQrDDrC31qAnwr91Gauznczto8QSAcc1uvbhOswws+kYIVqbWCKC0Dzxnq/Zbtra4pAsBC+8siKH+t/CzhUgWkCavIOxeQKpbLqdcjzscDVZdz6xeLFHbuo31Dw6PcbiiEjguT0maXRem4RtypUAMu3zBkcDwkwJAP8uG7WL3Iz7D7LTtRLGo20lnCDfZpSq2EGa46KfkoGaJ4lnDathRJsU+Etkz7uspdehTeys8+zG/+kNfCy3LjTcDDxSqpi2QdlDjJDBFK/1k3Tyrs2qqwBRAczgqGbKLg73Cq3U40TmILc0T8x2x/7sikqfOX/snflfz4h91n7h15YPUD5JQE7voZOB02rLTKV9GyRjLt8QQC/v0UisF8ruuwQrqhtIyKOefYpvD8lcYCvmVx+0mJA2Q0eO/qTZ+pVeFANcvpPPfzno6a6oD7x7xO2oQzYH32r+NMeVVO4VLtIgd1s2IRpp1xzaKhTbVeO6MhbBpbA4aWSiXny9BK/oMDiDolTaI37wO2vQd1BsxjwsNxhtg7qs+7s/PwC9vnI8rA7Rwhd5RVEGwR53nHqvcrNb15uLYk+c2ry3q2jX2Fbp5Kb5US8m3dCisaTfuhkMDkTRUaxgAkA/nv8viZ+Indx27z2xCZRenXDncBkiF/x/26rKIK++tNDQ77cPGbR/my3og8DefMzxu4ExfHA+rpgUa5Nbea61egHCBVaPFPzDZS60magoefz1Hcqk3ldlopRtNhAXSayfh/Mtt7PAvimjoU7XUARiEsH1xRpk7CObKtty6CrL4uR9MbnQD70PWScfG9LXd/hfA+xBoVLNjh6DExdcHfcNIUwF1e7ocOzWADMfXp8F4+OVCoGXOlp6BXmrcXgOYEyZLC726Kv4pvhIZO2gx/TDrKFtND36dXFaI3eDk/WRxTC7zva3BdLOGBnvG2wpsTJ9cSLehWPY6PHZuvIuBMYrvoQ4RWi0TlmVT0Y/N0mGMCeU3q6kuhWvge5qxl89B0bsfKz0NMEnvUsRhpNu1wLrU3oFOKNI7HKJXTMtVpj+dOiGkHgSP0PHAr7PL8vAcPkUhn/ApdGRqq0aysDltVStGrapek8jvgEtkN1miYIiuQ+VAsn3AO775nbls0WcPE+SOKnywUZWuOhfClPZC6FukwbSVmDW4GuQ8Q0DTspQEfkGDllbpR55cDcS7v5dZYnaY0r2WpUVXTHKj4noZefk71CwCyPvgk7rlHA5PKA0NsOXmoDEaA63HoJoVWcSsidHJ38Eb1sL3FE6skdszsyDNgHLEFtUhLvOp9YiGHakfQIOUtQfZl3lOP8vSipGZlnzd2HWEYiCHjZBF5t9UoZDKnFxZkPWFrSg1enj1IDwCV9EuteiVB4HUq2rywMFoWvJOKo5/CYcvHAEofzKFwim032iAYAHBW+mYETVR1mpxUElcE3QZYSSZaBTia8cnEAnyBI0/nI690AVfHxHEkkubuXyI9J1LJR3M7M4YCoAgA30lZJPMBIaU9ZmYwGNG/tpj0iwMHpb0RRJS4D87BIEDAplDQ9HYxx+N/AIsyHTRsa6j8jddnUlUvj2QuhbpMJzosMYeEpG7+k6Mp4YvyzxS/b9ws0nWUkBThdbDH+4z+9bgTewTwUtQf6S5R8Nz9ODXc3pbFckgPCk9vu5R9m/lwK6nUtEnO0CkNkTaK8otF89LpATKpdWHDG32iJJZlP0XLpgA9uMXmFXWLsgD51Q2fUNb0nqDe4IZLX+LO7FN4gaQql1j3t4x3R12kC2Wtt1mDMo5I0a79SLeHd6MIAASLfQQts0mUFz66gKQhpBYUeO+Rj2qafNyaoqMEBlSK2fNfc3tAldJahdj3OGWYkQHnCft3+EdfGguXNsWMpDTAPICCgnB5zYG7p9bFuWo34kNF1Nf8h+E6sX1CuCZmSxcf71PaUlAAtyzMs7OvSPS7Ij+zVs+RXA0lWpR+5SvQ1/WOTFzaNHDHuI/YUYJbtHFPuJsIP5ToDb8yLOKvQNskei2FL3jME67fMjkaStUydiTAjB6b/6GzO2ZuubPyRRuNPfDfRuFMsFhSr2oewSvYpImp5bhQCKrB3pqrEM5jr9i740ZGJl/KOtWrBqbfM/zcQMdkniMobq2x0FE/GLple7hxRrPv0ZsbY32slVL7Ilf0ECF3Hz7KjONhzgrAc9f9E+yKQDUXPP3kRAMYaxHdjTAPcc9MlO/vhTzSoS/QOm5TtOYx/fBOgj4hvgEg+Ibn/cFRD/UDI90Jn8JaM6cuPKy08rFS4qqDHKJ410MeJ++vSRBvYOL8Bka+hxPtcyAUYBELS8tcVqlownlDDti4/ivwltgxKuug0VOt6IaimEdFyYatvU+TCHZUvHPrMwNxxTqNVHkzxDKZKPN6EwJGSDNdraf81ftzqs4qFlh8ZyiciA+T61ght4BDUqXNU0Gg4ebzsY4C/MP0kuwfP6VWIuuGVDdGav8vyFxwGWQUDRD2mxcMg4aULaaqKaP3zuTeoWkCBqlQpz+bZkw0yXV7FcC9NUhu4vnVd2xjWzSdtzDky87oLJcJKCybaqTR+2LYukHMK9mOW5tfdDF8hDfQNSXfWAaZnzUyrZf2t9ABQxs0Z9cT5OxREI1dF6Gogbfrt+O4s36icqqZr+GmrohxpQjKVM5XqTFWAmFuu/UrdTAAgfoILbHkPCf7v8pCennMCeqd/yZinGTyE3ig8fe6jbBAcjT3AU+EL76WwuR5oKEg+bUm+91MkN3ANM0/eSlUuH6NSxusGiTxlgud+79HeC7qDmi4xCdQdrtU23y9lv+tHSY4y9ypPtpSEKIobVtjVjlujjxcU2Ri0bZxE9Oe5+2rOI1Y2R1YtvY1eZnjDc1bK/ujpdR1mwRfXALSSsCkdbPHTpPrmClEjLcuG7a1MnUB+DXQMGEdbsPcysNmmtajoXAXIdUmRk+jdcPMGLjg1SBOQoPDLoV3V8L0JkzBKkKQ+swPGgflWvc0tEMhOGJAQ5o9/a3MaySBNmfpAT61dQPAPy0iS2IjcxcPwjAl6VNYFHQ11wZ57YDZGKAt6FkrSGvGkJvKuBW2OVBvSUoeKEZGIjo+KNvca3RaI2ejBw3NWyv1mpWArJyj2aa1qOM/qNwu/1WMmKCYGmGzZeb2goQsdb/VKkzIbAD20pX+zcztFsRtkEBkO9luQUfNM3+i4BGm6b7o6EfA+6F2Y0TFPQaxB2y9ebB/HARetsrWjgObUumzzS4PMceAOiqwGzAyVjAZZSf5hsozYZNfr7T8xRJ50d5XVvmbdbS2ns8woGRE6heqNXa2IN+si+Qm0/DmWEJ1oMeHoJ9lQrpKlpaYfnuPyYH7vhF88Cf8r7kix9tDxOl8KnwuZi1RXWRF6k1T1dXnV03XPIK7Zqy6aEqmrU8d6usVHmVhCqf6p1k/qJPRPUZkDqX05woe0F1rq1ADIvuuwRTAAKUM8k1dyV2TWHiuQOAGPIzWGmRDatYdJIvUbdPV5Cgwp0I2HB3yOUqJ9J2LtQaBiIRocv9XxAjL1ZwxKblfwqtR6NtAcXATFj18K5w+DC7Btnai2UGE3pBCwIrfV3JXfcvOBoC+exCOl9KXPqDcH1pbR4S80gMQMW1083NBK6dC29PZt+my/4Ns7UWCH68lHF9M5Vt2Rh55ZjnACgxuO5Ro0h62C7Y9yzh0E6eHB424buh1W1b3Cz5GRqLIoM/dT8+5vN3pkgDUuKkhsJNjJueYiXT1yaCkTNEEguKcAAAAAABFWElGugAAAEV4aWYAAElJKgAIAAAABgASAQMAAQAAAAEAAAAaAQUAAQAAAFYAAAAbAQUAAQAAAF4AAAAoAQMAAQAAAAIAAAATAgMAAQAAAAEAAABphwQAAQAAAGYAAAAAAAAASAAAAAEAAABIAAAAAQAAAAYAAJAHAAQAAAAwMjEwAZEHAAQAAAABAgMAAKAHAAQAAAAwMTAwAaADAAEAAAD//wAAAqAEAAEAAAAhBAAAA6AEAAEAAAB+AgAAAAAAAA==)"
      ]
    },
    {
      "cell_type": "markdown",
      "metadata": {
        "id": "4HBu4gFPMXpa"
      },
      "source": [
        "Above image source: https://towardsdatascience.com/broadcasting-in-numpy-58856f926d73\n",
        "\n",
        "**Broadcasting rules:**\n",
        "\n",
        "1. Make the two arrays have the same number of dimensions.\n",
        "   1. If the numbers of dimensions of the two arrays are different, add new dimensions with size 1 to the head of the array with the smaller dimension.\n",
        "   \n",
        "2. Make each dimension of the two arrays the same size.\n",
        "\n",
        "   1. If the sizes of each dimension of the two arrays do not match, dimensions with size 1 are stretched to the size of the other array. \n",
        "\n",
        "  2. If there is a dimension whose size is not 1 in either of the two arrays, it cannot be broadcasted, and an error is raised.\n",
        "\n",
        "Further Read: https://note.nkmk.me/en/python-numpy-broadcasting/\n"
      ]
    },
    {
      "cell_type": "code",
      "execution_count": null,
      "metadata": {
        "colab": {
          "base_uri": "https://localhost:8080/"
        },
        "id": "gPgseBs2K-XE",
        "outputId": "62f9e11b-377b-4b26-da79-bc5a268d4d8f"
      },
      "outputs": [
        {
          "name": "stdout",
          "output_type": "stream",
          "text": [
            "(4,)\n",
            "()\n"
          ]
        },
        {
          "data": {
            "text/plain": [
              "(None, None)"
            ]
          },
          "execution_count": 3,
          "metadata": {},
          "output_type": "execute_result"
        }
      ],
      "source": [
        "# let's create an array for broadcasting\n",
        "\n",
        "a = np.array([1, 2, 3, 4])\n",
        "b = np.array(1) \n",
        "\n",
        "print(a.shape), print(b.shape)"
      ]
    },
    {
      "cell_type": "code",
      "execution_count": null,
      "metadata": {
        "colab": {
          "base_uri": "https://localhost:8080/"
        },
        "id": "3PMyPJ-sYqgQ",
        "outputId": "50fcd02e-e588-422e-ed71-5ad592329dd2"
      },
      "outputs": [
        {
          "data": {
            "text/plain": [
              "array([2, 3, 4, 5])"
            ]
          },
          "execution_count": 4,
          "metadata": {},
          "output_type": "execute_result"
        }
      ],
      "source": [
        "a + b "
      ]
    },
    {
      "cell_type": "code",
      "execution_count": null,
      "metadata": {
        "colab": {
          "base_uri": "https://localhost:8080/"
        },
        "id": "GpB2Zk7bYvBP",
        "outputId": "75201692-d50e-4680-c7b6-022f1a022f7a"
      },
      "outputs": [
        {
          "data": {
            "text/plain": [
              "(2,)"
            ]
          },
          "execution_count": 5,
          "metadata": {},
          "output_type": "execute_result"
        }
      ],
      "source": [
        "c = np.array([2, 3]) \n",
        "c.shape"
      ]
    },
    {
      "cell_type": "code",
      "execution_count": null,
      "metadata": {
        "colab": {
          "base_uri": "https://localhost:8080/",
          "height": 166
        },
        "id": "TY-IRhgSY3Gp",
        "outputId": "7240311b-d75a-41e9-8d8c-c4b9fd978231"
      },
      "outputs": [
        {
          "ename": "ValueError",
          "evalue": "ignored",
          "output_type": "error",
          "traceback": [
            "\u001b[0;31m---------------------------------------------------------------------------\u001b[0m",
            "\u001b[0;31mValueError\u001b[0m                                Traceback (most recent call last)",
            "\u001b[0;32m<ipython-input-6-e81e582b6fa9>\u001b[0m in \u001b[0;36m<module>\u001b[0;34m\u001b[0m\n\u001b[0;32m----> 1\u001b[0;31m \u001b[0ma\u001b[0m \u001b[0;34m+\u001b[0m \u001b[0mc\u001b[0m\u001b[0;34m\u001b[0m\u001b[0;34m\u001b[0m\u001b[0m\n\u001b[0m",
            "\u001b[0;31mValueError\u001b[0m: operands could not be broadcast together with shapes (4,) (2,) "
          ]
        }
      ],
      "source": [
        "a + c"
      ]
    },
    {
      "cell_type": "code",
      "execution_count": null,
      "metadata": {
        "colab": {
          "base_uri": "https://localhost:8080/"
        },
        "id": "VyK9EcutZtKJ",
        "outputId": "7a74d125-88f6-40b3-b7be-e8140cc4d20c"
      },
      "outputs": [
        {
          "name": "stdout",
          "output_type": "stream",
          "text": [
            "(2, 1)\n"
          ]
        }
      ],
      "source": [
        "d = np.array([[1],\n",
        "              [2]])\n",
        "\n",
        "print(d.shape)"
      ]
    },
    {
      "cell_type": "code",
      "execution_count": null,
      "metadata": {
        "colab": {
          "base_uri": "https://localhost:8080/"
        },
        "id": "yqakaDIMcTth",
        "outputId": "03a85dcf-1d48-4c08-ced6-545a668fb043"
      },
      "outputs": [
        {
          "data": {
            "text/plain": [
              "array([[2, 3, 4, 5],\n",
              "       [3, 4, 5, 6]])"
            ]
          },
          "execution_count": 16,
          "metadata": {},
          "output_type": "execute_result"
        }
      ],
      "source": [
        "a + d"
      ]
    },
    {
      "cell_type": "code",
      "execution_count": null,
      "metadata": {
        "id": "fpv_8DyCcVqp"
      },
      "outputs": [],
      "source": [
        "e = np.array([[1, 2, 3, 4, 5], [6, 7, 8, 9, 10]])"
      ]
    },
    {
      "cell_type": "code",
      "execution_count": null,
      "metadata": {
        "colab": {
          "base_uri": "https://localhost:8080/"
        },
        "id": "Babl0yOnekQ2",
        "outputId": "263e1c9b-80d9-4f93-dd47-b56dbfd8aa8c"
      },
      "outputs": [
        {
          "data": {
            "text/plain": [
              "(2, 5)"
            ]
          },
          "execution_count": 23,
          "metadata": {},
          "output_type": "execute_result"
        }
      ],
      "source": [
        "e.shape"
      ]
    },
    {
      "cell_type": "code",
      "execution_count": null,
      "metadata": {
        "colab": {
          "base_uri": "https://localhost:8080/"
        },
        "id": "xCSTQW8gempy",
        "outputId": "3ddfd61b-aa60-4591-a4c7-a26d7a52cb07"
      },
      "outputs": [
        {
          "data": {
            "text/plain": [
              "(4,)"
            ]
          },
          "execution_count": 24,
          "metadata": {},
          "output_type": "execute_result"
        }
      ],
      "source": [
        "a.shape"
      ]
    },
    {
      "cell_type": "code",
      "execution_count": null,
      "metadata": {
        "colab": {
          "base_uri": "https://localhost:8080/",
          "height": 166
        },
        "id": "og0pUtEgd666",
        "outputId": "2ae5c426-8868-442e-db61-f9780beb9ffc"
      },
      "outputs": [
        {
          "ename": "ValueError",
          "evalue": "ignored",
          "output_type": "error",
          "traceback": [
            "\u001b[0;31m---------------------------------------------------------------------------\u001b[0m",
            "\u001b[0;31mValueError\u001b[0m                                Traceback (most recent call last)",
            "\u001b[0;32m<ipython-input-19-dba895c55d37>\u001b[0m in \u001b[0;36m<module>\u001b[0;34m\u001b[0m\n\u001b[0;32m----> 1\u001b[0;31m \u001b[0ma\u001b[0m \u001b[0;34m+\u001b[0m \u001b[0me\u001b[0m\u001b[0;34m\u001b[0m\u001b[0;34m\u001b[0m\u001b[0m\n\u001b[0m",
            "\u001b[0;31mValueError\u001b[0m: operands could not be broadcast together with shapes (4,) (2,5) "
          ]
        }
      ],
      "source": [
        "a + e"
      ]
    },
    {
      "cell_type": "code",
      "execution_count": null,
      "metadata": {
        "id": "tpQS5dVwd8nI"
      },
      "outputs": [],
      "source": [
        "f = np.array([[1, 2, 3, 4],   # with the changed shape it won't create any error. \n",
        "              [6, 7, 8, 9], \n",
        "              [1, 2, 3, 4], \n",
        "              [1, 2, 3, 4],\n",
        "              [1, 2, 3, 4]])"
      ]
    },
    {
      "cell_type": "code",
      "execution_count": null,
      "metadata": {
        "colab": {
          "base_uri": "https://localhost:8080/"
        },
        "id": "DfUZrDCjeNaA",
        "outputId": "09b10db6-8625-4952-c45d-c2349784dd2b"
      },
      "outputs": [
        {
          "data": {
            "text/plain": [
              "array([[ 2,  4,  6,  8],\n",
              "       [ 7,  9, 11, 13],\n",
              "       [ 2,  4,  6,  8],\n",
              "       [ 2,  4,  6,  8],\n",
              "       [ 2,  4,  6,  8]])"
            ]
          },
          "execution_count": 30,
          "metadata": {},
          "output_type": "execute_result"
        }
      ],
      "source": [
        "a + f "
      ]
    },
    {
      "cell_type": "code",
      "execution_count": null,
      "metadata": {
        "colab": {
          "base_uri": "https://localhost:8080/"
        },
        "id": "AHYoNn4seO84",
        "outputId": "4e5441cf-9890-45e9-9c14-bf84781f315c"
      },
      "outputs": [
        {
          "data": {
            "text/plain": [
              "(5, 4)"
            ]
          },
          "execution_count": 31,
          "metadata": {},
          "output_type": "execute_result"
        }
      ],
      "source": [
        "f.shape"
      ]
    },
    {
      "cell_type": "code",
      "execution_count": null,
      "metadata": {
        "colab": {
          "base_uri": "https://localhost:8080/",
          "height": 166
        },
        "id": "ZdJWr1BPebVQ",
        "outputId": "4d5bce06-59ae-46c4-dcb8-12141f4af82e"
      },
      "outputs": [
        {
          "ename": "ValueError",
          "evalue": "ignored",
          "output_type": "error",
          "traceback": [
            "\u001b[0;31m---------------------------------------------------------------------------\u001b[0m",
            "\u001b[0;31mValueError\u001b[0m                                Traceback (most recent call last)",
            "\u001b[0;32m<ipython-input-32-7d1fd393049a>\u001b[0m in \u001b[0;36m<module>\u001b[0;34m\u001b[0m\n\u001b[0;32m----> 1\u001b[0;31m \u001b[0ma\u001b[0m \u001b[0;34m*\u001b[0m \u001b[0mc\u001b[0m\u001b[0;34m\u001b[0m\u001b[0;34m\u001b[0m\u001b[0m\n\u001b[0m",
            "\u001b[0;31mValueError\u001b[0m: operands could not be broadcast together with shapes (4,) (2,) "
          ]
        }
      ],
      "source": [
        "a * c "
      ]
    },
    {
      "cell_type": "code",
      "execution_count": null,
      "metadata": {
        "colab": {
          "base_uri": "https://localhost:8080/"
        },
        "id": "O_TNYV5ZfdeB",
        "outputId": "5c88fd6e-0605-4288-fc9a-71b3040989c6"
      },
      "outputs": [
        {
          "data": {
            "text/plain": [
              "array([[ 1,  4,  9, 16],\n",
              "       [ 6, 14, 24, 36],\n",
              "       [ 1,  4,  9, 16],\n",
              "       [ 1,  4,  9, 16],\n",
              "       [ 1,  4,  9, 16]])"
            ]
          },
          "execution_count": 33,
          "metadata": {},
          "output_type": "execute_result"
        }
      ],
      "source": [
        "a * f"
      ]
    },
    {
      "cell_type": "markdown",
      "metadata": {
        "id": "3VOFa6EWftgi"
      },
      "source": [
        "Please watch our video to understand the broadcasting concept clearly. "
      ]
    },
    {
      "cell_type": "markdown",
      "metadata": {
        "id": "v_4V9EIwf0W5"
      },
      "source": [
        "## Indexing and slicing: NumPy Array"
      ]
    },
    {
      "cell_type": "code",
      "execution_count": null,
      "metadata": {
        "colab": {
          "base_uri": "https://localhost:8080/"
        },
        "id": "vr4tP9XzffUS",
        "outputId": "b3430894-7483-42e8-ef01-87fc59a83684"
      },
      "outputs": [
        {
          "data": {
            "text/plain": [
              "(array([1, 2, 3, 4, 5]), (5,), 1)"
            ]
          },
          "execution_count": 34,
          "metadata": {},
          "output_type": "execute_result"
        }
      ],
      "source": [
        "ab = np.array([1, 2, 3, 4, 5])  #one-d array\n",
        "\n",
        "ab, ab.shape, ab.ndim"
      ]
    },
    {
      "cell_type": "code",
      "execution_count": null,
      "metadata": {
        "colab": {
          "base_uri": "https://localhost:8080/"
        },
        "id": "WVu15Qbxsmrz",
        "outputId": "b4b893c5-de2b-4f66-e9bc-111f9a0a6db8"
      },
      "outputs": [
        {
          "data": {
            "text/plain": [
              "1"
            ]
          },
          "execution_count": 35,
          "metadata": {},
          "output_type": "execute_result"
        }
      ],
      "source": [
        "ab[0]"
      ]
    },
    {
      "cell_type": "code",
      "execution_count": null,
      "metadata": {
        "colab": {
          "base_uri": "https://localhost:8080/"
        },
        "id": "VCmjwprNssZ3",
        "outputId": "663d287d-43df-4c5a-bdb4-46dddf5b41b5"
      },
      "outputs": [
        {
          "data": {
            "text/plain": [
              "2"
            ]
          },
          "execution_count": 36,
          "metadata": {},
          "output_type": "execute_result"
        }
      ],
      "source": [
        "ab[1]"
      ]
    },
    {
      "cell_type": "code",
      "execution_count": null,
      "metadata": {
        "colab": {
          "base_uri": "https://localhost:8080/"
        },
        "id": "KcgOU5w-suQv",
        "outputId": "21e9f56e-5f5a-44a8-9b08-f9cbe8cfce27"
      },
      "outputs": [
        {
          "data": {
            "text/plain": [
              "array([1, 2])"
            ]
          },
          "execution_count": 37,
          "metadata": {},
          "output_type": "execute_result"
        }
      ],
      "source": [
        "ab[:2]"
      ]
    },
    {
      "cell_type": "code",
      "execution_count": null,
      "metadata": {
        "colab": {
          "base_uri": "https://localhost:8080/"
        },
        "id": "iORWF7GPswQw",
        "outputId": "326834b4-99a3-4f39-c3bf-34e1644efc92"
      },
      "outputs": [
        {
          "data": {
            "text/plain": [
              "array([1, 2, 3, 4])"
            ]
          },
          "execution_count": 42,
          "metadata": {},
          "output_type": "execute_result"
        }
      ],
      "source": [
        "ab[0:4]"
      ]
    },
    {
      "cell_type": "code",
      "execution_count": null,
      "metadata": {
        "colab": {
          "base_uri": "https://localhost:8080/"
        },
        "id": "vkrsNVCQs0A3",
        "outputId": "9321df7a-ebb8-4981-b353-1d181ad5dc8a"
      },
      "outputs": [
        {
          "data": {
            "text/plain": [
              "array([1, 3])"
            ]
          },
          "execution_count": 44,
          "metadata": {},
          "output_type": "execute_result"
        }
      ],
      "source": [
        "ab[0:4:2]"
      ]
    },
    {
      "cell_type": "code",
      "execution_count": null,
      "metadata": {
        "colab": {
          "base_uri": "https://localhost:8080/"
        },
        "id": "-bcl6XzVtBBY",
        "outputId": "a5bd2f1b-bfbe-488a-8c38-d9608cf34317"
      },
      "outputs": [
        {
          "data": {
            "text/plain": [
              "array([1, 2, 3, 4])"
            ]
          },
          "execution_count": 45,
          "metadata": {},
          "output_type": "execute_result"
        }
      ],
      "source": [
        "ab[:-1]"
      ]
    },
    {
      "cell_type": "code",
      "execution_count": null,
      "metadata": {
        "colab": {
          "base_uri": "https://localhost:8080/"
        },
        "id": "xfm4RqeQtIwQ",
        "outputId": "b8795f7c-3c8e-4df3-8294-793d9bb7189d"
      },
      "outputs": [
        {
          "data": {
            "text/plain": [
              "array([1, 2, 3])"
            ]
          },
          "execution_count": 46,
          "metadata": {},
          "output_type": "execute_result"
        }
      ],
      "source": [
        "ab[:-2]"
      ]
    },
    {
      "cell_type": "code",
      "execution_count": null,
      "metadata": {
        "colab": {
          "base_uri": "https://localhost:8080/"
        },
        "id": "xv7ydC_9tOe5",
        "outputId": "e04f5f8a-abe0-472e-b729-ac1ad2bb1e5d"
      },
      "outputs": [
        {
          "data": {
            "text/plain": [
              "5"
            ]
          },
          "execution_count": 47,
          "metadata": {},
          "output_type": "execute_result"
        }
      ],
      "source": [
        "ab[-1]"
      ]
    },
    {
      "cell_type": "code",
      "execution_count": null,
      "metadata": {
        "id": "n-FmaJM_tRef"
      },
      "outputs": [],
      "source": [
        "bc = np.random.randint(10, size=(2, 3, 4))"
      ]
    },
    {
      "cell_type": "code",
      "execution_count": null,
      "metadata": {
        "colab": {
          "base_uri": "https://localhost:8080/"
        },
        "id": "dZoRQ9wKt08w",
        "outputId": "16610047-d200-41d6-b704-a67ff933f4d1"
      },
      "outputs": [
        {
          "data": {
            "text/plain": [
              "array([[[4, 8, 4, 9],\n",
              "        [6, 3, 2, 9],\n",
              "        [4, 5, 8, 9]],\n",
              "\n",
              "       [[4, 2, 4, 1],\n",
              "        [3, 2, 8, 1],\n",
              "        [0, 0, 0, 5]]])"
            ]
          },
          "execution_count": 85,
          "metadata": {},
          "output_type": "execute_result"
        }
      ],
      "source": [
        "bc "
      ]
    },
    {
      "cell_type": "code",
      "execution_count": null,
      "metadata": {
        "colab": {
          "base_uri": "https://localhost:8080/"
        },
        "id": "FxCsvxJGt12v",
        "outputId": "3e203e90-88db-4663-90eb-e1a5a513702c"
      },
      "outputs": [
        {
          "data": {
            "text/plain": [
              "array([[4, 8, 4, 9],\n",
              "       [6, 3, 2, 9],\n",
              "       [4, 5, 8, 9]])"
            ]
          },
          "execution_count": 54,
          "metadata": {},
          "output_type": "execute_result"
        }
      ],
      "source": [
        "bc[0]"
      ]
    },
    {
      "cell_type": "code",
      "execution_count": null,
      "metadata": {
        "colab": {
          "base_uri": "https://localhost:8080/"
        },
        "id": "QdAvpfsbuBYA",
        "outputId": "12b0aad1-a3c7-4c5a-ce2c-e24b7a430fa5"
      },
      "outputs": [
        {
          "data": {
            "text/plain": [
              "array([[[4, 8, 4, 9],\n",
              "        [6, 3, 2, 9],\n",
              "        [4, 5, 8, 9]]])"
            ]
          },
          "execution_count": 56,
          "metadata": {},
          "output_type": "execute_result"
        }
      ],
      "source": [
        "bc[0:1]"
      ]
    },
    {
      "cell_type": "code",
      "execution_count": null,
      "metadata": {
        "colab": {
          "base_uri": "https://localhost:8080/"
        },
        "id": "wUqT9pm8uGPn",
        "outputId": "97b39c34-6b22-4fde-be04-926b7363448f"
      },
      "outputs": [
        {
          "data": {
            "text/plain": [
              "array([[[4, 8, 4, 9],\n",
              "        [6, 3, 2, 9],\n",
              "        [4, 5, 8, 9]],\n",
              "\n",
              "       [[4, 2, 4, 1],\n",
              "        [3, 2, 8, 1],\n",
              "        [0, 0, 0, 5]]])"
            ]
          },
          "execution_count": 60,
          "metadata": {},
          "output_type": "execute_result"
        }
      ],
      "source": [
        "bc[:]"
      ]
    },
    {
      "cell_type": "code",
      "execution_count": null,
      "metadata": {
        "colab": {
          "base_uri": "https://localhost:8080/"
        },
        "id": "zZPfUVXsuMXg",
        "outputId": "92f32158-8522-4fcd-a794-59ea0469d0ed"
      },
      "outputs": [
        {
          "data": {
            "text/plain": [
              "array([4, 8, 4, 9])"
            ]
          },
          "execution_count": 61,
          "metadata": {},
          "output_type": "execute_result"
        }
      ],
      "source": [
        "bc[0][0]"
      ]
    },
    {
      "cell_type": "code",
      "execution_count": null,
      "metadata": {
        "colab": {
          "base_uri": "https://localhost:8080/"
        },
        "id": "ALcOu3B1uhDv",
        "outputId": "dec04d62-0c6c-4c78-e3d7-7482afd190a9"
      },
      "outputs": [
        {
          "data": {
            "text/plain": [
              "4"
            ]
          },
          "execution_count": 62,
          "metadata": {},
          "output_type": "execute_result"
        }
      ],
      "source": [
        "bc[0][0][0]"
      ]
    },
    {
      "cell_type": "code",
      "execution_count": null,
      "metadata": {
        "colab": {
          "base_uri": "https://localhost:8080/"
        },
        "id": "OXslwYrVuzJj",
        "outputId": "6f44922b-e945-413d-fedd-dc3e0cb1bb8d"
      },
      "outputs": [
        {
          "data": {
            "text/plain": [
              "array([[[4, 8, 4, 9]],\n",
              "\n",
              "       [[4, 2, 4, 1]]])"
            ]
          },
          "execution_count": 67,
          "metadata": {},
          "output_type": "execute_result"
        }
      ],
      "source": [
        "bc[:, :1]  # gives you first rows of both the arrays"
      ]
    },
    {
      "cell_type": "code",
      "execution_count": null,
      "metadata": {
        "colab": {
          "base_uri": "https://localhost:8080/"
        },
        "id": "7ow-jO2z4BWo",
        "outputId": "0f7b2745-d3da-483d-ebe5-073209b8b977"
      },
      "outputs": [
        {
          "data": {
            "text/plain": [
              "array([[[6, 3],\n",
              "        [4, 5]],\n",
              "\n",
              "       [[3, 2],\n",
              "        [0, 0]]])"
            ]
          },
          "execution_count": 91,
          "metadata": {},
          "output_type": "execute_result"
        }
      ],
      "source": [
        "bc[:, 1:3, :2]"
      ]
    },
    {
      "cell_type": "code",
      "execution_count": null,
      "metadata": {
        "colab": {
          "base_uri": "https://localhost:8080/"
        },
        "id": "vjPFT1NrvMl4",
        "outputId": "f30cbc8f-d91c-4ac3-e1fb-22a72ddec83c"
      },
      "outputs": [
        {
          "data": {
            "text/plain": [
              "array([[[4, 8]]])"
            ]
          },
          "execution_count": 70,
          "metadata": {},
          "output_type": "execute_result"
        }
      ],
      "source": [
        "bc[:1, :1, :2]"
      ]
    },
    {
      "cell_type": "code",
      "execution_count": null,
      "metadata": {
        "colab": {
          "base_uri": "https://localhost:8080/"
        },
        "id": "spTirLxLvabP",
        "outputId": "fa867066-d8b7-4f0b-ab39-6e2e96e79ca2"
      },
      "outputs": [
        {
          "data": {
            "text/plain": [
              "array([[[4, 8, 4, 9],\n",
              "        [6, 3, 2, 9]],\n",
              "\n",
              "       [[4, 2, 4, 1],\n",
              "        [3, 2, 8, 1]]])"
            ]
          },
          "execution_count": 71,
          "metadata": {},
          "output_type": "execute_result"
        }
      ],
      "source": [
        "bc[:, :2, :]"
      ]
    },
    {
      "cell_type": "code",
      "execution_count": null,
      "metadata": {
        "colab": {
          "base_uri": "https://localhost:8080/"
        },
        "id": "LHV73r2nukOh",
        "outputId": "d8c376fc-c21b-4d84-a181-a97cd2a1df9e"
      },
      "outputs": [
        {
          "data": {
            "text/plain": [
              "array([[[[6, 0, 4, 1, 1],\n",
              "         [0, 0, 1, 5, 4],\n",
              "         [9, 5, 0, 7, 0],\n",
              "         [2, 0, 5, 3, 3]],\n",
              "\n",
              "        [[2, 7, 5, 7, 5],\n",
              "         [2, 0, 9, 0, 1],\n",
              "         [2, 9, 9, 5, 6],\n",
              "         [7, 4, 5, 7, 4]],\n",
              "\n",
              "        [[0, 9, 2, 1, 9],\n",
              "         [1, 5, 8, 8, 3],\n",
              "         [7, 0, 7, 0, 1],\n",
              "         [5, 4, 9, 3, 4]]],\n",
              "\n",
              "\n",
              "       [[[4, 1, 1, 2, 4],\n",
              "         [0, 0, 4, 9, 4],\n",
              "         [9, 3, 3, 3, 9],\n",
              "         [2, 1, 3, 3, 9]],\n",
              "\n",
              "        [[8, 1, 4, 3, 6],\n",
              "         [8, 1, 7, 7, 2],\n",
              "         [2, 5, 1, 7, 9],\n",
              "         [2, 1, 4, 0, 4]],\n",
              "\n",
              "        [[3, 7, 4, 2, 2],\n",
              "         [5, 1, 4, 9, 9],\n",
              "         [7, 9, 6, 9, 8],\n",
              "         [0, 0, 5, 2, 5]]]])"
            ]
          },
          "execution_count": 84,
          "metadata": {},
          "output_type": "execute_result"
        }
      ],
      "source": [
        "cd = np.random.randint(10, size=(2, 3, 4, 5))\n",
        "cd "
      ]
    },
    {
      "cell_type": "code",
      "execution_count": null,
      "metadata": {
        "colab": {
          "base_uri": "https://localhost:8080/"
        },
        "id": "7LqzI9Muut7J",
        "outputId": "521165d4-1fe7-42d0-cef4-55551f1db3fb"
      },
      "outputs": [
        {
          "data": {
            "text/plain": [
              "array([[[[7, 5],\n",
              "         [9, 4],\n",
              "         [3, 3],\n",
              "         [4, 1]],\n",
              "\n",
              "        [[7, 1],\n",
              "         [9, 6],\n",
              "         [7, 8],\n",
              "         [1, 6]],\n",
              "\n",
              "        [[5, 7],\n",
              "         [6, 4],\n",
              "         [1, 9],\n",
              "         [2, 4]]],\n",
              "\n",
              "\n",
              "       [[[5, 7],\n",
              "         [9, 2],\n",
              "         [7, 0],\n",
              "         [0, 2]],\n",
              "\n",
              "        [[4, 7],\n",
              "         [5, 6],\n",
              "         [9, 1],\n",
              "         [3, 6]],\n",
              "\n",
              "        [[5, 7],\n",
              "         [8, 0],\n",
              "         [6, 1],\n",
              "         [1, 5]]]])"
            ]
          },
          "execution_count": 72,
          "metadata": {},
          "output_type": "execute_result"
        }
      ],
      "source": [
        "cd[:, :, :, :2]"
      ]
    },
    {
      "cell_type": "code",
      "execution_count": null,
      "metadata": {
        "colab": {
          "base_uri": "https://localhost:8080/"
        },
        "id": "kn9It0CcvmQv",
        "outputId": "fb61327f-5ed2-4c69-f1e9-86a0c70ab13e"
      },
      "outputs": [
        {
          "data": {
            "text/plain": [
              "array([[[[7, 5, 9, 5, 9],\n",
              "         [9, 4, 7, 0, 1]]],\n",
              "\n",
              "\n",
              "       [[[5, 7, 9, 7, 3],\n",
              "         [9, 2, 2, 6, 2]]]])"
            ]
          },
          "execution_count": 74,
          "metadata": {},
          "output_type": "execute_result"
        }
      ],
      "source": [
        "cd[:2, :2 :2, :2]"
      ]
    },
    {
      "cell_type": "markdown",
      "metadata": {
        "id": "D94Z9tZKwdtx"
      },
      "source": [
        "**Some Extras:**"
      ]
    },
    {
      "cell_type": "code",
      "execution_count": null,
      "metadata": {
        "colab": {
          "base_uri": "https://localhost:8080/"
        },
        "id": "r8PNl3ACv1ov",
        "outputId": "ee65975e-653b-460e-ff07-a3d15bff4cd6"
      },
      "outputs": [
        {
          "data": {
            "text/plain": [
              "array([[[ 0,  1,  2],\n",
              "        [ 3,  4,  5],\n",
              "        [ 6,  7,  8],\n",
              "        [ 9, 10, 11],\n",
              "        [12, 13, 14]],\n",
              "\n",
              "       [[15, 16, 17],\n",
              "        [18, 19, 20],\n",
              "        [21, 22, 23],\n",
              "        [24, 25, 26],\n",
              "        [27, 28, 29]]])"
            ]
          },
          "execution_count": 76,
          "metadata": {},
          "output_type": "execute_result"
        }
      ],
      "source": [
        "a = np.arange(30)\n",
        "b = a.reshape((2, -1, 3))  # -1 means \"whatever is needed\"\n",
        "b.shape\n",
        "\n",
        "b"
      ]
    },
    {
      "cell_type": "code",
      "execution_count": null,
      "metadata": {
        "colab": {
          "base_uri": "https://localhost:8080/"
        },
        "id": "BbXwxNKQwb73",
        "outputId": "df8632a2-22e6-48ad-9bd9-c5382a3ec2ed"
      },
      "outputs": [
        {
          "data": {
            "text/plain": [
              "array([0, 2, 4, 6, 8])"
            ]
          },
          "execution_count": 81,
          "metadata": {},
          "output_type": "execute_result"
        }
      ],
      "source": [
        "x = np.arange(0, 10, 2)\n",
        "x"
      ]
    },
    {
      "cell_type": "code",
      "execution_count": null,
      "metadata": {
        "colab": {
          "base_uri": "https://localhost:8080/"
        },
        "id": "6aqjPwatw2Ju",
        "outputId": "4e8c4b73-f298-479f-85a8-ca6e7b4d1d86"
      },
      "outputs": [
        {
          "data": {
            "text/plain": [
              "array([0, 1, 2, 3, 4])"
            ]
          },
          "execution_count": 82,
          "metadata": {},
          "output_type": "execute_result"
        }
      ],
      "source": [
        "y = np.arange(5)\n",
        "y"
      ]
    },
    {
      "cell_type": "code",
      "execution_count": null,
      "metadata": {
        "colab": {
          "base_uri": "https://localhost:8080/"
        },
        "id": "GVQCzOScw7Cn",
        "outputId": "8ba184bb-3975-4ccf-ba44-375ff2c6b5a3"
      },
      "outputs": [
        {
          "data": {
            "text/plain": [
              "array([[0, 2, 4, 6, 8],\n",
              "       [0, 1, 2, 3, 4]])"
            ]
          },
          "execution_count": 83,
          "metadata": {},
          "output_type": "execute_result"
        }
      ],
      "source": [
        "m = np.vstack([x, y])\n",
        "m\n"
      ]
    },
    {
      "cell_type": "markdown",
      "metadata": {
        "id": "yiFV5po_VBPW"
      },
      "source": [
        "You don't need to learn everything by heart. All you need to know is the basics and where to find what you don't know: \n",
        "More functions: https://numpy.org/doc/stable/reference/routines.math.html \n",
        "\n",
        "NumPy API references must read: https://numpy.org/doc/stable/reference/index.html"
      ]
    },
    {
      "cell_type": "markdown",
      "metadata": {
        "id": "HN2yI4WLV2QI"
      },
      "source": [
        "## Practice Questions\n",
        "1. https://www.w3resource.com/python-exercises/numpy/index.php \n",
        "2. https://www.machinelearningplus.com/python/101-numpy-exercises-python/"
      ]
    }
  ],
  "metadata": {
    "colab": {
      "provenance": [],
      "authorship_tag": "ABX9TyMvpukzcX2+UEs4OWAxfQxH",
      "include_colab_link": true
    },
    "kernelspec": {
      "display_name": "Python 3",
      "name": "python3"
    },
    "language_info": {
      "name": "python"
    }
  },
  "nbformat": 4,
  "nbformat_minor": 0
}
