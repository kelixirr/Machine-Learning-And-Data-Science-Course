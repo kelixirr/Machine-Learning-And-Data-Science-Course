{
  "nbformat": 4,
  "nbformat_minor": 0,
  "metadata": {
    "colab": {
      "provenance": [],
      "authorship_tag": "ABX9TyNNbaP62/r2rmeyr+dV0OnO",
      "include_colab_link": true
    },
    "kernelspec": {
      "name": "python3",
      "display_name": "Python 3"
    },
    "language_info": {
      "name": "python"
    }
  },
  "cells": [
    {
      "cell_type": "markdown",
      "metadata": {
        "id": "view-in-github",
        "colab_type": "text"
      },
      "source": [
        "<a href=\"https://colab.research.google.com/github/kelixirr/Complete-Machine-Learning-And-Data-Science-Course/blob/main/Python_Tutorials_.ipynb\" target=\"_parent\"><img src=\"https://colab.research.google.com/assets/colab-badge.svg\" alt=\"Open In Colab\"/></a>"
      ]
    },
    {
      "cell_type": "markdown",
      "source": [
        "This course is offered by **Odist Academy** and we keep all the rights reserved. Please enroll in course from here: https://pages.razorpay.com/odist-academy-data-science"
      ],
      "metadata": {
        "id": "zJHk34APBTzF"
      }
    },
    {
      "cell_type": "markdown",
      "source": [
        "#Using Python As A Calculator \n",
        "- Addition\n",
        "- Subtraction \n",
        "- Multiplication\n",
        "- Division\n",
        "- Floor Division\n",
        "- Remainder \n",
        "- Power \n",
        "- Square Root \n",
        "- Complex Number \n",
        "- Comnjugate of Cpmplex \n",
        "- abs \n",
        "- Divmod \n"
      ],
      "metadata": {
        "id": "rRB-qWXd07AP"
      }
    },
    {
      "cell_type": "markdown",
      "source": [
        "## Keyboard Shortcuts\n",
        "\n",
        "\n",
        "1.   ctrl/command + shift to execute a shell \n",
        "2.   esc + a to create a code shell before the current one \n",
        "3.   esc + b to create a code shell after the current one\n",
        "4.   ctrl/command + m + d to delete the shell \n",
        "\n"
      ],
      "metadata": {
        "id": "tuuZkiVk2F4_"
      }
    },
    {
      "cell_type": "code",
      "execution_count": null,
      "metadata": {
        "colab": {
          "base_uri": "https://localhost:8080/"
        },
        "id": "gS3yj_1V01BW",
        "outputId": "812f033b-cd54-46ca-f1f8-9e138557a97b"
      },
      "outputs": [
        {
          "output_type": "execute_result",
          "data": {
            "text/plain": [
              "4"
            ]
          },
          "metadata": {},
          "execution_count": 1
        }
      ],
      "source": [
        "# Addition \n",
        "2+2 "
      ]
    },
    {
      "cell_type": "code",
      "source": [
        "# Subtraction \n",
        "4.5-2 #subtracting int from float value"
      ],
      "metadata": {
        "colab": {
          "base_uri": "https://localhost:8080/"
        },
        "id": "7nn5hCdV1gzu",
        "outputId": "bb2beb3a-9053-40d9-fc72-749408f72594"
      },
      "execution_count": null,
      "outputs": [
        {
          "output_type": "execute_result",
          "data": {
            "text/plain": [
              "2.5"
            ]
          },
          "metadata": {},
          "execution_count": 5
        }
      ]
    },
    {
      "cell_type": "code",
      "source": [
        "# Multiplication \n",
        "3*3"
      ],
      "metadata": {
        "colab": {
          "base_uri": "https://localhost:8080/"
        },
        "id": "ii9V2pcg2kj-",
        "outputId": "e2bb9980-76c3-4fdf-f40b-7af20ca6393d"
      },
      "execution_count": null,
      "outputs": [
        {
          "output_type": "execute_result",
          "data": {
            "text/plain": [
              "9"
            ]
          },
          "metadata": {},
          "execution_count": 6
        }
      ]
    },
    {
      "cell_type": "code",
      "source": [
        "# Division \n",
        "8/4 # division always returns a floating point number"
      ],
      "metadata": {
        "colab": {
          "base_uri": "https://localhost:8080/"
        },
        "id": "PE7-DZAB2oHL",
        "outputId": "a3d53d09-41b0-4c0c-bfa1-47d44e556e90"
      },
      "execution_count": null,
      "outputs": [
        {
          "output_type": "execute_result",
          "data": {
            "text/plain": [
              "2.0"
            ]
          },
          "metadata": {},
          "execution_count": 7
        }
      ]
    },
    {
      "cell_type": "code",
      "source": [
        "# Floor Division \n",
        "19 // 3 # floor division discards the fractional part and gives round of result "
      ],
      "metadata": {
        "colab": {
          "base_uri": "https://localhost:8080/"
        },
        "id": "ypuhg5Z71y8J",
        "outputId": "d8ebd2cd-1baa-4307-a6bc-b98906036ee0"
      },
      "execution_count": null,
      "outputs": [
        {
          "output_type": "execute_result",
          "data": {
            "text/plain": [
              "6"
            ]
          },
          "metadata": {},
          "execution_count": 1
        }
      ]
    },
    {
      "cell_type": "code",
      "source": [
        "# Remainder \n",
        "19 % 3"
      ],
      "metadata": {
        "colab": {
          "base_uri": "https://localhost:8080/"
        },
        "id": "x3SWY2Jy2uE_",
        "outputId": "91fc26ef-c543-47e1-e7b3-e3a18d855bd2"
      },
      "execution_count": null,
      "outputs": [
        {
          "output_type": "execute_result",
          "data": {
            "text/plain": [
              "1"
            ]
          },
          "metadata": {},
          "execution_count": 11
        }
      ]
    },
    {
      "cell_type": "code",
      "source": [
        "# Power \n",
        "5 ** 3 "
      ],
      "metadata": {
        "colab": {
          "base_uri": "https://localhost:8080/"
        },
        "id": "jWIW9NFP2sDB",
        "outputId": "09d7f7af-dd61-41f5-fbf7-268864c5db3c"
      },
      "execution_count": null,
      "outputs": [
        {
          "output_type": "execute_result",
          "data": {
            "text/plain": [
              "125"
            ]
          },
          "metadata": {},
          "execution_count": 12
        }
      ]
    },
    {
      "cell_type": "code",
      "source": [
        "# Power another way\n",
        "pow(5,3)"
      ],
      "metadata": {
        "colab": {
          "base_uri": "https://localhost:8080/"
        },
        "id": "nat358eH9s7s",
        "outputId": "bf79add8-12c7-4c55-862e-727ae1551dc1"
      },
      "execution_count": null,
      "outputs": [
        {
          "output_type": "execute_result",
          "data": {
            "text/plain": [
              "125"
            ]
          },
          "metadata": {},
          "execution_count": 20
        }
      ]
    },
    {
      "cell_type": "code",
      "source": [
        "# Square Root \n",
        "4 ** (1/2) "
      ],
      "metadata": {
        "colab": {
          "base_uri": "https://localhost:8080/"
        },
        "id": "rqeO9nGj4WGm",
        "outputId": "aa0cb7c2-27d5-4764-8c23-66edd7e59ab1"
      },
      "execution_count": null,
      "outputs": [
        {
          "output_type": "execute_result",
          "data": {
            "text/plain": [
              "2.0"
            ]
          },
          "metadata": {},
          "execution_count": 17
        }
      ]
    },
    {
      "cell_type": "code",
      "source": [
        "# Cube root \n",
        "pow(8, (1/3)) # to calculate the nth root of any number simply use (1/n) as the power. "
      ],
      "metadata": {
        "colab": {
          "base_uri": "https://localhost:8080/"
        },
        "id": "YJj8UXQh4e71",
        "outputId": "5c10994a-0f84-4428-d3ed-48cec080ae5d"
      },
      "execution_count": null,
      "outputs": [
        {
          "output_type": "execute_result",
          "data": {
            "text/plain": [
              "2.0"
            ]
          },
          "metadata": {},
          "execution_count": 22
        }
      ]
    },
    {
      "cell_type": "code",
      "source": [
        "# absolute value or magnitude\n",
        "abs(-45.09877)"
      ],
      "metadata": {
        "colab": {
          "base_uri": "https://localhost:8080/"
        },
        "id": "TQ2BT0zP4ujN",
        "outputId": "c8988cc7-1b5e-44b2-8c4a-23b72c00fe0d"
      },
      "execution_count": null,
      "outputs": [
        {
          "output_type": "execute_result",
          "data": {
            "text/plain": [
              "45.09877"
            ]
          },
          "metadata": {},
          "execution_count": 24
        }
      ]
    },
    {
      "cell_type": "code",
      "source": [
        "# converting x to int or float \n",
        "\n",
        "x = 5 \n",
        "\n",
        "int (x), float (x )"
      ],
      "metadata": {
        "colab": {
          "base_uri": "https://localhost:8080/"
        },
        "id": "Od3J9DMc-H3P",
        "outputId": "42232839-6e93-41b9-a11c-277f46cad661"
      },
      "execution_count": null,
      "outputs": [
        {
          "output_type": "execute_result",
          "data": {
            "text/plain": [
              "(5, 5.0)"
            ]
          },
          "metadata": {},
          "execution_count": 25
        }
      ]
    },
    {
      "cell_type": "code",
      "source": [
        "# complex number: complex ( complex part, imaginary part)\n",
        "\n",
        "c = complex (5, 4) \n",
        "c"
      ],
      "metadata": {
        "id": "Yyr4nx5K-l1j",
        "outputId": "cd8ba052-d06d-411e-a735-208652527f18",
        "colab": {
          "base_uri": "https://localhost:8080/"
        }
      },
      "execution_count": null,
      "outputs": [
        {
          "output_type": "execute_result",
          "data": {
            "text/plain": [
              "(5+4j)"
            ]
          },
          "metadata": {},
          "execution_count": 2
        }
      ]
    },
    {
      "cell_type": "code",
      "source": [
        "# conjugate of a complex number. A conjugate of a complex number is another complex number which has the same real part as the original complex number and the imaginary part has the same magnitude but opposite sign. If we multiply a complex number with its conjugate, we get a real number.\n",
        "\n",
        "c.conjugate ()"
      ],
      "metadata": {
        "colab": {
          "base_uri": "https://localhost:8080/"
        },
        "id": "ogn5H7op_d8b",
        "outputId": "0c1f4651-f810-41a9-d9ea-229b28556dc6"
      },
      "execution_count": null,
      "outputs": [
        {
          "output_type": "execute_result",
          "data": {
            "text/plain": [
              "(5-4j)"
            ]
          },
          "metadata": {},
          "execution_count": 30
        }
      ]
    },
    {
      "cell_type": "code",
      "source": [
        "# divmod : Gives the pair (x // y, x % y) as output \n",
        "divmod (9, 4)"
      ],
      "metadata": {
        "colab": {
          "base_uri": "https://localhost:8080/"
        },
        "id": "jgZbmodC_w40",
        "outputId": "36d6ba02-c2f8-4d1f-f744-98a9b6465cb7"
      },
      "execution_count": null,
      "outputs": [
        {
          "output_type": "execute_result",
          "data": {
            "text/plain": [
              "(2, 1)"
            ]
          },
          "metadata": {},
          "execution_count": 32
        }
      ]
    },
    {
      "cell_type": "markdown",
      "source": [
        "> 👋 **Must Read** :[ Difference between float, double and decimal. ](https://)"
      ],
      "metadata": {
        "id": "6KQCxydW8sCt"
      }
    },
    {
      "cell_type": "markdown",
      "source": [
        "## Variables Names\n",
        "- We use \"=\" to assign labels(name) to variables \n",
        "- Variable names are helpful when we are using one variable at different places \n",
        "\n",
        "A Python variable is a symbolic name that is a reference or pointer to an object. Once an object is assigned to a variable, you can refer to the object by that name. But the data itself is still contained within the object. \n",
        "[Further Read](https://realpython.com/python-variables/)\n"
      ],
      "metadata": {
        "id": "4r3VoYm7as-X"
      }
    },
    {
      "cell_type": "code",
      "source": [
        "# creating a varibale \n",
        "a = 20 "
      ],
      "metadata": {
        "id": "f-UmuMU5UJ1Y"
      },
      "execution_count": null,
      "outputs": []
    },
    {
      "cell_type": "code",
      "source": [
        "b = 30 "
      ],
      "metadata": {
        "id": "ApXIOR38eSlC"
      },
      "execution_count": null,
      "outputs": []
    },
    {
      "cell_type": "code",
      "source": [
        "b = a "
      ],
      "metadata": {
        "id": "OHdbFCsZeVVN"
      },
      "execution_count": null,
      "outputs": []
    },
    {
      "cell_type": "code",
      "source": [
        "a "
      ],
      "metadata": {
        "colab": {
          "base_uri": "https://localhost:8080/"
        },
        "id": "nlW2NCmweW83",
        "outputId": "92816071-df7e-4306-8ac1-ded584a9e40d"
      },
      "execution_count": null,
      "outputs": [
        {
          "output_type": "execute_result",
          "data": {
            "text/plain": [
              "20"
            ]
          },
          "metadata": {},
          "execution_count": 4
        }
      ]
    },
    {
      "cell_type": "code",
      "source": [
        "b "
      ],
      "metadata": {
        "colab": {
          "base_uri": "https://localhost:8080/"
        },
        "id": "snaz0R1seXx9",
        "outputId": "f285990b-caa7-43f7-ea18-9ad19c64f6e2"
      },
      "execution_count": null,
      "outputs": [
        {
          "output_type": "execute_result",
          "data": {
            "text/plain": [
              "20"
            ]
          },
          "metadata": {},
          "execution_count": 5
        }
      ]
    },
    {
      "cell_type": "markdown",
      "source": [
        "As you can see above that now 30 is not accessible by b because we have reassigned the value of a to b. This means when python notices that the variables refrencing to an object drops to zero it will no longer be accessible. This is called garbage collection: the memory allocatd to it will be used for something else. "
      ],
      "metadata": {
        "id": "iCXrx_dJedUz"
      }
    },
    {
      "cell_type": "code",
      "source": [
        "# You can also perform operations on these variables\n",
        "c = a + b "
      ],
      "metadata": {
        "id": "Xhb2YYTEebUZ"
      },
      "execution_count": null,
      "outputs": []
    },
    {
      "cell_type": "code",
      "source": [
        "c  # output will be 40 as a and b are 20 "
      ],
      "metadata": {
        "colab": {
          "base_uri": "https://localhost:8080/"
        },
        "id": "7rnFcHhPfa_Z",
        "outputId": "8e4140fb-7813-4415-931a-fe714a4a3fd8"
      },
      "execution_count": null,
      "outputs": [
        {
          "output_type": "execute_result",
          "data": {
            "text/plain": [
              "40"
            ]
          },
          "metadata": {},
          "execution_count": 8
        }
      ]
    },
    {
      "cell_type": "markdown",
      "source": [
        "### ID of the variable"
      ],
      "metadata": {
        "id": "04Mzp-q1hzuu"
      }
    },
    {
      "cell_type": "code",
      "source": [
        "id(c)"
      ],
      "metadata": {
        "colab": {
          "base_uri": "https://localhost:8080/"
        },
        "id": "_7cjS3-uh4qH",
        "outputId": "0e961760-eddd-4f3e-fc5f-49b892f1f9fe"
      },
      "execution_count": null,
      "outputs": [
        {
          "output_type": "execute_result",
          "data": {
            "text/plain": [
              "9794336"
            ]
          },
          "metadata": {},
          "execution_count": 9
        }
      ]
    },
    {
      "cell_type": "code",
      "source": [
        "id(a), id(b)"
      ],
      "metadata": {
        "colab": {
          "base_uri": "https://localhost:8080/"
        },
        "id": "bg7eXOSRh68X",
        "outputId": "1af7716c-7325-4acf-a3dd-db8f5f3dab4f"
      },
      "execution_count": null,
      "outputs": [
        {
          "output_type": "execute_result",
          "data": {
            "text/plain": [
              "(9793696, 9793696)"
            ]
          },
          "metadata": {},
          "execution_count": 11
        }
      ]
    },
    {
      "cell_type": "markdown",
      "source": [
        "### Varibale Names Guidelines\n",
        "1. Names can not start with a number but numbers can be used in between. \n",
        "2. Don't use spaces in the name, use _ instead.\n",
        "3. Don't use symbols. \n",
        "4. Keep names in lowercase or maintain consitency. \n",
        "5. Avoid using the characters 'l', 'O' 'I' as single character variable names.\n",
        "6. Avoid using reserved keywords in Python like \"list\", \"for\" and \"str\" \n",
        "\n",
        "> Naming Convention: [further read](https://peps.python.org/pep-0008/#naming-conventions)"
      ],
      "metadata": {
        "id": "Et-Y7g6GgKHZ"
      }
    },
    {
      "cell_type": "markdown",
      "source": [
        "**You can add, subtract, multiply and divide numbers with reassignment using +=, -=, *=, and /=.**"
      ],
      "metadata": {
        "id": "D3ES9BSAlGvB"
      }
    },
    {
      "cell_type": "code",
      "source": [
        "a = 10 \n",
        "a += 2\n",
        "a "
      ],
      "metadata": {
        "colab": {
          "base_uri": "https://localhost:8080/"
        },
        "id": "4RfqrLVTfe7m",
        "outputId": "9643d481-47cd-4253-ce99-df793bea81ef"
      },
      "execution_count": null,
      "outputs": [
        {
          "output_type": "execute_result",
          "data": {
            "text/plain": [
              "12"
            ]
          },
          "metadata": {},
          "execution_count": 20
        }
      ]
    },
    {
      "cell_type": "code",
      "source": [
        "a *= 2 "
      ],
      "metadata": {
        "id": "3cfpw0EZmO3X"
      },
      "execution_count": null,
      "outputs": []
    },
    {
      "cell_type": "code",
      "source": [
        "a"
      ],
      "metadata": {
        "colab": {
          "base_uri": "https://localhost:8080/"
        },
        "id": "gPYwj6s6mRgX",
        "outputId": "3372b905-ce43-4e2f-b322-6474e343797d"
      },
      "execution_count": null,
      "outputs": [
        {
          "output_type": "execute_result",
          "data": {
            "text/plain": [
              "24"
            ]
          },
          "metadata": {},
          "execution_count": 22
        }
      ]
    },
    {
      "cell_type": "code",
      "source": [
        "b = 30 \n",
        "b -= 2 \n",
        "b "
      ],
      "metadata": {
        "colab": {
          "base_uri": "https://localhost:8080/"
        },
        "id": "XPNf447bmgC3",
        "outputId": "ade00798-029e-42d5-ca35-cb7f697cfe30"
      },
      "execution_count": null,
      "outputs": [
        {
          "output_type": "execute_result",
          "data": {
            "text/plain": [
              "28"
            ]
          },
          "metadata": {},
          "execution_count": 27
        }
      ]
    },
    {
      "cell_type": "code",
      "source": [
        "b /= 14"
      ],
      "metadata": {
        "id": "cTMtS4Vhmlw-"
      },
      "execution_count": null,
      "outputs": []
    },
    {
      "cell_type": "code",
      "source": [
        "b "
      ],
      "metadata": {
        "colab": {
          "base_uri": "https://localhost:8080/"
        },
        "id": "75ffcFcTmr2m",
        "outputId": "6fb33392-deed-48e6-ce63-aad6af916184"
      },
      "execution_count": null,
      "outputs": [
        {
          "output_type": "execute_result",
          "data": {
            "text/plain": [
              "2.0"
            ]
          },
          "metadata": {},
          "execution_count": 29
        }
      ]
    },
    {
      "cell_type": "markdown",
      "source": [
        "To check the type of the object assigned to any variable use type() built in function"
      ],
      "metadata": {
        "id": "To8E80q8mytC"
      }
    },
    {
      "cell_type": "code",
      "source": [
        "c = 30\n",
        "d = 20.2 \n",
        "e = \"string\"\n",
        "f = False \n",
        "type(c), type(d), type(e), type(f)"
      ],
      "metadata": {
        "colab": {
          "base_uri": "https://localhost:8080/"
        },
        "id": "-AHjc2rpmsnW",
        "outputId": "ac82efd6-8d6e-4309-f9c1-2e029309c0d4"
      },
      "execution_count": null,
      "outputs": [
        {
          "output_type": "execute_result",
          "data": {
            "text/plain": [
              "(int, float, str, bool)"
            ]
          },
          "metadata": {},
          "execution_count": 34
        }
      ]
    },
    {
      "cell_type": "markdown",
      "source": [
        "## Strings \n",
        "Strings are sequence in Pyhton which means Python knows about each letter of the strings. It is used to store text information. "
      ],
      "metadata": {
        "id": "0IMmzz1BoE_H"
      }
    },
    {
      "cell_type": "code",
      "source": [
        "# creating a string \n",
        "\"cat\""
      ],
      "metadata": {
        "colab": {
          "base_uri": "https://localhost:8080/",
          "height": 35
        },
        "id": "Khc0a6Vlm_sW",
        "outputId": "3343b0cf-b6da-4069-e4cf-4c0d4df7585d"
      },
      "execution_count": null,
      "outputs": [
        {
          "output_type": "execute_result",
          "data": {
            "text/plain": [
              "'cat'"
            ],
            "application/vnd.google.colaboratory.intrinsic+json": {
              "type": "string"
            }
          },
          "metadata": {},
          "execution_count": 35
        }
      ]
    },
    {
      "cell_type": "code",
      "source": [
        "# you can also use single quote \n",
        "'cat'"
      ],
      "metadata": {
        "colab": {
          "base_uri": "https://localhost:8080/",
          "height": 35
        },
        "id": "R3lzDSS5oe3K",
        "outputId": "46fa457f-7a96-48ec-ea22-584a15f73f22"
      },
      "execution_count": null,
      "outputs": [
        {
          "output_type": "execute_result",
          "data": {
            "text/plain": [
              "'cat'"
            ],
            "application/vnd.google.colaboratory.intrinsic+json": {
              "type": "string"
            }
          },
          "metadata": {},
          "execution_count": 36
        }
      ]
    },
    {
      "cell_type": "code",
      "source": [
        "# you can also use a sentence\n",
        "\"I am a cat\""
      ],
      "metadata": {
        "colab": {
          "base_uri": "https://localhost:8080/",
          "height": 35
        },
        "id": "3W8IK_1ZolCu",
        "outputId": "c6e49bb1-acbd-4d70-e003-285c6b442b74"
      },
      "execution_count": null,
      "outputs": [
        {
          "output_type": "execute_result",
          "data": {
            "text/plain": [
              "'I am a cat'"
            ],
            "application/vnd.google.colaboratory.intrinsic+json": {
              "type": "string"
            }
          },
          "metadata": {},
          "execution_count": 38
        }
      ]
    },
    {
      "cell_type": "code",
      "source": [
        "# if you want to get rid of single quote from the output \n",
        "print(\"cat\")"
      ],
      "metadata": {
        "colab": {
          "base_uri": "https://localhost:8080/"
        },
        "id": "dJttdvx7opBO",
        "outputId": "8db0636b-117d-4901-f5f5-506fe87d9021"
      },
      "execution_count": null,
      "outputs": [
        {
          "output_type": "stream",
          "name": "stdout",
          "text": [
            "cat\n"
          ]
        }
      ]
    },
    {
      "cell_type": "code",
      "source": [
        "# conflict with single or double quote\n",
        "'I'm a cat'"
      ],
      "metadata": {
        "colab": {
          "base_uri": "https://localhost:8080/",
          "height": 131
        },
        "id": "2zSEwH5goyS_",
        "outputId": "fd4d1157-d019-476c-e724-4164056167ba"
      },
      "execution_count": null,
      "outputs": [
        {
          "output_type": "error",
          "ename": "SyntaxError",
          "evalue": "ignored",
          "traceback": [
            "\u001b[0;36m  File \u001b[0;32m\"<ipython-input-40-d7fc7d8fb776>\"\u001b[0;36m, line \u001b[0;32m2\u001b[0m\n\u001b[0;31m    'I'm a cat'\u001b[0m\n\u001b[0m       ^\u001b[0m\n\u001b[0;31mSyntaxError\u001b[0m\u001b[0;31m:\u001b[0m invalid syntax\n"
          ]
        }
      ]
    },
    {
      "cell_type": "code",
      "source": [
        "# to resolve the conflict use combination \n",
        "\"I'm a cat\"\n"
      ],
      "metadata": {
        "colab": {
          "base_uri": "https://localhost:8080/",
          "height": 35
        },
        "id": "EYj1ZXakpDUv",
        "outputId": "29d6403a-6d00-413b-c1e4-f46f042372b5"
      },
      "execution_count": null,
      "outputs": [
        {
          "output_type": "execute_result",
          "data": {
            "text/plain": [
              "\"I'm a cat\""
            ],
            "application/vnd.google.colaboratory.intrinsic+json": {
              "type": "string"
            }
          },
          "metadata": {},
          "execution_count": 41
        }
      ]
    },
    {
      "cell_type": "code",
      "source": [
        "# or you can use escape sequence (\\ is called escape character and some defined character followed by it is called escape sequence)\n",
        "'I\\'m a cat'"
      ],
      "metadata": {
        "colab": {
          "base_uri": "https://localhost:8080/",
          "height": 35
        },
        "id": "Yd8RjEzQpNdP",
        "outputId": "8d9eb621-6039-4837-d721-e7eb001e2933"
      },
      "execution_count": null,
      "outputs": [
        {
          "output_type": "execute_result",
          "data": {
            "text/plain": [
              "\"I'm a cat\""
            ],
            "application/vnd.google.colaboratory.intrinsic+json": {
              "type": "string"
            }
          },
          "metadata": {},
          "execution_count": 42
        }
      ]
    },
    {
      "cell_type": "code",
      "source": [
        "# adding a new line \n",
        " \"I am a cat\n",
        "  I am a dog\""
      ],
      "metadata": {
        "colab": {
          "base_uri": "https://localhost:8080/",
          "height": 131
        },
        "id": "KKhhxUa8pqcW",
        "outputId": "1ba46595-ada6-4f4c-923b-070d844195e4"
      },
      "execution_count": null,
      "outputs": [
        {
          "output_type": "error",
          "ename": "SyntaxError",
          "evalue": "ignored",
          "traceback": [
            "\u001b[0;36m  File \u001b[0;32m\"<ipython-input-45-a95a5da23e94>\"\u001b[0;36m, line \u001b[0;32m2\u001b[0m\n\u001b[0;31m    \"I am a cat\u001b[0m\n\u001b[0m               ^\u001b[0m\n\u001b[0;31mSyntaxError\u001b[0m\u001b[0;31m:\u001b[0m EOL while scanning string literal\n"
          ]
        }
      ]
    },
    {
      "cell_type": "code",
      "source": [
        "# to get rid of the error use \\\n",
        "\"I am a cat\\\n",
        " I am a dog\""
      ],
      "metadata": {
        "colab": {
          "base_uri": "https://localhost:8080/",
          "height": 35
        },
        "id": "d9rGfseFqIhu",
        "outputId": "04550ccd-bdad-41b2-8a71-2061975fc03b"
      },
      "execution_count": null,
      "outputs": [
        {
          "output_type": "execute_result",
          "data": {
            "text/plain": [
              "'I am a cat I am a dog'"
            ],
            "application/vnd.google.colaboratory.intrinsic+json": {
              "type": "string"
            }
          },
          "metadata": {},
          "execution_count": 60
        }
      ]
    },
    {
      "cell_type": "code",
      "source": [
        "# length of a string \n",
        "len('cat')"
      ],
      "metadata": {
        "colab": {
          "base_uri": "https://localhost:8080/"
        },
        "id": "gK50JZxGrbc3",
        "outputId": "c34a8b87-8ec2-474c-8c14-93b2115f57c7"
      },
      "execution_count": null,
      "outputs": [
        {
          "output_type": "execute_result",
          "data": {
            "text/plain": [
              "3"
            ]
          },
          "metadata": {},
          "execution_count": 61
        }
      ]
    },
    {
      "cell_type": "code",
      "source": [
        "a = \"cat\"\n",
        "len(a)"
      ],
      "metadata": {
        "colab": {
          "base_uri": "https://localhost:8080/"
        },
        "id": "OdDoyw9bssHx",
        "outputId": "f868998a-2544-432e-c0ba-d11972c9901b"
      },
      "execution_count": null,
      "outputs": [
        {
          "output_type": "execute_result",
          "data": {
            "text/plain": [
              "3"
            ]
          },
          "metadata": {},
          "execution_count": 62
        }
      ]
    },
    {
      "cell_type": "markdown",
      "source": [
        "### String indexing and slicing \n",
        "we use brackets [ ] after an object to call its index. Indexing starts at 0 in Python "
      ],
      "metadata": {
        "id": "OEhbpDbTtOpp"
      }
    },
    {
      "cell_type": "code",
      "source": [
        "# create a string \n",
        "s = \"Python\" "
      ],
      "metadata": {
        "id": "260WujcAszef"
      },
      "execution_count": null,
      "outputs": []
    },
    {
      "cell_type": "code",
      "source": [
        "# Check\n",
        "s "
      ],
      "metadata": {
        "colab": {
          "base_uri": "https://localhost:8080/",
          "height": 35
        },
        "id": "iyKjNiVCtjQg",
        "outputId": "66f4b0b4-be96-4e3b-c6a3-b02b51f7f848"
      },
      "execution_count": null,
      "outputs": [
        {
          "output_type": "execute_result",
          "data": {
            "text/plain": [
              "'Python'"
            ],
            "application/vnd.google.colaboratory.intrinsic+json": {
              "type": "string"
            }
          },
          "metadata": {},
          "execution_count": 64
        }
      ]
    },
    {
      "cell_type": "code",
      "source": [
        "# check what is at the first index \n",
        "s[0]"
      ],
      "metadata": {
        "colab": {
          "base_uri": "https://localhost:8080/",
          "height": 35
        },
        "id": "XRZ8ECX4tlUW",
        "outputId": "64aab795-5da4-4d39-dcd3-0f6ddcc51eb1"
      },
      "execution_count": null,
      "outputs": [
        {
          "output_type": "execute_result",
          "data": {
            "text/plain": [
              "'P'"
            ],
            "application/vnd.google.colaboratory.intrinsic+json": {
              "type": "string"
            }
          },
          "metadata": {},
          "execution_count": 65
        }
      ]
    },
    {
      "cell_type": "code",
      "source": [
        "# check what is at the last index \n",
        "s[-1] # we use -1 for the last index in Python "
      ],
      "metadata": {
        "colab": {
          "base_uri": "https://localhost:8080/",
          "height": 35
        },
        "id": "jgT6f5ugtsdO",
        "outputId": "c4e038cc-4fba-401d-f16e-4e6d01720ee3"
      },
      "execution_count": null,
      "outputs": [
        {
          "output_type": "execute_result",
          "data": {
            "text/plain": [
              "'n'"
            ],
            "application/vnd.google.colaboratory.intrinsic+json": {
              "type": "string"
            }
          },
          "metadata": {},
          "execution_count": 66
        }
      ]
    },
    {
      "cell_type": "markdown",
      "source": [
        "To peform slicing we use : in pyhton. "
      ],
      "metadata": {
        "id": "MjyUpGM0t__S"
      }
    },
    {
      "cell_type": "code",
      "source": [
        "# Grab everything past the first term all the way to the end \n",
        "s[1:]"
      ],
      "metadata": {
        "colab": {
          "base_uri": "https://localhost:8080/",
          "height": 35
        },
        "id": "M4_F1wTVt4Gu",
        "outputId": "3baa9616-c053-4d6d-dee1-25af5a72dde5"
      },
      "execution_count": null,
      "outputs": [
        {
          "output_type": "execute_result",
          "data": {
            "text/plain": [
              "'ython'"
            ],
            "application/vnd.google.colaboratory.intrinsic+json": {
              "type": "string"
            }
          },
          "metadata": {},
          "execution_count": 67
        }
      ]
    },
    {
      "cell_type": "code",
      "source": [
        "# get everything \n",
        "s[0:], s[:]"
      ],
      "metadata": {
        "colab": {
          "base_uri": "https://localhost:8080/"
        },
        "id": "kK8l3iTiuQWf",
        "outputId": "70cfd98d-3280-4aa2-f24e-eab49c0a3c62"
      },
      "execution_count": null,
      "outputs": [
        {
          "output_type": "execute_result",
          "data": {
            "text/plain": [
              "('Python', 'Python')"
            ]
          },
          "metadata": {},
          "execution_count": 69
        }
      ]
    },
    {
      "cell_type": "code",
      "source": [
        "s # no change in origincal s "
      ],
      "metadata": {
        "colab": {
          "base_uri": "https://localhost:8080/",
          "height": 35
        },
        "id": "SuHktAvGuShO",
        "outputId": "38bba40d-cb55-43be-e1cf-071df021dab8"
      },
      "execution_count": null,
      "outputs": [
        {
          "output_type": "execute_result",
          "data": {
            "text/plain": [
              "'Python'"
            ],
            "application/vnd.google.colaboratory.intrinsic+json": {
              "type": "string"
            }
          },
          "metadata": {},
          "execution_count": 70
        }
      ]
    },
    {
      "cell_type": "code",
      "source": [
        "# grab everyhting until 4th index \n",
        "s[:4] # notice 4th index is not included or the last one in the range "
      ],
      "metadata": {
        "colab": {
          "base_uri": "https://localhost:8080/",
          "height": 35
        },
        "id": "qmsAQ46mudb3",
        "outputId": "a2e54074-719a-46ee-e05a-49434cc0e8b6"
      },
      "execution_count": null,
      "outputs": [
        {
          "output_type": "execute_result",
          "data": {
            "text/plain": [
              "'Pyth'"
            ],
            "application/vnd.google.colaboratory.intrinsic+json": {
              "type": "string"
            }
          },
          "metadata": {},
          "execution_count": 71
        }
      ]
    },
    {
      "cell_type": "code",
      "source": [
        "# get everything except the last one \n",
        "s[:-1]"
      ],
      "metadata": {
        "colab": {
          "base_uri": "https://localhost:8080/",
          "height": 35
        },
        "id": "ZJXNzgNUuqZv",
        "outputId": "771c0ce8-6bf9-455f-9d95-48d71ba1f47d"
      },
      "execution_count": null,
      "outputs": [
        {
          "output_type": "execute_result",
          "data": {
            "text/plain": [
              "'Pytho'"
            ],
            "application/vnd.google.colaboratory.intrinsic+json": {
              "type": "string"
            }
          },
          "metadata": {},
          "execution_count": 72
        }
      ]
    },
    {
      "cell_type": "code",
      "source": [
        "s[-1:]"
      ],
      "metadata": {
        "colab": {
          "base_uri": "https://localhost:8080/",
          "height": 35
        },
        "id": "R45gp8cQu5Qn",
        "outputId": "328adc15-47b2-4ac8-ef2f-c82cde4ef778"
      },
      "execution_count": null,
      "outputs": [
        {
          "output_type": "execute_result",
          "data": {
            "text/plain": [
              "'n'"
            ],
            "application/vnd.google.colaboratory.intrinsic+json": {
              "type": "string"
            }
          },
          "metadata": {},
          "execution_count": 73
        }
      ]
    },
    {
      "cell_type": "code",
      "source": [
        "# defining step/stride size\n",
        "# get everything with step size of one, step size is defined in between two [from the index:upto the index:stepsize]\n",
        "s[::1]"
      ],
      "metadata": {
        "colab": {
          "base_uri": "https://localhost:8080/",
          "height": 35
        },
        "id": "pDqscgttu68f",
        "outputId": "65b09730-d007-4caf-db22-ca21e762a20b"
      },
      "execution_count": null,
      "outputs": [
        {
          "output_type": "execute_result",
          "data": {
            "text/plain": [
              "'Python'"
            ],
            "application/vnd.google.colaboratory.intrinsic+json": {
              "type": "string"
            }
          },
          "metadata": {},
          "execution_count": 75
        }
      ]
    },
    {
      "cell_type": "code",
      "source": [
        "# in step size 2 get everyhting \n",
        "s[::2]"
      ],
      "metadata": {
        "colab": {
          "base_uri": "https://localhost:8080/",
          "height": 35
        },
        "id": "YxJMow3qvZTp",
        "outputId": "317bd2d0-28ad-4e8f-ebc3-94943db8cfa6"
      },
      "execution_count": null,
      "outputs": [
        {
          "output_type": "execute_result",
          "data": {
            "text/plain": [
              "'Pto'"
            ],
            "application/vnd.google.colaboratory.intrinsic+json": {
              "type": "string"
            }
          },
          "metadata": {},
          "execution_count": 76
        }
      ]
    },
    {
      "cell_type": "code",
      "source": [
        "s[2:5:2]"
      ],
      "metadata": {
        "colab": {
          "base_uri": "https://localhost:8080/",
          "height": 35
        },
        "id": "K1k7qoaCvsy_",
        "outputId": "5fb11be1-eead-4fad-b168-d6b6dadd8fc8"
      },
      "execution_count": null,
      "outputs": [
        {
          "output_type": "execute_result",
          "data": {
            "text/plain": [
              "'to'"
            ],
            "application/vnd.google.colaboratory.intrinsic+json": {
              "type": "string"
            }
          },
          "metadata": {},
          "execution_count": 77
        }
      ]
    },
    {
      "cell_type": "code",
      "source": [
        "# reverse the string (use this to reverse the string)\n",
        "s[::-1]"
      ],
      "metadata": {
        "colab": {
          "base_uri": "https://localhost:8080/",
          "height": 35
        },
        "id": "_SpHccGbvxBH",
        "outputId": "720ec75d-a49b-4656-c892-0adeb03693c1"
      },
      "execution_count": null,
      "outputs": [
        {
          "output_type": "execute_result",
          "data": {
            "text/plain": [
              "'nohtyP'"
            ],
            "application/vnd.google.colaboratory.intrinsic+json": {
              "type": "string"
            }
          },
          "metadata": {},
          "execution_count": 78
        }
      ]
    },
    {
      "cell_type": "markdown",
      "source": [
        "### Properties of strings "
      ],
      "metadata": {
        "id": "ciQJQgafwLhv"
      }
    },
    {
      "cell_type": "code",
      "source": [
        "s[0] = 'L'"
      ],
      "metadata": {
        "colab": {
          "base_uri": "https://localhost:8080/",
          "height": 166
        },
        "id": "3PHa3m-fv5nX",
        "outputId": "5e23b277-1d60-4fda-8360-e2b8256b0c1b"
      },
      "execution_count": null,
      "outputs": [
        {
          "output_type": "error",
          "ename": "TypeError",
          "evalue": "ignored",
          "traceback": [
            "\u001b[0;31m---------------------------------------------------------------------------\u001b[0m",
            "\u001b[0;31mTypeError\u001b[0m                                 Traceback (most recent call last)",
            "\u001b[0;32m<ipython-input-79-05532bc9bcc9>\u001b[0m in \u001b[0;36m<module>\u001b[0;34m\u001b[0m\n\u001b[0;32m----> 1\u001b[0;31m \u001b[0ms\u001b[0m\u001b[0;34m[\u001b[0m\u001b[0;36m0\u001b[0m\u001b[0;34m]\u001b[0m \u001b[0;34m=\u001b[0m \u001b[0;34m'L'\u001b[0m\u001b[0;34m\u001b[0m\u001b[0;34m\u001b[0m\u001b[0m\n\u001b[0m",
            "\u001b[0;31mTypeError\u001b[0m: 'str' object does not support item assignment"
          ]
        }
      ]
    },
    {
      "cell_type": "markdown",
      "source": [
        "This means once the string is created it becomes immutable. "
      ],
      "metadata": {
        "id": "82I3RNeMwYHI"
      }
    },
    {
      "cell_type": "code",
      "source": [
        "# but we can concatenate strings\n",
        "s + ' is amazing'"
      ],
      "metadata": {
        "colab": {
          "base_uri": "https://localhost:8080/",
          "height": 35
        },
        "id": "LwoS1_efwXGv",
        "outputId": "f7834d6d-65fb-47c3-c5b9-7d15bc44088c"
      },
      "execution_count": null,
      "outputs": [
        {
          "output_type": "execute_result",
          "data": {
            "text/plain": [
              "'Python is amazing'"
            ],
            "application/vnd.google.colaboratory.intrinsic+json": {
              "type": "string"
            }
          },
          "metadata": {},
          "execution_count": 84
        }
      ]
    },
    {
      "cell_type": "code",
      "source": [
        "# also you use * to create repetition \n",
        "p = 's'\n",
        "p*20"
      ],
      "metadata": {
        "colab": {
          "base_uri": "https://localhost:8080/",
          "height": 35
        },
        "id": "TaeOO_vBxep-",
        "outputId": "10cfb61b-1b36-4b93-da85-c35234f3ad4b"
      },
      "execution_count": null,
      "outputs": [
        {
          "output_type": "execute_result",
          "data": {
            "text/plain": [
              "'ssssssssssssssssssss'"
            ],
            "application/vnd.google.colaboratory.intrinsic+json": {
              "type": "string"
            }
          },
          "metadata": {},
          "execution_count": 90
        }
      ]
    },
    {
      "cell_type": "markdown",
      "source": [
        "### Built in string methods \n",
        "methods are functions inside the specific objects. We call them using dot(.) method() on the object. Always use '()' on method. "
      ],
      "metadata": {
        "id": "QIYkaent0d_n"
      }
    },
    {
      "cell_type": "code",
      "source": [
        "c = 'circle'"
      ],
      "metadata": {
        "id": "pidhgps11CHT"
      },
      "execution_count": null,
      "outputs": []
    },
    {
      "cell_type": "code",
      "source": [
        "c.upper() # all letters will be uppercase"
      ],
      "metadata": {
        "colab": {
          "base_uri": "https://localhost:8080/",
          "height": 35
        },
        "id": "ujeQYBO71Gk4",
        "outputId": "a7419d9f-06d0-4566-f92b-76c0c1f8ea10"
      },
      "execution_count": null,
      "outputs": [
        {
          "output_type": "execute_result",
          "data": {
            "text/plain": [
              "'CIRCLE'"
            ],
            "application/vnd.google.colaboratory.intrinsic+json": {
              "type": "string"
            }
          },
          "metadata": {},
          "execution_count": 93
        }
      ]
    },
    {
      "cell_type": "code",
      "source": [
        "c.lower() # all letters to lowercase"
      ],
      "metadata": {
        "colab": {
          "base_uri": "https://localhost:8080/",
          "height": 35
        },
        "id": "RSv5H4mf1LI2",
        "outputId": "4fa011d4-f296-4e25-ffd7-d9d846c6ad6e"
      },
      "execution_count": null,
      "outputs": [
        {
          "output_type": "execute_result",
          "data": {
            "text/plain": [
              "'circle'"
            ],
            "application/vnd.google.colaboratory.intrinsic+json": {
              "type": "string"
            }
          },
          "metadata": {},
          "execution_count": 94
        }
      ]
    },
    {
      "cell_type": "code",
      "source": [
        "c.capitalize() #capitalize first letter"
      ],
      "metadata": {
        "colab": {
          "base_uri": "https://localhost:8080/",
          "height": 35
        },
        "id": "Xe0t-nnp1Rlu",
        "outputId": "4f2decfb-d9f4-45c5-e96d-16dbae5f36a5"
      },
      "execution_count": null,
      "outputs": [
        {
          "output_type": "execute_result",
          "data": {
            "text/plain": [
              "'Circle'"
            ],
            "application/vnd.google.colaboratory.intrinsic+json": {
              "type": "string"
            }
          },
          "metadata": {},
          "execution_count": 96
        }
      ]
    },
    {
      "cell_type": "code",
      "source": [
        "d = 'Pyhton iS Amazing'\n",
        "d.swapcase() # returns a copy of d with uppercase alphabetic characters converted to lowercase and vice versa"
      ],
      "metadata": {
        "colab": {
          "base_uri": "https://localhost:8080/",
          "height": 35
        },
        "id": "Hz53pAF91V82",
        "outputId": "0e3950d8-85ee-4007-8d14-28f7d34e8a35"
      },
      "execution_count": null,
      "outputs": [
        {
          "output_type": "execute_result",
          "data": {
            "text/plain": [
              "'pYHTON Is aMAZING'"
            ],
            "application/vnd.google.colaboratory.intrinsic+json": {
              "type": "string"
            }
          },
          "metadata": {},
          "execution_count": 99
        }
      ]
    },
    {
      "cell_type": "code",
      "source": [
        "d.title() #turns a copy of d in which the first letter of each word is converted to uppercase and remaining letters are lowercase"
      ],
      "metadata": {
        "colab": {
          "base_uri": "https://localhost:8080/",
          "height": 35
        },
        "id": "6pKsE7vV1mhp",
        "outputId": "52226290-8400-4cfc-d5e4-5e58aefb4527"
      },
      "execution_count": null,
      "outputs": [
        {
          "output_type": "execute_result",
          "data": {
            "text/plain": [
              "'Pyhton Is Amazing'"
            ],
            "application/vnd.google.colaboratory.intrinsic+json": {
              "type": "string"
            }
          },
          "metadata": {},
          "execution_count": 100
        }
      ]
    },
    {
      "cell_type": "code",
      "source": [
        "d.capitalize() # only first letter is uppercase"
      ],
      "metadata": {
        "colab": {
          "base_uri": "https://localhost:8080/",
          "height": 35
        },
        "id": "wtiPe6RJ1_2p",
        "outputId": "fc48a60f-6db4-4de4-b593-e8bb80647f75"
      },
      "execution_count": null,
      "outputs": [
        {
          "output_type": "execute_result",
          "data": {
            "text/plain": [
              "'Pyhton is amazing'"
            ],
            "application/vnd.google.colaboratory.intrinsic+json": {
              "type": "string"
            }
          },
          "metadata": {},
          "execution_count": 101
        }
      ]
    },
    {
      "cell_type": "code",
      "source": [
        "d.split() # split "
      ],
      "metadata": {
        "colab": {
          "base_uri": "https://localhost:8080/"
        },
        "id": "e5bF5NQ22FDv",
        "outputId": "4cf30ded-5e12-4990-df96-078127eb405e"
      },
      "execution_count": null,
      "outputs": [
        {
          "output_type": "execute_result",
          "data": {
            "text/plain": [
              "['Pyhton', 'iS', 'Amazing']"
            ]
          },
          "metadata": {},
          "execution_count": 102
        }
      ]
    },
    {
      "cell_type": "code",
      "source": [
        "# Split by a specific element\n",
        "d.split('Am')"
      ],
      "metadata": {
        "colab": {
          "base_uri": "https://localhost:8080/"
        },
        "id": "27UIh8-Q2Z92",
        "outputId": "d324d1a4-98c3-494a-8525-53e297b5824a"
      },
      "execution_count": null,
      "outputs": [
        {
          "output_type": "execute_result",
          "data": {
            "text/plain": [
              "['Pyhton iS ', 'azing']"
            ]
          },
          "metadata": {},
          "execution_count": 103
        }
      ]
    },
    {
      "cell_type": "code",
      "source": [
        "d.count('Python') #returns the number of non-overlapping occurrences of substring"
      ],
      "metadata": {
        "colab": {
          "base_uri": "https://localhost:8080/"
        },
        "id": "PW3a08as2suo",
        "outputId": "75019e02-3b8a-4e25-b190-5f47acb1056c"
      },
      "execution_count": null,
      "outputs": [
        {
          "output_type": "execute_result",
          "data": {
            "text/plain": [
              "0"
            ]
          },
          "metadata": {},
          "execution_count": 104
        }
      ]
    },
    {
      "cell_type": "code",
      "source": [
        "d.count('i', 0, 16)  #restricted to the number of occurrences within index range"
      ],
      "metadata": {
        "colab": {
          "base_uri": "https://localhost:8080/"
        },
        "id": "jvxrqg2K21oY",
        "outputId": "85102770-d951-4355-aa0b-347a9c6a22f1"
      },
      "execution_count": null,
      "outputs": [
        {
          "output_type": "execute_result",
          "data": {
            "text/plain": [
              "2"
            ]
          },
          "metadata": {},
          "execution_count": 111
        }
      ]
    },
    {
      "cell_type": "code",
      "source": [
        "c.endswith('n')"
      ],
      "metadata": {
        "colab": {
          "base_uri": "https://localhost:8080/"
        },
        "id": "ofqq_G8U2824",
        "outputId": "cb0fb98e-e644-4eb1-b62c-7b28622ccb15"
      },
      "execution_count": null,
      "outputs": [
        {
          "output_type": "execute_result",
          "data": {
            "text/plain": [
              "False"
            ]
          },
          "metadata": {},
          "execution_count": 113
        }
      ]
    },
    {
      "cell_type": "code",
      "source": [
        "c.endswith('e')"
      ],
      "metadata": {
        "colab": {
          "base_uri": "https://localhost:8080/"
        },
        "id": "KoViRkk73ukX",
        "outputId": "2eeb97e6-2573-4c6d-88a7-050b38d0bd5f"
      },
      "execution_count": null,
      "outputs": [
        {
          "output_type": "execute_result",
          "data": {
            "text/plain": [
              "True"
            ]
          },
          "metadata": {},
          "execution_count": 115
        }
      ]
    },
    {
      "cell_type": "markdown",
      "source": [
        "### .format() method \n",
        "\n",
        "'String here {} then also {}'.format('something1','something2')"
      ],
      "metadata": {
        "id": "vLwBssrn7R3Z"
      }
    },
    {
      "cell_type": "code",
      "source": [
        "print('I am a {}'.format('cat'))"
      ],
      "metadata": {
        "colab": {
          "base_uri": "https://localhost:8080/"
        },
        "id": "R2WwbYpJ7X91",
        "outputId": "a4949b4e-7fa1-4407-c23e-c2cffd844bfa"
      },
      "execution_count": null,
      "outputs": [
        {
          "output_type": "stream",
          "name": "stdout",
          "text": [
            "I am a cat\n"
          ]
        }
      ]
    },
    {
      "cell_type": "code",
      "source": [
        "# you can also use f formatting \n",
        "name = 'cat'\n",
        "print(f\"I am a {name}\")"
      ],
      "metadata": {
        "colab": {
          "base_uri": "https://localhost:8080/"
        },
        "id": "Ybocu8-K9PKi",
        "outputId": "25ab7fca-1372-4a6f-abff-6b6302d5e4db"
      },
      "execution_count": null,
      "outputs": [
        {
          "output_type": "stream",
          "name": "stdout",
          "text": [
            "I am a cat\n"
          ]
        }
      ]
    },
    {
      "cell_type": "code",
      "source": [
        "print(f\"I am a {name!r}\") # use !r to give single quote to the defined variable"
      ],
      "metadata": {
        "colab": {
          "base_uri": "https://localhost:8080/"
        },
        "id": "ma5tReU49eO0",
        "outputId": "98454509-d42d-441d-f8b8-ac045850558c"
      },
      "execution_count": null,
      "outputs": [
        {
          "output_type": "stream",
          "name": "stdout",
          "text": [
            "I am a 'cat'\n"
          ]
        }
      ]
    },
    {
      "cell_type": "markdown",
      "source": [
        "[Read More about f formating](https://realpython.com/python-formatted-output/)"
      ],
      "metadata": {
        "id": "-fccesua_ft3"
      }
    },
    {
      "cell_type": "markdown",
      "source": [
        "## Lists \n",
        "\n",
        "Lists are mutable. There also sequence so slicing and indexing can be peformed on it as well. "
      ],
      "metadata": {
        "id": "IWa0u0Bl7B7v"
      }
    },
    {
      "cell_type": "code",
      "source": [
        "# create a list \n",
        "a = [1, 2, 3, 'Pyhton']\n",
        "a"
      ],
      "metadata": {
        "colab": {
          "base_uri": "https://localhost:8080/"
        },
        "id": "VslpziAx34V4",
        "outputId": "b2440d9d-6bea-42a1-e4f8-eb2d7cdde30b"
      },
      "execution_count": null,
      "outputs": [
        {
          "output_type": "execute_result",
          "data": {
            "text/plain": [
              "[1, 2, 3, 'Pyhton']"
            ]
          },
          "metadata": {},
          "execution_count": 134
        }
      ]
    },
    {
      "cell_type": "code",
      "source": [
        "len(a) # lenghth of the list "
      ],
      "metadata": {
        "colab": {
          "base_uri": "https://localhost:8080/"
        },
        "id": "XDZjaad_B0qx",
        "outputId": "d6b0738f-10bb-460d-a0a6-9b05f521c91a"
      },
      "execution_count": null,
      "outputs": [
        {
          "output_type": "execute_result",
          "data": {
            "text/plain": [
              "4"
            ]
          },
          "metadata": {},
          "execution_count": 135
        }
      ]
    },
    {
      "cell_type": "code",
      "source": [
        "a[0]"
      ],
      "metadata": {
        "colab": {
          "base_uri": "https://localhost:8080/"
        },
        "id": "VuUv37T-B5c4",
        "outputId": "179aee7c-af70-4a35-f039-0cb2c23a4ce1"
      },
      "execution_count": null,
      "outputs": [
        {
          "output_type": "execute_result",
          "data": {
            "text/plain": [
              "1"
            ]
          },
          "metadata": {},
          "execution_count": 136
        }
      ]
    },
    {
      "cell_type": "code",
      "source": [
        "a[::-1]"
      ],
      "metadata": {
        "colab": {
          "base_uri": "https://localhost:8080/"
        },
        "id": "Q-02zGoDB7tp",
        "outputId": "3094f4f0-abd5-48c8-a472-bdb0c71efd27"
      },
      "execution_count": null,
      "outputs": [
        {
          "output_type": "execute_result",
          "data": {
            "text/plain": [
              "['Pyhton', 3, 2, 1]"
            ]
          },
          "metadata": {},
          "execution_count": 137
        }
      ]
    },
    {
      "cell_type": "code",
      "source": [
        "a[::2]"
      ],
      "metadata": {
        "colab": {
          "base_uri": "https://localhost:8080/"
        },
        "id": "tjYtUI4aB90o",
        "outputId": "2c20fc36-74aa-46cc-a197-0d7b128f74c6"
      },
      "execution_count": null,
      "outputs": [
        {
          "output_type": "execute_result",
          "data": {
            "text/plain": [
              "[1, 3]"
            ]
          },
          "metadata": {},
          "execution_count": 138
        }
      ]
    },
    {
      "cell_type": "code",
      "source": [
        "# concatenate list \n",
        "a + [4, 5,6]"
      ],
      "metadata": {
        "colab": {
          "base_uri": "https://localhost:8080/"
        },
        "id": "x1qquLpMCALS",
        "outputId": "d11933ae-cb60-45aa-e117-406adeadc548"
      },
      "execution_count": null,
      "outputs": [
        {
          "output_type": "execute_result",
          "data": {
            "text/plain": [
              "[1, 2, 3, 'Pyhton', 4, 5, 6]"
            ]
          },
          "metadata": {},
          "execution_count": 139
        }
      ]
    },
    {
      "cell_type": "code",
      "source": [
        "b = [1, 3]"
      ],
      "metadata": {
        "id": "CIsSCtMMChwY"
      },
      "execution_count": null,
      "outputs": []
    },
    {
      "cell_type": "code",
      "source": [
        "b*2 # doubles the items in the list"
      ],
      "metadata": {
        "colab": {
          "base_uri": "https://localhost:8080/"
        },
        "id": "r-fsTRhZCp5p",
        "outputId": "0a671e13-e0f3-49d7-8e55-288a13789a89"
      },
      "execution_count": null,
      "outputs": [
        {
          "output_type": "execute_result",
          "data": {
            "text/plain": [
              "[1, 3, 1, 3]"
            ]
          },
          "metadata": {},
          "execution_count": 144
        }
      ]
    },
    {
      "cell_type": "markdown",
      "source": [
        "### List Methods "
      ],
      "metadata": {
        "id": "wcfecLYdDVNU"
      }
    },
    {
      "cell_type": "code",
      "source": [
        "b.append('Python') # add something permanently to the list. Takes exactly one item"
      ],
      "metadata": {
        "id": "PxbIxVQ7CrTh"
      },
      "execution_count": null,
      "outputs": []
    },
    {
      "cell_type": "code",
      "source": [
        "b"
      ],
      "metadata": {
        "colab": {
          "base_uri": "https://localhost:8080/"
        },
        "id": "Sm2urluVDpJC",
        "outputId": "239c81cd-1b02-4b67-f5e7-3add7b82901c"
      },
      "execution_count": null,
      "outputs": [
        {
          "output_type": "execute_result",
          "data": {
            "text/plain": [
              "[1, 3, 'Python']"
            ]
          },
          "metadata": {},
          "execution_count": 146
        }
      ]
    },
    {
      "cell_type": "code",
      "source": [
        "b.pop() # eliminates last item \n",
        "b "
      ],
      "metadata": {
        "colab": {
          "base_uri": "https://localhost:8080/"
        },
        "id": "K-u9gQ44DvwZ",
        "outputId": "af04ee1a-e70d-44ae-a5d9-3e0c950c999c"
      },
      "execution_count": null,
      "outputs": [
        {
          "output_type": "execute_result",
          "data": {
            "text/plain": [
              "[1, 3]"
            ]
          },
          "metadata": {},
          "execution_count": 148
        }
      ]
    },
    {
      "cell_type": "code",
      "source": [
        "b.pop(0) # you can specify index to be popped "
      ],
      "metadata": {
        "colab": {
          "base_uri": "https://localhost:8080/"
        },
        "id": "eCoXe6O9D8HB",
        "outputId": "5a18131b-5a14-4db2-d53b-35b5ba259ad8"
      },
      "execution_count": null,
      "outputs": [
        {
          "output_type": "execute_result",
          "data": {
            "text/plain": [
              "1"
            ]
          },
          "metadata": {},
          "execution_count": 149
        }
      ]
    },
    {
      "cell_type": "code",
      "source": [
        "b"
      ],
      "metadata": {
        "colab": {
          "base_uri": "https://localhost:8080/"
        },
        "id": "2WwJ3rjIEBMB",
        "outputId": "1f7f3b7b-87f3-41e2-be4e-cab54c4d7be5"
      },
      "execution_count": null,
      "outputs": [
        {
          "output_type": "execute_result",
          "data": {
            "text/plain": [
              "[3]"
            ]
          },
          "metadata": {},
          "execution_count": 150
        }
      ]
    },
    {
      "cell_type": "code",
      "source": [
        "d = [1, 3, 4, 2, 5 , 6]\n",
        "d"
      ],
      "metadata": {
        "colab": {
          "base_uri": "https://localhost:8080/"
        },
        "id": "utfk6sy6EJvR",
        "outputId": "eb3ceb3a-bf1e-4a23-ffd7-5ef3116dd334"
      },
      "execution_count": null,
      "outputs": [
        {
          "output_type": "execute_result",
          "data": {
            "text/plain": [
              "[1, 3, 4, 2, 5, 6]"
            ]
          },
          "metadata": {},
          "execution_count": 156
        }
      ]
    },
    {
      "cell_type": "code",
      "source": [
        "d.reverse() # reverse the list \n",
        "d"
      ],
      "metadata": {
        "colab": {
          "base_uri": "https://localhost:8080/"
        },
        "id": "Bk7CFEBFEZ9f",
        "outputId": "6c5f024f-3eb6-419a-efaa-23413979ae7b"
      },
      "execution_count": null,
      "outputs": [
        {
          "output_type": "execute_result",
          "data": {
            "text/plain": [
              "[6, 5, 2, 4, 3, 1]"
            ]
          },
          "metadata": {},
          "execution_count": 157
        }
      ]
    },
    {
      "cell_type": "code",
      "source": [
        "d.sort() # sorts the list in alphabetical or acending manner."
      ],
      "metadata": {
        "id": "o-CIyEppEdm_"
      },
      "execution_count": null,
      "outputs": []
    },
    {
      "cell_type": "code",
      "source": [
        "d"
      ],
      "metadata": {
        "colab": {
          "base_uri": "https://localhost:8080/"
        },
        "id": "G45NDWXQEhG-",
        "outputId": "93fbbe93-c5f0-46ec-841a-8defdae13ada"
      },
      "execution_count": null,
      "outputs": [
        {
          "output_type": "execute_result",
          "data": {
            "text/plain": [
              "[1, 2, 3, 4, 5, 6]"
            ]
          },
          "metadata": {},
          "execution_count": 159
        }
      ]
    },
    {
      "cell_type": "markdown",
      "source": [
        "### Nesting Lists"
      ],
      "metadata": {
        "id": "Xr1hgpl4GIuK"
      }
    },
    {
      "cell_type": "code",
      "source": [
        "list1 = [1, 2, 3]\n",
        "list2 = [4, 5, 6]\n",
        "matrix = [list1, list2]"
      ],
      "metadata": {
        "id": "X1x3NXaWE4Vp"
      },
      "execution_count": null,
      "outputs": []
    },
    {
      "cell_type": "code",
      "source": [
        "matrix"
      ],
      "metadata": {
        "colab": {
          "base_uri": "https://localhost:8080/"
        },
        "id": "XXP7TVGoGcg6",
        "outputId": "08d99b77-5e19-4758-b566-bfcf63d8069f"
      },
      "execution_count": null,
      "outputs": [
        {
          "output_type": "execute_result",
          "data": {
            "text/plain": [
              "[[1, 2, 3], [4, 5, 6]]"
            ]
          },
          "metadata": {},
          "execution_count": 165
        }
      ]
    },
    {
      "cell_type": "code",
      "source": [
        "matrix[0]"
      ],
      "metadata": {
        "colab": {
          "base_uri": "https://localhost:8080/"
        },
        "id": "1UEOxYBrGeQq",
        "outputId": "f93d4daf-8108-44b6-f889-6948f254fac3"
      },
      "execution_count": null,
      "outputs": [
        {
          "output_type": "execute_result",
          "data": {
            "text/plain": [
              "[1, 2, 3]"
            ]
          },
          "metadata": {},
          "execution_count": 166
        }
      ]
    },
    {
      "cell_type": "code",
      "source": [
        "# get the first item of the second list of the matrix \n",
        "matrix[1][0]"
      ],
      "metadata": {
        "colab": {
          "base_uri": "https://localhost:8080/"
        },
        "id": "D9-8VOO8Gfy_",
        "outputId": "a66ee5cc-7201-40d0-ba77-6ded435322f7"
      },
      "execution_count": null,
      "outputs": [
        {
          "output_type": "execute_result",
          "data": {
            "text/plain": [
              "4"
            ]
          },
          "metadata": {},
          "execution_count": 167
        }
      ]
    },
    {
      "cell_type": "markdown",
      "source": [
        "## Dictionaries\n",
        "Dictionaries are mapping in which objects are defined by key unlike sequence such as list or strings. "
      ],
      "metadata": {
        "id": "HeC8zrIaG10b"
      }
    },
    {
      "cell_type": "code",
      "source": [
        "# create a dict or dictionaries using keys and values. values can be any object type\n",
        "dict = {'key1':'value1','key2':'value2'}"
      ],
      "metadata": {
        "id": "zzYT68YTGplh"
      },
      "execution_count": null,
      "outputs": []
    },
    {
      "cell_type": "code",
      "source": [
        "dict['key1']"
      ],
      "metadata": {
        "colab": {
          "base_uri": "https://localhost:8080/",
          "height": 35
        },
        "id": "7pBh2LzFH4rB",
        "outputId": "7fde604c-093b-4d55-9923-b530586248a7"
      },
      "execution_count": null,
      "outputs": [
        {
          "output_type": "execute_result",
          "data": {
            "text/plain": [
              "'value1'"
            ],
            "application/vnd.google.colaboratory.intrinsic+json": {
              "type": "string"
            }
          },
          "metadata": {},
          "execution_count": 171
        }
      ]
    },
    {
      "cell_type": "code",
      "source": [
        "dict2 = {'key1': [1, 2, 4], 'key2': 'Python', 'key3': 2023}"
      ],
      "metadata": {
        "id": "ZpzZlSHtIBIB"
      },
      "execution_count": null,
      "outputs": []
    },
    {
      "cell_type": "code",
      "source": [
        "dict2[\"key2\"]"
      ],
      "metadata": {
        "colab": {
          "base_uri": "https://localhost:8080/",
          "height": 35
        },
        "id": "a0V21_vyIe86",
        "outputId": "7b371d07-1579-4370-e703-5141124c3b99"
      },
      "execution_count": null,
      "outputs": [
        {
          "output_type": "execute_result",
          "data": {
            "text/plain": [
              "'Python'"
            ],
            "application/vnd.google.colaboratory.intrinsic+json": {
              "type": "string"
            }
          },
          "metadata": {},
          "execution_count": 173
        }
      ]
    },
    {
      "cell_type": "code",
      "source": [
        "dict2['key2'][2] # you can use indexing or other methods on values of keys that allow it"
      ],
      "metadata": {
        "colab": {
          "base_uri": "https://localhost:8080/",
          "height": 35
        },
        "id": "EoKfZyEPIg9R",
        "outputId": "cd1baeb4-9034-4ec2-f99f-84edac94f7db"
      },
      "execution_count": null,
      "outputs": [
        {
          "output_type": "execute_result",
          "data": {
            "text/plain": [
              "'t'"
            ],
            "application/vnd.google.colaboratory.intrinsic+json": {
              "type": "string"
            }
          },
          "metadata": {},
          "execution_count": 177
        }
      ]
    },
    {
      "cell_type": "code",
      "source": [
        "dict2['key2'].upper() # You can also use methods of key values that allow the methods. "
      ],
      "metadata": {
        "colab": {
          "base_uri": "https://localhost:8080/",
          "height": 35
        },
        "id": "H3E3TUK_InuJ",
        "outputId": "bf81fb4a-0d95-464d-c034-7129546070dc"
      },
      "execution_count": null,
      "outputs": [
        {
          "output_type": "execute_result",
          "data": {
            "text/plain": [
              "'PYTHON'"
            ],
            "application/vnd.google.colaboratory.intrinsic+json": {
              "type": "string"
            }
          },
          "metadata": {},
          "execution_count": 181
        }
      ]
    },
    {
      "cell_type": "code",
      "source": [
        "dict2['key3'] += 20"
      ],
      "metadata": {
        "id": "EB49L8XyJAXK"
      },
      "execution_count": null,
      "outputs": []
    },
    {
      "cell_type": "code",
      "source": [
        "dict2['key3']"
      ],
      "metadata": {
        "colab": {
          "base_uri": "https://localhost:8080/"
        },
        "id": "lr1dR0ozJhp5",
        "outputId": "e46882cf-bbcd-4eac-a788-872e3b1bbb72"
      },
      "execution_count": null,
      "outputs": [
        {
          "output_type": "execute_result",
          "data": {
            "text/plain": [
              "2043"
            ]
          },
          "metadata": {},
          "execution_count": 183
        }
      ]
    },
    {
      "cell_type": "code",
      "source": [
        "# create an empty dict \n",
        "dict3 = {}"
      ],
      "metadata": {
        "id": "_JAugEHpJkrq"
      },
      "execution_count": null,
      "outputs": []
    },
    {
      "cell_type": "code",
      "source": [
        "# you can assign to the dict key as well. \n",
        "dict3['key1'] = 1\n",
        "dict3['key2'] = 3 \n",
        "dict3"
      ],
      "metadata": {
        "colab": {
          "base_uri": "https://localhost:8080/"
        },
        "id": "Sv3c4xZzKT9i",
        "outputId": "0bd401cf-7bf3-4f6e-d6b6-f2327549506f"
      },
      "execution_count": null,
      "outputs": [
        {
          "output_type": "execute_result",
          "data": {
            "text/plain": [
              "{'key1': 1, 'key2': 3}"
            ]
          },
          "metadata": {},
          "execution_count": 186
        }
      ]
    },
    {
      "cell_type": "markdown",
      "source": [
        "### nested dictionaries "
      ],
      "metadata": {
        "id": "kaWPw3RqKwfJ"
      }
    },
    {
      "cell_type": "code",
      "source": [
        "dict4 = {'key1':{'nestedkey1': {\"subnestedkey1\": 123}}}\n",
        "dict4"
      ],
      "metadata": {
        "colab": {
          "base_uri": "https://localhost:8080/"
        },
        "id": "XGyU9sfiKgD6",
        "outputId": "8287d80b-a9e0-415c-a473-71953b7e7190"
      },
      "execution_count": null,
      "outputs": [
        {
          "output_type": "execute_result",
          "data": {
            "text/plain": [
              "{'key1': {'nestedkey1': {'subnestedkey1': 123}}}"
            ]
          },
          "metadata": {},
          "execution_count": 192
        }
      ]
    },
    {
      "cell_type": "code",
      "source": [
        "dict4['key1']"
      ],
      "metadata": {
        "colab": {
          "base_uri": "https://localhost:8080/"
        },
        "id": "kRQMoIUcMrNN",
        "outputId": "c9662f22-3545-4b0c-8d89-e852510d43f4"
      },
      "execution_count": null,
      "outputs": [
        {
          "output_type": "execute_result",
          "data": {
            "text/plain": [
              "{'nestedkey1': {'subnestedkey1': 123}}"
            ]
          },
          "metadata": {},
          "execution_count": 196
        }
      ]
    },
    {
      "cell_type": "code",
      "source": [
        "dict4['key1']['nestedkey1']['subnestedkey1']"
      ],
      "metadata": {
        "colab": {
          "base_uri": "https://localhost:8080/"
        },
        "id": "Z6J5bBE9LZkq",
        "outputId": "3a2af320-e34f-4891-abb2-50d862609b3b"
      },
      "execution_count": null,
      "outputs": [
        {
          "output_type": "execute_result",
          "data": {
            "text/plain": [
              "123"
            ]
          },
          "metadata": {},
          "execution_count": 194
        }
      ]
    },
    {
      "cell_type": "code",
      "source": [
        "# dict methods \n",
        "dict4.keys(), dict4.values(), dict4.items()"
      ],
      "metadata": {
        "colab": {
          "base_uri": "https://localhost:8080/"
        },
        "id": "pH3-bgdVL8RR",
        "outputId": "6fc91f53-8c3a-47cd-9c5d-33352f9789ef"
      },
      "execution_count": null,
      "outputs": [
        {
          "output_type": "execute_result",
          "data": {
            "text/plain": [
              "(dict_keys(['key1']),\n",
              " dict_values([{'nestedkey1': {'subnestedkey1': 123}}]),\n",
              " dict_items([('key1', {'nestedkey1': {'subnestedkey1': 123}})]))"
            ]
          },
          "metadata": {},
          "execution_count": 195
        }
      ]
    },
    {
      "cell_type": "markdown",
      "source": [
        "## Tuples\n",
        "Tuples are like lists but they are immutable. You can use tuples when immutability is important in your code. "
      ],
      "metadata": {
        "id": "-DfNyV2MM0SK"
      }
    },
    {
      "cell_type": "code",
      "source": [
        "# create a tuple Note: it can also take mixed data types. \n",
        "t = (1, 3, 4, 5, 2)\n",
        "t"
      ],
      "metadata": {
        "colab": {
          "base_uri": "https://localhost:8080/"
        },
        "id": "GjQ0KG5cMCvy",
        "outputId": "5d741d4f-3b37-4e9b-adb6-6cb24ee09700"
      },
      "execution_count": null,
      "outputs": [
        {
          "output_type": "execute_result",
          "data": {
            "text/plain": [
              "(1, 3, 4, 5, 2)"
            ]
          },
          "metadata": {},
          "execution_count": 197
        }
      ]
    },
    {
      "cell_type": "code",
      "source": [
        "len(t)"
      ],
      "metadata": {
        "colab": {
          "base_uri": "https://localhost:8080/"
        },
        "id": "EVFW18iWNfha",
        "outputId": "8dbbe2d0-b3c0-48de-92bf-c56d6b3cb119"
      },
      "execution_count": null,
      "outputs": [
        {
          "output_type": "execute_result",
          "data": {
            "text/plain": [
              "5"
            ]
          },
          "metadata": {},
          "execution_count": 198
        }
      ]
    },
    {
      "cell_type": "code",
      "source": [
        "# you can also use indexing and slicing \n",
        "t[3]"
      ],
      "metadata": {
        "colab": {
          "base_uri": "https://localhost:8080/"
        },
        "id": "4W-s5z4XNgpK",
        "outputId": "7186c9d7-f063-4230-fa0c-13860cf40fc1"
      },
      "execution_count": null,
      "outputs": [
        {
          "output_type": "execute_result",
          "data": {
            "text/plain": [
              "5"
            ]
          },
          "metadata": {},
          "execution_count": 199
        }
      ]
    },
    {
      "cell_type": "code",
      "source": [
        "t[::-1]"
      ],
      "metadata": {
        "colab": {
          "base_uri": "https://localhost:8080/"
        },
        "id": "RKIvz7kQNvH6",
        "outputId": "86956cc2-add1-4009-8224-19d20e02a6f8"
      },
      "execution_count": null,
      "outputs": [
        {
          "output_type": "execute_result",
          "data": {
            "text/plain": [
              "(2, 5, 4, 3, 1)"
            ]
          },
          "metadata": {},
          "execution_count": 200
        }
      ]
    },
    {
      "cell_type": "code",
      "source": [
        "t.index(3) # returns the index of the entered object fromn the tuple"
      ],
      "metadata": {
        "colab": {
          "base_uri": "https://localhost:8080/"
        },
        "id": "BDcYFrXoNwpa",
        "outputId": "85a5f3ac-d9b7-4487-d266-81e123f76b71"
      },
      "execution_count": null,
      "outputs": [
        {
          "output_type": "execute_result",
          "data": {
            "text/plain": [
              "1"
            ]
          },
          "metadata": {},
          "execution_count": 201
        }
      ]
    },
    {
      "cell_type": "code",
      "source": [
        "t.count(2) # count the value of entered object from the tuples."
      ],
      "metadata": {
        "colab": {
          "base_uri": "https://localhost:8080/"
        },
        "id": "PnF2jAljN-zS",
        "outputId": "8f2b17e0-f879-4432-ba5b-dc9fbc1cde74"
      },
      "execution_count": null,
      "outputs": [
        {
          "output_type": "execute_result",
          "data": {
            "text/plain": [
              "1"
            ]
          },
          "metadata": {},
          "execution_count": 202
        }
      ]
    },
    {
      "cell_type": "code",
      "source": [
        "t[-1] = 9  # tuples are immutable"
      ],
      "metadata": {
        "colab": {
          "base_uri": "https://localhost:8080/",
          "height": 166
        },
        "id": "DLEl1XgSOBWa",
        "outputId": "120788d0-173c-4f11-d8d2-662b1240d02a"
      },
      "execution_count": null,
      "outputs": [
        {
          "output_type": "error",
          "ename": "TypeError",
          "evalue": "ignored",
          "traceback": [
            "\u001b[0;31m---------------------------------------------------------------------------\u001b[0m",
            "\u001b[0;31mTypeError\u001b[0m                                 Traceback (most recent call last)",
            "\u001b[0;32m<ipython-input-203-44acb2241368>\u001b[0m in \u001b[0;36m<module>\u001b[0;34m\u001b[0m\n\u001b[0;32m----> 1\u001b[0;31m \u001b[0mt\u001b[0m\u001b[0;34m[\u001b[0m\u001b[0;34m-\u001b[0m\u001b[0;36m1\u001b[0m\u001b[0;34m]\u001b[0m \u001b[0;34m=\u001b[0m \u001b[0;36m9\u001b[0m\u001b[0;34m\u001b[0m\u001b[0;34m\u001b[0m\u001b[0m\n\u001b[0m",
            "\u001b[0;31mTypeError\u001b[0m: 'tuple' object does not support item assignment"
          ]
        }
      ]
    },
    {
      "cell_type": "markdown",
      "source": [
        "## Sets\n",
        "A set is an unordered collection with no duplicate elements. Basic uses include membership testing and eliminating duplicate entries. Set objects also support mathematical operations like union, intersection, difference, and symmetric difference"
      ],
      "metadata": {
        "id": "O2tQVmBxHO6y"
      }
    },
    {
      "cell_type": "markdown",
      "source": [
        "Set items are unordered, unchangeable, and do not allow duplicate values."
      ],
      "metadata": {
        "id": "azGZGG7PImJh"
      }
    },
    {
      "cell_type": "code",
      "source": [
        "# to create a set use set() function\n",
        "myset = set()\n",
        "myset"
      ],
      "metadata": {
        "id": "E2uERCTpOT8T",
        "colab": {
          "base_uri": "https://localhost:8080/"
        },
        "outputId": "fd7e5f49-104b-4ef5-dcca-4e583f08bb3a"
      },
      "execution_count": null,
      "outputs": [
        {
          "output_type": "execute_result",
          "data": {
            "text/plain": [
              "set()"
            ]
          },
          "metadata": {},
          "execution_count": 17
        }
      ]
    },
    {
      "cell_type": "code",
      "source": [
        "# add one item by add method. Takes one argument\"\n",
        "myset.add(1)\n",
        "myset"
      ],
      "metadata": {
        "colab": {
          "base_uri": "https://localhost:8080/"
        },
        "id": "zjlLh-3OHlA6",
        "outputId": "bd9f5efe-28e1-44a2-e138-87fec6b6ae9f"
      },
      "execution_count": null,
      "outputs": [
        {
          "output_type": "execute_result",
          "data": {
            "text/plain": [
              "{1}"
            ]
          },
          "metadata": {},
          "execution_count": 7
        }
      ]
    },
    {
      "cell_type": "code",
      "source": [
        "# How to create a set \n",
        "set1 = {1, 2, 3, 4 , 5, 4, 3 ,4 ,5 }\n",
        "set1 # notice the output did not produce repeated items. "
      ],
      "metadata": {
        "colab": {
          "base_uri": "https://localhost:8080/"
        },
        "id": "HrVFi4RdH9go",
        "outputId": "f0aac778-87bc-46da-bfce-47f3db8f5eae"
      },
      "execution_count": null,
      "outputs": [
        {
          "output_type": "execute_result",
          "data": {
            "text/plain": [
              "{1, 2, 3, 4, 5}"
            ]
          },
          "metadata": {},
          "execution_count": 12
        }
      ]
    },
    {
      "cell_type": "code",
      "source": [
        "# let's create two sets \n",
        "a = set('abracadabra')\n",
        "b = set('alacazam')\n",
        "a, b "
      ],
      "metadata": {
        "colab": {
          "base_uri": "https://localhost:8080/"
        },
        "id": "mGowHJJBIOgJ",
        "outputId": "4edc67f1-378e-4aca-d9c7-23d1eeb79db8"
      },
      "execution_count": null,
      "outputs": [
        {
          "output_type": "execute_result",
          "data": {
            "text/plain": [
              "({'a', 'b', 'c', 'd', 'r'}, {'a', 'c', 'l', 'm', 'z'})"
            ]
          },
          "metadata": {},
          "execution_count": 15
        }
      ]
    },
    {
      "cell_type": "code",
      "source": [
        "a - b  # letters in a but not in b"
      ],
      "metadata": {
        "colab": {
          "base_uri": "https://localhost:8080/"
        },
        "id": "bCE9UqLYJLZh",
        "outputId": "7b9750fa-d1b2-4793-b9a1-212f0228e82d"
      },
      "execution_count": null,
      "outputs": [
        {
          "output_type": "execute_result",
          "data": {
            "text/plain": [
              "{'b', 'd', 'r'}"
            ]
          },
          "metadata": {},
          "execution_count": 18
        }
      ]
    },
    {
      "cell_type": "code",
      "source": [
        "a | b         # letters in a or b or both"
      ],
      "metadata": {
        "colab": {
          "base_uri": "https://localhost:8080/"
        },
        "id": "PDeRxdshJhbg",
        "outputId": "a797a2c5-5bc1-4059-acba-b30d62bba342"
      },
      "execution_count": null,
      "outputs": [
        {
          "output_type": "execute_result",
          "data": {
            "text/plain": [
              "{'a', 'b', 'c', 'd', 'l', 'm', 'r', 'z'}"
            ]
          },
          "metadata": {},
          "execution_count": 19
        }
      ]
    },
    {
      "cell_type": "code",
      "source": [
        "a & b        # letters in both a and b"
      ],
      "metadata": {
        "colab": {
          "base_uri": "https://localhost:8080/"
        },
        "id": "Id673CZ6JoGS",
        "outputId": "add26e1c-8194-4d3c-97e1-78d7f530ade1"
      },
      "execution_count": null,
      "outputs": [
        {
          "output_type": "execute_result",
          "data": {
            "text/plain": [
              "{'a', 'c'}"
            ]
          },
          "metadata": {},
          "execution_count": 20
        }
      ]
    },
    {
      "cell_type": "code",
      "source": [
        "a ^ b       # letters in a or b but not both"
      ],
      "metadata": {
        "colab": {
          "base_uri": "https://localhost:8080/"
        },
        "id": "pBNBsLj1JtMM",
        "outputId": "bb44610d-a8c3-4eac-c5e3-51742da277d1"
      },
      "execution_count": null,
      "outputs": [
        {
          "output_type": "execute_result",
          "data": {
            "text/plain": [
              "{'b', 'd', 'l', 'm', 'r', 'z'}"
            ]
          },
          "metadata": {},
          "execution_count": 21
        }
      ]
    },
    {
      "cell_type": "markdown",
      "source": [
        "## Booleans \n",
        "Booleans are basically True or False ( 1 or 0 ) "
      ],
      "metadata": {
        "id": "Rmvq_w02Kmsx"
      }
    },
    {
      "cell_type": "markdown",
      "source": [
        "### Comparison Operator"
      ],
      "metadata": {
        "id": "SXTniWn2N10j"
      }
    },
    {
      "cell_type": "markdown",
      "source": [
        "\n",
        "<tbody>\n",
        "<tr class=\"row-even\"><td><p><code class=\"docutils literal notranslate\"><span class=\"pre\">&lt;</span></code></p></td>\n",
        "<td><p>strictly less than</p></td>\n",
        "</tr>\n",
        "<tr class=\"row-odd\"><td><p><code class=\"docutils literal notranslate\"><span class=\"pre\">&lt;=</span></code></p></td>\n",
        "<td><p>less than or equal</p></td>\n",
        "</tr>\n",
        "<tr class=\"row-even\"><td><p><code class=\"docutils literal notranslate\"><span class=\"pre\">&gt;</span></code></p></td>\n",
        "<td><p>strictly greater than</p></td>\n",
        "</tr>\n",
        "<tr class=\"row-odd\"><td><p><code class=\"docutils literal notranslate\"><span class=\"pre\">&gt;=</span></code></p></td>\n",
        "<td><p>greater than or equal</p></td>\n",
        "</tr>\n",
        "<tr class=\"row-even\"><td><p><code class=\"docutils literal notranslate\"><span class=\"pre\">==</span></code></p></td>\n",
        "<td><p>equal</p></td>\n",
        "</tr>\n",
        "<tr class=\"row-odd\"><td><p><code class=\"docutils literal notranslate\"><span class=\"pre\">!=</span></code></p></td>\n",
        "<td><p>not equal</p></td>\n",
        "</tr>\n",
        "<tr class=\"row-even\"><td><p><code class=\"docutils literal notranslate\"><span class=\"pre\">is</span></code></p></td>\n",
        "<td><p>object identity</p></td>\n",
        "</tr>\n",
        "<tr class=\"row-odd\"><td><p><code class=\"docutils literal notranslate\"><span class=\"pre\">is</span> <span class=\"pre\">not</span></code></p></td>\n",
        "<td><p>negated object identity</p></td>\n",
        "</tr>\n",
        "</tbody>\n"
      ],
      "metadata": {
        "id": "xrcMJa_6MV0E"
      }
    },
    {
      "cell_type": "code",
      "source": [
        "10 < 30, 20 <10"
      ],
      "metadata": {
        "colab": {
          "base_uri": "https://localhost:8080/"
        },
        "id": "sccomBU2Jz91",
        "outputId": "a574dc5e-1721-4b82-9ca2-8c7d77982b55"
      },
      "execution_count": null,
      "outputs": [
        {
          "output_type": "execute_result",
          "data": {
            "text/plain": [
              "(True, False)"
            ]
          },
          "metadata": {},
          "execution_count": 23
        }
      ]
    },
    {
      "cell_type": "code",
      "source": [
        "10 <= 30"
      ],
      "metadata": {
        "colab": {
          "base_uri": "https://localhost:8080/"
        },
        "id": "wbWHAi2pM09Q",
        "outputId": "d576f826-40aa-4036-a530-e34c1adc8124"
      },
      "execution_count": null,
      "outputs": [
        {
          "output_type": "execute_result",
          "data": {
            "text/plain": [
              "True"
            ]
          },
          "metadata": {},
          "execution_count": 24
        }
      ]
    },
    {
      "cell_type": "code",
      "source": [
        "2 == 4 "
      ],
      "metadata": {
        "colab": {
          "base_uri": "https://localhost:8080/"
        },
        "id": "80kA9a9hM6NO",
        "outputId": "b0148619-28ae-4731-b0f8-d710c4046246"
      },
      "execution_count": null,
      "outputs": [
        {
          "output_type": "execute_result",
          "data": {
            "text/plain": [
              "False"
            ]
          },
          "metadata": {},
          "execution_count": 25
        }
      ]
    },
    {
      "cell_type": "code",
      "source": [
        "2 != 4 "
      ],
      "metadata": {
        "colab": {
          "base_uri": "https://localhost:8080/"
        },
        "id": "q1kzB6W4M-D_",
        "outputId": "6fe858fa-da11-4d67-8471-3f7144e85054"
      },
      "execution_count": null,
      "outputs": [
        {
          "output_type": "execute_result",
          "data": {
            "text/plain": [
              "True"
            ]
          },
          "metadata": {},
          "execution_count": 26
        }
      ]
    },
    {
      "cell_type": "code",
      "source": [
        "2 is 4 "
      ],
      "metadata": {
        "colab": {
          "base_uri": "https://localhost:8080/"
        },
        "id": "cfMK8z9tNAn5",
        "outputId": "40222104-94ac-4829-b0a4-e5208adcd0fb"
      },
      "execution_count": null,
      "outputs": [
        {
          "output_type": "stream",
          "name": "stderr",
          "text": [
            "<>:1: SyntaxWarning: \"is\" with a literal. Did you mean \"==\"?\n",
            "<>:1: SyntaxWarning: \"is\" with a literal. Did you mean \"==\"?\n",
            "<ipython-input-29-ca1c97150655>:1: SyntaxWarning: \"is\" with a literal. Did you mean \"==\"?\n",
            "  2 is 4\n"
          ]
        },
        {
          "output_type": "execute_result",
          "data": {
            "text/plain": [
              "False"
            ]
          },
          "metadata": {},
          "execution_count": 29
        }
      ]
    },
    {
      "cell_type": "code",
      "source": [
        "2 is not 4 "
      ],
      "metadata": {
        "colab": {
          "base_uri": "https://localhost:8080/"
        },
        "id": "qq9ZuXJkNDPp",
        "outputId": "e5747e4d-5481-446f-8b33-79d327ba2b11"
      },
      "execution_count": null,
      "outputs": [
        {
          "output_type": "stream",
          "name": "stderr",
          "text": [
            "<>:1: SyntaxWarning: \"is not\" with a literal. Did you mean \"!=\"?\n",
            "<>:1: SyntaxWarning: \"is not\" with a literal. Did you mean \"!=\"?\n",
            "<ipython-input-30-3764dc052198>:1: SyntaxWarning: \"is not\" with a literal. Did you mean \"!=\"?\n",
            "  2 is not 4\n"
          ]
        },
        {
          "output_type": "execute_result",
          "data": {
            "text/plain": [
              "True"
            ]
          },
          "metadata": {},
          "execution_count": 30
        }
      ]
    },
    {
      "cell_type": "markdown",
      "source": [
        "### Logical Operators\n",
        "Logical operatpors are used in decision making and return boolean. \n",
        "and, or, not "
      ],
      "metadata": {
        "id": "S1N3oRB-N6o-"
      }
    },
    {
      "cell_type": "code",
      "source": [
        "5 > 2 and 5 > 6"
      ],
      "metadata": {
        "colab": {
          "base_uri": "https://localhost:8080/"
        },
        "id": "CC2Bi4mSNqpk",
        "outputId": "fdbfad49-ce21-474e-ee59-0f521a2e7c34"
      },
      "execution_count": null,
      "outputs": [
        {
          "output_type": "execute_result",
          "data": {
            "text/plain": [
              "False"
            ]
          },
          "metadata": {},
          "execution_count": 2
        }
      ]
    },
    {
      "cell_type": "code",
      "source": [
        "5 > 2 or 5 > 6 "
      ],
      "metadata": {
        "colab": {
          "base_uri": "https://localhost:8080/"
        },
        "id": "-2b54f--OfCa",
        "outputId": "9bebbe55-b73f-40d5-d2b5-b42348c0d6db"
      },
      "execution_count": null,
      "outputs": [
        {
          "output_type": "execute_result",
          "data": {
            "text/plain": [
              "True"
            ]
          },
          "metadata": {},
          "execution_count": 32
        }
      ]
    },
    {
      "cell_type": "code",
      "source": [
        "# not operator is used when to show you True if the operand is False and vice-versa.\n",
        "not( 5 > 2 or 5 > 6 )"
      ],
      "metadata": {
        "colab": {
          "base_uri": "https://localhost:8080/"
        },
        "id": "kow0zpsDOjeS",
        "outputId": "23b287e4-9017-4137-ab36-dc3476eb4576"
      },
      "execution_count": null,
      "outputs": [
        {
          "output_type": "execute_result",
          "data": {
            "text/plain": [
              "False"
            ]
          },
          "metadata": {},
          "execution_count": 33
        }
      ]
    },
    {
      "cell_type": "markdown",
      "source": [
        "### Membership operators \n",
        "checks whtether something is in the sequence or not. In | not In"
      ],
      "metadata": {
        "id": "VInKRdAdPAOv"
      }
    },
    {
      "cell_type": "code",
      "source": [
        "# let's create a list \n",
        "list1 = [1, 2, 3]\n",
        " \n",
        "3 in list1\n"
      ],
      "metadata": {
        "colab": {
          "base_uri": "https://localhost:8080/"
        },
        "id": "zSNPPrYtO-Yi",
        "outputId": "3b4f9711-ea73-4f9c-80ec-8021c631f62a"
      },
      "execution_count": null,
      "outputs": [
        {
          "output_type": "execute_result",
          "data": {
            "text/plain": [
              "True"
            ]
          },
          "metadata": {},
          "execution_count": 34
        }
      ]
    },
    {
      "cell_type": "code",
      "source": [
        "5 in list1, 5 not in list1"
      ],
      "metadata": {
        "colab": {
          "base_uri": "https://localhost:8080/"
        },
        "id": "YXJcdpfUPbUJ",
        "outputId": "437a7f58-d05d-40c4-df5f-2a6faee1c177"
      },
      "execution_count": null,
      "outputs": [
        {
          "output_type": "execute_result",
          "data": {
            "text/plain": [
              "(False, True)"
            ]
          },
          "metadata": {},
          "execution_count": 36
        }
      ]
    },
    {
      "cell_type": "markdown",
      "source": [
        "## Python Statements \n",
        "### If, elif, else \n",
        "```\n",
        "If case 1 happens: \n",
        "   do this\n",
        "elif case 2 happens:\n",
        "   do this \n",
        "else if none of the above two happens: \n",
        "   do this\n",
        "```"
      ],
      "metadata": {
        "id": "Zm7C-C-1Qu95"
      }
    },
    {
      "cell_type": "code",
      "source": [
        "a = 30 \n",
        "b = 20 \n",
        "\n",
        "if a == b:\n",
        "  print('Yes, it is correct')\n",
        "elif a != b:\n",
        "  print('It is incorrect')\n"
      ],
      "metadata": {
        "colab": {
          "base_uri": "https://localhost:8080/"
        },
        "id": "BYkvnVBnR6Wt",
        "outputId": "2feecc6d-4130-471f-e009-8754646884cf"
      },
      "execution_count": null,
      "outputs": [
        {
          "output_type": "stream",
          "name": "stdout",
          "text": [
            "It is incorrect\n"
          ]
        }
      ]
    },
    {
      "cell_type": "code",
      "source": [
        "a = 33\n",
        "b = 200\n",
        "\n",
        "if b > a:\n",
        "  pass    #if you for some reason have an if statement with no content, put in the pass statement to avoid getting an error"
      ],
      "metadata": {
        "id": "-j4FXk4jS8Jy"
      },
      "execution_count": null,
      "outputs": []
    },
    {
      "cell_type": "code",
      "source": [
        "a = 200\n",
        "b = 33\n",
        "if b > a:\n",
        "  print(\"b is greater than a\")\n",
        "elif a == b:\n",
        "  print(\"a and b are equal\")\n",
        "else:\n",
        "  print(\"a is greater than b\")"
      ],
      "metadata": {
        "colab": {
          "base_uri": "https://localhost:8080/"
        },
        "id": "PXKTB48xTVVO",
        "outputId": "f3dcee07-4500-4a7d-9d97-d7823bb43d3a"
      },
      "execution_count": null,
      "outputs": [
        {
          "output_type": "stream",
          "name": "stdout",
          "text": [
            "a is greater than b\n"
          ]
        }
      ]
    },
    {
      "cell_type": "markdown",
      "source": [
        "## For Loops "
      ],
      "metadata": {
        "id": "kQOPocWXTfbh"
      }
    },
    {
      "cell_type": "code",
      "source": [
        "# creating a list \n",
        "\n",
        "list1 = [1, 2, 3, 4, 5, 6, 7, 8, 9, 10]\n",
        "\n",
        "for item in list1:    #here you can use any name inplace of item but it should be used later \n",
        "  print(item)"
      ],
      "metadata": {
        "colab": {
          "base_uri": "https://localhost:8080/"
        },
        "id": "IQy_16TbTeFR",
        "outputId": "ccb71d89-cc2e-4531-e941-e294a3df90e8"
      },
      "execution_count": null,
      "outputs": [
        {
          "output_type": "stream",
          "name": "stdout",
          "text": [
            "1\n",
            "2\n",
            "3\n",
            "4\n",
            "5\n",
            "6\n",
            "7\n",
            "8\n",
            "9\n",
            "10\n"
          ]
        }
      ]
    },
    {
      "cell_type": "code",
      "source": [
        "# let's find out even numbers in the list1 \n",
        "\n",
        "for item in list1:\n",
        "  if item % 2 == 0:\n",
        "    print(item)"
      ],
      "metadata": {
        "colab": {
          "base_uri": "https://localhost:8080/"
        },
        "id": "KS-pT2YaTcBP",
        "outputId": "ea00eab8-ea2e-49ef-8f97-694d8b56fd2e"
      },
      "execution_count": null,
      "outputs": [
        {
          "output_type": "stream",
          "name": "stdout",
          "text": [
            "2\n",
            "4\n",
            "6\n",
            "8\n",
            "10\n"
          ]
        }
      ]
    },
    {
      "cell_type": "code",
      "source": [
        "# You can also use for loops for odd number\n",
        "\n",
        "for item in list1:\n",
        "  if item % 2 != 0:\n",
        "    print(item)\n",
        "  "
      ],
      "metadata": {
        "colab": {
          "base_uri": "https://localhost:8080/"
        },
        "id": "t2Siwf39UJsb",
        "outputId": "4053a7e7-7d7a-4112-ea10-aa0ee32e462a"
      },
      "execution_count": null,
      "outputs": [
        {
          "output_type": "stream",
          "name": "stdout",
          "text": [
            "1\n",
            "3\n",
            "5\n",
            "7\n",
            "9\n"
          ]
        }
      ]
    },
    {
      "cell_type": "code",
      "source": [
        "# Add all the number in the list1 \n",
        "\n",
        "list1_sum = 0\n",
        "\n",
        "for item in list1:\n",
        "  list1_sum = list1_sum + item\n",
        "print(list1_sum)\n"
      ],
      "metadata": {
        "colab": {
          "base_uri": "https://localhost:8080/"
        },
        "id": "ku-XWSi2UoTo",
        "outputId": "df492e96-f87e-424f-b680-b23ea1e13bb1"
      },
      "execution_count": null,
      "outputs": [
        {
          "output_type": "stream",
          "name": "stdout",
          "text": [
            "55\n"
          ]
        }
      ]
    },
    {
      "cell_type": "code",
      "source": [
        "# for loops in string \n",
        "\n",
        "for item in 'I am loving Python':\n",
        "  print(item)"
      ],
      "metadata": {
        "colab": {
          "base_uri": "https://localhost:8080/"
        },
        "id": "EhSv81-nVNCf",
        "outputId": "eb2d7088-7e53-4d30-f91f-43037b22a20b"
      },
      "execution_count": null,
      "outputs": [
        {
          "output_type": "stream",
          "name": "stdout",
          "text": [
            "I\n",
            " \n",
            "a\n",
            "m\n",
            " \n",
            "l\n",
            "o\n",
            "v\n",
            "i\n",
            "n\n",
            "g\n",
            " \n",
            "P\n",
            "y\n",
            "t\n",
            "h\n",
            "o\n",
            "n\n"
          ]
        }
      ]
    },
    {
      "cell_type": "code",
      "source": [
        "# tuple unpacking \n",
        "\n",
        "list2 = [(1,2), (3,4), (5,6), (7,8)]\n",
        "\n",
        "for tuple in list2:\n",
        "  print(tuple)"
      ],
      "metadata": {
        "colab": {
          "base_uri": "https://localhost:8080/"
        },
        "id": "WhxllHOaVnQv",
        "outputId": "c4190c5c-ef5b-4003-cf43-4489d1d5e2d9"
      },
      "execution_count": null,
      "outputs": [
        {
          "output_type": "stream",
          "name": "stdout",
          "text": [
            "(1, 2)\n",
            "(3, 4)\n",
            "(5, 6)\n",
            "(7, 8)\n"
          ]
        }
      ]
    },
    {
      "cell_type": "code",
      "source": [
        "# for loops with dictionaries \n",
        "\n",
        "dict1 = {'k1': 20, 'k2': 30, 'k3': 40}\n",
        "\n",
        "for item in dict1:\n",
        "  print(item)      # this only produces the key but we also want the value of the dictionaries. so remmeber the dict methods?"
      ],
      "metadata": {
        "colab": {
          "base_uri": "https://localhost:8080/"
        },
        "id": "RPuC6I6kWMqZ",
        "outputId": "da229574-45a4-435c-af38-f4888300ef21"
      },
      "execution_count": null,
      "outputs": [
        {
          "output_type": "stream",
          "name": "stdout",
          "text": [
            "k1\n",
            "k2\n",
            "k3\n"
          ]
        }
      ]
    },
    {
      "cell_type": "code",
      "source": [
        "for key, value in dict1.items():\n",
        "  print(key)\n",
        "  print(value)"
      ],
      "metadata": {
        "colab": {
          "base_uri": "https://localhost:8080/"
        },
        "id": "Xdl9FA9vWscf",
        "outputId": "d0bf0302-908b-41aa-cdeb-ffc8b481bf71"
      },
      "execution_count": null,
      "outputs": [
        {
          "output_type": "stream",
          "name": "stdout",
          "text": [
            "k1\n",
            "20\n",
            "k2\n",
            "30\n",
            "k3\n",
            "40\n"
          ]
        }
      ]
    },
    {
      "cell_type": "markdown",
      "source": [
        "### While loops\n",
        "A while statement will repeatedly execute a single statement or group of statements as long as the condition is true. "
      ],
      "metadata": {
        "id": "y-9RyiHuXamH"
      }
    },
    {
      "cell_type": "code",
      "source": [
        "a = 0 \n",
        "\n",
        "while a < 20:   \n",
        "  a = a + 2     # it will continue to add 2 to each updated value of a until it reaches 20 (18 + 2)\n",
        "  print(a) \n",
        "else: \n",
        "  print(\"It's done\")"
      ],
      "metadata": {
        "colab": {
          "base_uri": "https://localhost:8080/"
        },
        "id": "ckRuFaaxXaOJ",
        "outputId": "c8b56052-2a6f-48dc-cfe8-2b4a5351ef85"
      },
      "execution_count": null,
      "outputs": [
        {
          "output_type": "stream",
          "name": "stdout",
          "text": [
            "2\n",
            "4\n",
            "6\n",
            "8\n",
            "10\n",
            "12\n",
            "14\n",
            "16\n",
            "18\n",
            "20\n",
            "It's done\n"
          ]
        }
      ]
    },
    {
      "cell_type": "code",
      "source": [
        "# we have already learned the use of 'pass' before now let's see the use of 'break' and 'continue' \n",
        "a = 0 \n",
        "\n",
        "while a < 20:   \n",
        "  a = a + 2     # it will continue to add 2 to each updated value of a until it reaches 20 (18 + 2)\n",
        "  print(a) \n",
        "  \n",
        "  if a == 10:\n",
        "    print('breaking because a == 10')    # if the condition meets here then it will stop the code execution and you will break out of the loop. \n",
        "    break \n",
        "  else:\n",
        "    print('continued')                   # continue is used to continue the while loop if condition is not met before\n",
        "    continue\n"
      ],
      "metadata": {
        "colab": {
          "base_uri": "https://localhost:8080/"
        },
        "id": "UzgAo7hTYSc9",
        "outputId": "410e5c9b-958d-4b10-e8ce-212eeee517c8"
      },
      "execution_count": null,
      "outputs": [
        {
          "output_type": "stream",
          "name": "stdout",
          "text": [
            "2\n",
            "continued\n",
            "4\n",
            "continued\n",
            "6\n",
            "continued\n",
            "8\n",
            "continued\n",
            "10\n",
            "breaking because a == 10\n"
          ]
        }
      ]
    },
    {
      "cell_type": "code",
      "source": [
        "# enumerate function in loops\n",
        "list2 = [\"eat\", \"sleep\", \"repeat\"]\n",
        "  \n",
        "# printing the tuples in object directly\n",
        "for item in enumerate(list2):\n",
        "    print (item)"
      ],
      "metadata": {
        "colab": {
          "base_uri": "https://localhost:8080/"
        },
        "id": "4yPR76ZNZ4Hq",
        "outputId": "a8274a3f-d0e1-48ec-eb24-2ab49f6f8efa"
      },
      "execution_count": null,
      "outputs": [
        {
          "output_type": "stream",
          "name": "stdout",
          "text": [
            "(0, 'eat')\n",
            "(1, 'sleep')\n",
            "(2, 'repeat')\n"
          ]
        }
      ]
    },
    {
      "cell_type": "markdown",
      "source": [
        "### List Comprehension\n",
        "one lined for loops to build lists"
      ],
      "metadata": {
        "id": "aMlXVQFpbpLV"
      }
    },
    {
      "cell_type": "code",
      "source": [
        "# example \n",
        "\n",
        "list1 = [a for a in 'Python']\n",
        "list1 \n"
      ],
      "metadata": {
        "colab": {
          "base_uri": "https://localhost:8080/"
        },
        "id": "TiQWxLgnboCZ",
        "outputId": "a3042b20-7222-4287-ed0a-e9ee3f8e1a18"
      },
      "execution_count": null,
      "outputs": [
        {
          "output_type": "execute_result",
          "data": {
            "text/plain": [
              "['P', 'y', 't', 'h', 'o', 'n']"
            ]
          },
          "metadata": {},
          "execution_count": 19
        }
      ]
    },
    {
      "cell_type": "code",
      "source": [
        "# use of if in list comprehesion\n",
        "list2 = [x for x in range(11) if x % 2 == 0] \n",
        "list2 "
      ],
      "metadata": {
        "colab": {
          "base_uri": "https://localhost:8080/"
        },
        "id": "mPhQ28MWcO14",
        "outputId": "957b8cad-4134-47d8-f0eb-0fe0737b0b55"
      },
      "execution_count": null,
      "outputs": [
        {
          "output_type": "execute_result",
          "data": {
            "text/plain": [
              "[0, 2, 4, 6, 8, 10]"
            ]
          },
          "metadata": {},
          "execution_count": 22
        }
      ]
    },
    {
      "cell_type": "code",
      "source": [
        "# use of nested list comprehension\n",
        "list3 = [ x**2 for x in [x**2 for x in range(11)]]\n",
        "list3"
      ],
      "metadata": {
        "colab": {
          "base_uri": "https://localhost:8080/"
        },
        "id": "POP7BnnRcqi8",
        "outputId": "3c50933c-c695-4fd5-a1e4-186ff9585eee"
      },
      "execution_count": null,
      "outputs": [
        {
          "output_type": "execute_result",
          "data": {
            "text/plain": [
              "[0, 1, 16, 81, 256, 625, 1296, 2401, 4096, 6561, 10000]"
            ]
          },
          "metadata": {},
          "execution_count": 23
        }
      ]
    },
    {
      "cell_type": "markdown",
      "source": [
        "## Methods And Functions \n",
        "- Methods perform specific actions on an object and can also take arguments\n",
        "- Functions help us use the same code multiple times without repeating the same code again and again. It helps us keep the code clean. \n"
      ],
      "metadata": {
        "id": "EN6rNqLEUI-k"
      }
    },
    {
      "cell_type": "code",
      "source": [
        "# structure of a function \n",
        "\n",
        "def function_structure(argument1, arg2, agr3, etc):\n",
        "  ''' docstring: use this to describe your function for future use\n",
        "  '''\n",
        "  # write your logic here \n",
        "  # return or print the result "
      ],
      "metadata": {
        "id": "nLqLcC0ENEIU"
      },
      "execution_count": null,
      "outputs": []
    },
    {
      "cell_type": "code",
      "source": [
        "# creating a simple function \n",
        "\n",
        "def print_name(name):\n",
        "  print(f'Hello,{name},how are you?')"
      ],
      "metadata": {
        "id": "eeXgunBwPh7z"
      },
      "execution_count": null,
      "outputs": []
    },
    {
      "cell_type": "code",
      "source": [
        "# calling our function \n",
        "print_name('Alex')  # to call a function use parenthesis"
      ],
      "metadata": {
        "colab": {
          "base_uri": "https://localhost:8080/"
        },
        "id": "k1c9osXkP__D",
        "outputId": "26e43db2-d144-412e-8eb5-8906dec8eff3"
      },
      "execution_count": null,
      "outputs": [
        {
          "output_type": "stream",
          "name": "stdout",
          "text": [
            "Hello,Alex,how are you?\n"
          ]
        }
      ]
    },
    {
      "cell_type": "code",
      "source": [
        "print_name # if you simply write the function without () then it will output "
      ],
      "metadata": {
        "colab": {
          "base_uri": "https://localhost:8080/"
        },
        "id": "D2lf9NArQLBs",
        "outputId": "f763ae4d-a2eb-4ef7-bb7c-c916f01f7bc4"
      },
      "execution_count": null,
      "outputs": [
        {
          "output_type": "execute_result",
          "data": {
            "text/plain": [
              "<function __main__.print_name(name)>"
            ]
          },
          "metadata": {},
          "execution_count": 3
        }
      ]
    },
    {
      "cell_type": "code",
      "source": [
        "# Difference between return and print \n",
        "# return function example: \n",
        "def sum_1(num1, num2):\n",
        "  return(num1+num2)"
      ],
      "metadata": {
        "id": "0Yu3O1kUQZyH"
      },
      "execution_count": null,
      "outputs": []
    },
    {
      "cell_type": "code",
      "source": [
        "#print function example:\n",
        "def sum_2(num1, num2):\n",
        "  print(num1+num2)"
      ],
      "metadata": {
        "id": "69S4S_PXQx-I"
      },
      "execution_count": null,
      "outputs": []
    },
    {
      "cell_type": "code",
      "source": [
        "sum_1(1,2)"
      ],
      "metadata": {
        "colab": {
          "base_uri": "https://localhost:8080/"
        },
        "id": "F--4m7ufRCny",
        "outputId": "10ccc4d6-fa9d-4d31-af19-62e913685933"
      },
      "execution_count": null,
      "outputs": [
        {
          "output_type": "execute_result",
          "data": {
            "text/plain": [
              "3"
            ]
          },
          "metadata": {},
          "execution_count": 10
        }
      ]
    },
    {
      "cell_type": "code",
      "source": [
        "sum_2(1,2)"
      ],
      "metadata": {
        "colab": {
          "base_uri": "https://localhost:8080/"
        },
        "id": "yltEdtFpRT_a",
        "outputId": "823a9ec5-f41c-4400-f3a0-4599882537bf"
      },
      "execution_count": null,
      "outputs": [
        {
          "output_type": "stream",
          "name": "stdout",
          "text": [
            "3\n"
          ]
        }
      ]
    },
    {
      "cell_type": "code",
      "source": [
        "# saving the result \n",
        "return_result = sum_1(1,2)"
      ],
      "metadata": {
        "id": "deiXEX_iRWcT"
      },
      "execution_count": null,
      "outputs": []
    },
    {
      "cell_type": "code",
      "source": [
        "print_result = sum_2(1,2)"
      ],
      "metadata": {
        "colab": {
          "base_uri": "https://localhost:8080/"
        },
        "id": "Gzd1EhDhRhCk",
        "outputId": "dbe743dd-dbcf-422d-a0a8-79ee8d8a1626"
      },
      "execution_count": null,
      "outputs": [
        {
          "output_type": "stream",
          "name": "stdout",
          "text": [
            "3\n"
          ]
        }
      ]
    },
    {
      "cell_type": "code",
      "source": [
        "print_result"
      ],
      "metadata": {
        "id": "3M5fKNGPRnIK"
      },
      "execution_count": null,
      "outputs": []
    },
    {
      "cell_type": "code",
      "source": [
        "return_result"
      ],
      "metadata": {
        "colab": {
          "base_uri": "https://localhost:8080/"
        },
        "id": "5ol0GMYXRsYQ",
        "outputId": "2bc77968-50a5-4406-a581-1f00648aedfc"
      },
      "execution_count": null,
      "outputs": [
        {
          "output_type": "execute_result",
          "data": {
            "text/plain": [
              "3"
            ]
          },
          "metadata": {},
          "execution_count": 15
        }
      ]
    },
    {
      "cell_type": "code",
      "source": [
        "type(print_result), type(return_result)"
      ],
      "metadata": {
        "colab": {
          "base_uri": "https://localhost:8080/"
        },
        "id": "zm-gNG-aRu8g",
        "outputId": "6b139c75-4e2d-4cbf-8a28-cd54cfe0b98a"
      },
      "execution_count": null,
      "outputs": [
        {
          "output_type": "execute_result",
          "data": {
            "text/plain": [
              "(NoneType, int)"
            ]
          },
          "metadata": {},
          "execution_count": 16
        }
      ]
    },
    {
      "cell_type": "code",
      "source": [
        "# check if the number is odd in the list and return them all \n",
        "\n",
        "def check_odd(num_list):\n",
        "  odd_num_list = []\n",
        "  for number in num_list:\n",
        "    if number % 2 != 0:\n",
        "      odd_num_list.append(number)\n",
        "    else:\n",
        "      pass\n",
        "  return odd_num_list\n",
        "      "
      ],
      "metadata": {
        "id": "KGv3heSXR085"
      },
      "execution_count": null,
      "outputs": []
    },
    {
      "cell_type": "code",
      "source": [
        "check_odd([1, 2, 3, 4, 5, 6, 7])"
      ],
      "metadata": {
        "colab": {
          "base_uri": "https://localhost:8080/"
        },
        "id": "6U_8p_5IrFld",
        "outputId": "72ac7e73-b23c-45a7-8300-d7294cc9b05a"
      },
      "execution_count": null,
      "outputs": [
        {
          "output_type": "execute_result",
          "data": {
            "text/plain": [
              "[1, 3, 5, 7]"
            ]
          },
          "metadata": {},
          "execution_count": 2
        }
      ]
    },
    {
      "cell_type": "code",
      "source": [
        "# lambda expression - one line function\n",
        "#step 1 - first way\n",
        "def square(num):\n",
        "    return num **2 "
      ],
      "metadata": {
        "id": "eybMRdZLrNlr"
      },
      "execution_count": null,
      "outputs": []
    },
    {
      "cell_type": "code",
      "source": [
        "square(3)"
      ],
      "metadata": {
        "colab": {
          "base_uri": "https://localhost:8080/"
        },
        "id": "yLKYUBF_vmti",
        "outputId": "2043e0cb-3e2f-4a29-dbe4-5761a2d944a2"
      },
      "execution_count": null,
      "outputs": [
        {
          "output_type": "execute_result",
          "data": {
            "text/plain": [
              "9"
            ]
          },
          "metadata": {},
          "execution_count": 7
        }
      ]
    },
    {
      "cell_type": "code",
      "source": [
        "# step 2 - second way\n",
        "def square(num): return num**2 "
      ],
      "metadata": {
        "id": "kVHK1unIvpe6"
      },
      "execution_count": null,
      "outputs": []
    },
    {
      "cell_type": "code",
      "source": [
        "# step 3 - third way - lambda expression\n",
        "num_square = lambda num: num**2 "
      ],
      "metadata": {
        "id": "cmyr9Xh5v8X-"
      },
      "execution_count": null,
      "outputs": []
    },
    {
      "cell_type": "code",
      "source": [
        "num_square(2)"
      ],
      "metadata": {
        "colab": {
          "base_uri": "https://localhost:8080/"
        },
        "id": "GzaRqL0QwMgZ",
        "outputId": "11b824f8-cd63-435d-b407-bd42d53f72a8"
      },
      "execution_count": null,
      "outputs": [
        {
          "output_type": "execute_result",
          "data": {
            "text/plain": [
              "4"
            ]
          },
          "metadata": {},
          "execution_count": 15
        }
      ]
    },
    {
      "cell_type": "code",
      "source": [
        "num_list_1 = [1, 2, 3, 4, 5, 6, 7, 8, 9, 10]"
      ],
      "metadata": {
        "id": "KjNhehpjwTfR"
      },
      "execution_count": null,
      "outputs": []
    },
    {
      "cell_type": "code",
      "source": [
        "list(map(lambda num: num ** 2, num_list_1)) # map function is used when you want to return the value of the function on iterable object"
      ],
      "metadata": {
        "colab": {
          "base_uri": "https://localhost:8080/"
        },
        "id": "hSfUB-l588XA",
        "outputId": "1f557f5b-2994-4b51-dc76-ff03d555bae3"
      },
      "execution_count": null,
      "outputs": [
        {
          "output_type": "execute_result",
          "data": {
            "text/plain": [
              "[1, 4, 9, 16, 25, 36, 49, 64, 81, 100]"
            ]
          },
          "metadata": {},
          "execution_count": 18
        }
      ]
    },
    {
      "cell_type": "code",
      "source": [
        "list(filter(lambda num: num%2 == 0, num_list_1)) # filter function is used only when the function returns the value in Boolean (True or False) that too on iterables"
      ],
      "metadata": {
        "colab": {
          "base_uri": "https://localhost:8080/"
        },
        "id": "pRTvxmbc9LnN",
        "outputId": "2c4df8ba-32ad-4234-a980-4755239265f0"
      },
      "execution_count": null,
      "outputs": [
        {
          "output_type": "execute_result",
          "data": {
            "text/plain": [
              "[2, 4, 6, 8, 10]"
            ]
          },
          "metadata": {},
          "execution_count": 19
        }
      ]
    },
    {
      "cell_type": "markdown",
      "source": [
        "### Variable Scope in Python"
      ],
      "metadata": {
        "id": "DOoni8X3DYvH"
      }
    },
    {
      "cell_type": "code",
      "source": [
        "# Local Scope - A variable created inside a function belongs to the local scope of that function, and can only be used inside that function.\n",
        "\n",
        "def myfunc():\n",
        "  x = 300\n",
        "  print(x)\n",
        "\n",
        "myfunc()"
      ],
      "metadata": {
        "colab": {
          "base_uri": "https://localhost:8080/"
        },
        "id": "fqpJ2ike9Yq2",
        "outputId": "ded52973-cec2-4c17-9924-13fb7bc197bd"
      },
      "execution_count": null,
      "outputs": [
        {
          "output_type": "stream",
          "name": "stdout",
          "text": [
            "300\n"
          ]
        }
      ]
    },
    {
      "cell_type": "code",
      "source": [
        "# Enclosing function locals - variable x is not available outside the function, but it is available for any function inside the function:\n",
        "def myfunc():\n",
        "  x = 300\n",
        "  def myinnerfunc():\n",
        "    print(x)\n",
        "  myinnerfunc()\n",
        "\n",
        "myfunc()"
      ],
      "metadata": {
        "colab": {
          "base_uri": "https://localhost:8080/"
        },
        "id": "jnkVbRYlDu6N",
        "outputId": "d2d5077f-012b-4488-a27a-3f9207574728"
      },
      "execution_count": null,
      "outputs": [
        {
          "output_type": "stream",
          "name": "stdout",
          "text": [
            "300\n"
          ]
        }
      ]
    },
    {
      "cell_type": "code",
      "source": [
        "# Global Scope\n",
        "x = 300\n",
        "\n",
        "def myfunc():\n",
        "  print(x)\n",
        "\n",
        "myfunc()\n",
        "\n",
        "print(x)"
      ],
      "metadata": {
        "colab": {
          "base_uri": "https://localhost:8080/"
        },
        "id": "OZN8qXnLErBX",
        "outputId": "bd620ebf-fdbb-45ad-dfdb-5cb6bfbfc04b"
      },
      "execution_count": null,
      "outputs": [
        {
          "output_type": "stream",
          "name": "stdout",
          "text": [
            "300\n",
            "300\n"
          ]
        }
      ]
    },
    {
      "cell_type": "code",
      "source": [
        "# Built-in - these are built in varibale like len\n",
        "len([1,2,3])"
      ],
      "metadata": {
        "colab": {
          "base_uri": "https://localhost:8080/"
        },
        "id": "I60TIZd9E6cK",
        "outputId": "b9725a29-0663-4fd3-acea-cc0ace1973a4"
      },
      "execution_count": null,
      "outputs": [
        {
          "output_type": "execute_result",
          "data": {
            "text/plain": [
              "3"
            ]
          },
          "metadata": {},
          "execution_count": 23
        }
      ]
    },
    {
      "cell_type": "code",
      "source": [
        "# Naming varibales: two separate variables, one available in the global scope (outside the function) and one available in the local scope (inside the function):\n",
        "x = 300\n",
        "\n",
        "def myfunc():\n",
        "  x = 200\n",
        "  print(x)\n",
        "\n",
        "myfunc()\n",
        "\n",
        "print(x)"
      ],
      "metadata": {
        "colab": {
          "base_uri": "https://localhost:8080/"
        },
        "id": "y715QogkFBRY",
        "outputId": "dd716f81-11a2-4206-d45c-30fc38cf501a"
      },
      "execution_count": null,
      "outputs": [
        {
          "output_type": "stream",
          "name": "stdout",
          "text": [
            "200\n",
            "300\n"
          ]
        }
      ]
    },
    {
      "cell_type": "markdown",
      "source": [
        "### Global Keyword"
      ],
      "metadata": {
        "id": "tYz800I-FnHd"
      }
    },
    {
      "cell_type": "markdown",
      "source": [
        "Rules of `global` Keyword\n",
        "The basic rules for `global` keyword in Python are:\n",
        "\n",
        "- When we create a variable inside a function, it is local by default.\n",
        "- When we define a variable outside of a function, it is global by default. You - don't have to use the `global` keyword.\n",
        "- We use the `global` keyword to read and write a global variable inside a function.\n",
        "- Use of the `global` keyword outside a function has no effect.\n",
        "\n",
        "further readings: \n",
        "- https://docs.python.org/3/tutorial/classes.html#python-scopes-and-namespaces\n",
        "- https://www.programiz.com/python-programming/global-keyword \n",
        "- https://www.w3schools.com/python/python_scope.asp \n"
      ],
      "metadata": {
        "id": "JJ3yie8SGfev"
      }
    },
    {
      "cell_type": "code",
      "source": [
        "# Use to change global varible from local scope or change the value of global variable under a function\n",
        "# here x can be used globally outside the function\n",
        "def myfunc():\n",
        "  global x\n",
        "  x = 300\n",
        "\n",
        "myfunc()\n",
        "\n",
        "print(x)"
      ],
      "metadata": {
        "colab": {
          "base_uri": "https://localhost:8080/"
        },
        "id": "pFlCPSvYFc-d",
        "outputId": "37430365-a5d9-4b15-b2c9-0c8124d0b4fb"
      },
      "execution_count": null,
      "outputs": [
        {
          "output_type": "stream",
          "name": "stdout",
          "text": [
            "300\n"
          ]
        }
      ]
    },
    {
      "cell_type": "code",
      "source": [
        "# Here global keyword is used to change the value of the global variable \n",
        "x = 300\n",
        "\n",
        "def myfunc():\n",
        "  global x\n",
        "  x = 200\n",
        "\n",
        "myfunc()\n",
        "\n",
        "print(x)"
      ],
      "metadata": {
        "colab": {
          "base_uri": "https://localhost:8080/"
        },
        "id": "pYaIwbBQGA4e",
        "outputId": "e0798f5b-c152-4da6-e4a6-1d5a84b4b448"
      },
      "execution_count": null,
      "outputs": [
        {
          "output_type": "stream",
          "name": "stdout",
          "text": [
            "200\n"
          ]
        }
      ]
    },
    {
      "cell_type": "markdown",
      "source": [
        "###` *args` and `**kwargs`\n",
        "\n",
        "\n"
      ],
      "metadata": {
        "id": "o8WWygXDIUg-"
      }
    },
    {
      "cell_type": "code",
      "source": [
        "# Use args when you want to use arbitrary number of arguments in your function \n",
        "# you don't need to use th word args but any word after * works but we use this as convention - This is called non-keyword arguments\n",
        "# pre-defined arguments are called positional arguments \n",
        "\n",
        "# example - sum of number plus 5 \n",
        "\n",
        "def func(a, b, c, d, e, f):\n",
        "  return sum((a, b, c, d, e, f)) + 5  # notice here sum function takes two arguments so make sure keep all the params in brackets to avoid errror\n",
        "\n",
        "func(1, 2, 3, 4, 5, 6)"
      ],
      "metadata": {
        "colab": {
          "base_uri": "https://localhost:8080/"
        },
        "id": "rMJkgM5ZHYCX",
        "outputId": "62e1c0a4-5a2d-4ca2-8e4d-fcee982eb05b"
      },
      "execution_count": null,
      "outputs": [
        {
          "output_type": "execute_result",
          "data": {
            "text/plain": [
              "26"
            ]
          },
          "metadata": {},
          "execution_count": 35
        }
      ]
    },
    {
      "cell_type": "code",
      "source": [
        "# Insteading of doing what we did above we can use the *args \n",
        "\n",
        "def sum_func(*args):\n",
        "  return sum(args) + 5 \n",
        "\n",
        "sum_func(2, 3, 4, 5, 6, 7, 8, 9, 10, 11, 12)"
      ],
      "metadata": {
        "colab": {
          "base_uri": "https://localhost:8080/"
        },
        "id": "hTAKO8HsJNqX",
        "outputId": "12bebc3e-3a18-47df-8d73-35778d893519"
      },
      "execution_count": null,
      "outputs": [
        {
          "output_type": "execute_result",
          "data": {
            "text/plain": [
              "82"
            ]
          },
          "metadata": {},
          "execution_count": 38
        }
      ]
    },
    {
      "cell_type": "code",
      "source": [
        "# Use of **kwargs: keyword arguments - **kwargs builds a dictionary of key/value pairs\n",
        "\n",
        "def myfunc(**kwargs):\n",
        "    if 'book' in kwargs:\n",
        "        print(f\"My favorite book is {kwargs['book']}\") \n",
        "    else:\n",
        "        print(\"I don't read books\")\n",
        "        \n",
        "myfunc(book='outliers')"
      ],
      "metadata": {
        "colab": {
          "base_uri": "https://localhost:8080/"
        },
        "id": "df5ZOu3qKAp8",
        "outputId": "5ab76f77-1dff-4174-8960-e31759aaa8ce"
      },
      "execution_count": null,
      "outputs": [
        {
          "output_type": "stream",
          "name": "stdout",
          "text": [
            "My favorite book is outliers\n"
          ]
        }
      ]
    },
    {
      "cell_type": "code",
      "source": [
        "myfunc()"
      ],
      "metadata": {
        "colab": {
          "base_uri": "https://localhost:8080/"
        },
        "id": "4hqyfhsJMvyc",
        "outputId": "6956aaaa-ecb0-4013-cb6b-be14fabf0a4a"
      },
      "execution_count": null,
      "outputs": [
        {
          "output_type": "stream",
          "name": "stdout",
          "text": [
            "I don't read books\n"
          ]
        }
      ]
    },
    {
      "cell_type": "code",
      "source": [
        "# using args and kwargs at the same time: \n",
        "def myFun(*args, **kwargs):\n",
        "    print(\"args: \", args)\n",
        "    print(\"kwargs: \", kwargs)\n",
        "  \n",
        "  \n",
        "# make sure to use agrs before kwargs otherwise it will raise a syntax error\n",
        "myFun('book', 'tea', name=\"alex\", age = 20)"
      ],
      "metadata": {
        "colab": {
          "base_uri": "https://localhost:8080/"
        },
        "id": "3SjwgfJ0M1JF",
        "outputId": "edb1e162-e656-4385-c564-5c8149d3433b"
      },
      "execution_count": null,
      "outputs": [
        {
          "output_type": "stream",
          "name": "stdout",
          "text": [
            "args:  ('book', 'tea')\n",
            "kwargs:  {'name': 'alex', 'age': 20}\n"
          ]
        }
      ]
    },
    {
      "cell_type": "markdown",
      "source": [
        "## OOP In Python - Object Oriented Programming \n",
        "In Python, object-oriented Programming (OOPs) is a programming paradigm that uses objects and classes in programming. It aims to implement real-world entities like inheritance, polymorphisms, encapsulation, etc. in the programming. Everything is object in Python. To create your own object you can use `Class`"
      ],
      "metadata": {
        "id": "vStoqeCpOgfj"
      }
    },
    {
      "cell_type": "code",
      "source": [
        "# check the type of objects we already know\n",
        "print(type(1))\n",
        "print(type([]))\n",
        "print(type(()))\n",
        "print(type({}))"
      ],
      "metadata": {
        "colab": {
          "base_uri": "https://localhost:8080/"
        },
        "id": "PpABVNHjOF6_",
        "outputId": "3f3cd91a-f54b-4d66-e500-a7e630ca457d"
      },
      "execution_count": null,
      "outputs": [
        {
          "output_type": "stream",
          "name": "stdout",
          "text": [
            "<class 'int'>\n",
            "<class 'list'>\n",
            "<class 'tuple'>\n",
            "<class 'dict'>\n"
          ]
        }
      ]
    },
    {
      "cell_type": "markdown",
      "source": [
        "#### Basic Definitions \n",
        "1. Class: We use class to create user defined objects \n",
        "2. An instance is a specific object created from a particular class. \n",
        "3. An attribute is a characteristic of an object.\n",
        "4. A method is an operation we can perform with the object.\n"
      ],
      "metadata": {
        "id": "WZBmFYRgP1ys"
      }
    },
    {
      "cell_type": "code",
      "source": [
        "# creating a basic class\n",
        "class Books: # notice here we use capital letter to define the class \n",
        "  pass\n",
        "\n",
        "# instantitaing the created classes \n",
        "b = Books() # b here is called instance of the class "
      ],
      "metadata": {
        "id": "bni6kV7TPYxm"
      },
      "execution_count": null,
      "outputs": []
    },
    {
      "cell_type": "code",
      "source": [
        "# creating attributes \n",
        "class Books:\n",
        "  def __init__(self, price, book_name, author):  \n",
        "    # here __init__ function works as constructor and helps us creates the attributes of the calss. Self keyword works as reference to the instance of the class\n",
        "\n",
        "    self.price = price   # by convention we use self.price or price everywhere which is same name as the parameter but just know that these names can be different too. \n",
        "    self.book_name = book_name\n",
        "    self.author = author  "
      ],
      "metadata": {
        "id": "AdRd5U_RQjk8"
      },
      "execution_count": null,
      "outputs": []
    },
    {
      "cell_type": "code",
      "source": [
        "mybook = Books(price=4000, book_name = 'Human Compatible', author = 'Stuart J. Russell')"
      ],
      "metadata": {
        "id": "H1JWascJYVcj"
      },
      "execution_count": null,
      "outputs": []
    },
    {
      "cell_type": "code",
      "source": [
        "mybook.price"
      ],
      "metadata": {
        "colab": {
          "base_uri": "https://localhost:8080/"
        },
        "id": "QepBZ0dmZTIG",
        "outputId": "01fc6b0b-04f6-4666-bbfb-a7949bb5a20a"
      },
      "execution_count": null,
      "outputs": [
        {
          "output_type": "execute_result",
          "data": {
            "text/plain": [
              "4000"
            ]
          },
          "metadata": {},
          "execution_count": 5
        }
      ]
    },
    {
      "cell_type": "code",
      "source": [
        "mybook.book_name"
      ],
      "metadata": {
        "colab": {
          "base_uri": "https://localhost:8080/",
          "height": 35
        },
        "id": "53G19etIZjCM",
        "outputId": "a35688c4-bf0d-4dd3-8f2d-75c6394d3f9b"
      },
      "execution_count": null,
      "outputs": [
        {
          "output_type": "execute_result",
          "data": {
            "text/plain": [
              "'Human Compatible'"
            ],
            "application/vnd.google.colaboratory.intrinsic+json": {
              "type": "string"
            }
          },
          "metadata": {},
          "execution_count": 6
        }
      ]
    },
    {
      "cell_type": "code",
      "source": [
        "mybook.author"
      ],
      "metadata": {
        "colab": {
          "base_uri": "https://localhost:8080/",
          "height": 35
        },
        "id": "9ZsjJvQETyeR",
        "outputId": "b19eb915-61c4-4900-90fc-d5e7922438f9"
      },
      "execution_count": null,
      "outputs": [
        {
          "output_type": "execute_result",
          "data": {
            "text/plain": [
              "'Stuart J. Russell'"
            ],
            "application/vnd.google.colaboratory.intrinsic+json": {
              "type": "string"
            }
          },
          "metadata": {},
          "execution_count": 7
        }
      ]
    },
    {
      "cell_type": "code",
      "source": [
        "# creating class object attribute\n",
        "class Books:\n",
        "\n",
        "  # class object attribute. available for every instance of the classs and is same\n",
        "  genre = 'non-fiction'\n",
        "  def __init__(self, price, book_name, author):  \n",
        "   \n",
        "    self.price = price  \n",
        "    self.book_name = book_name\n",
        "    self.author = author  "
      ],
      "metadata": {
        "id": "hhZrY51nT6df"
      },
      "execution_count": null,
      "outputs": []
    },
    {
      "cell_type": "code",
      "source": [
        "mybook = Books(price=4000, book_name = 'Human Compatible', author = 'Stuart J. Russell')"
      ],
      "metadata": {
        "id": "k-at81PGXPh4"
      },
      "execution_count": null,
      "outputs": []
    },
    {
      "cell_type": "code",
      "source": [
        "mybook.genre  #notice genre is available for it already without defining it there"
      ],
      "metadata": {
        "colab": {
          "base_uri": "https://localhost:8080/",
          "height": 35
        },
        "id": "roXqFvEuXaI0",
        "outputId": "be3931a8-62ed-4b1d-fa0d-94f0ea4bb9e9"
      },
      "execution_count": null,
      "outputs": [
        {
          "output_type": "execute_result",
          "data": {
            "text/plain": [
              "'non-fiction'"
            ],
            "application/vnd.google.colaboratory.intrinsic+json": {
              "type": "string"
            }
          },
          "metadata": {},
          "execution_count": 11
        }
      ]
    },
    {
      "cell_type": "code",
      "source": [
        "# class methods : Methods are functions defined inside the body of a class used to perform operations with the attributes of our objects.\n",
        "\n",
        "class Books:\n",
        "\n",
        "  genre = 'non-fiction'\n",
        "  def __init__(self, price, book_name, author):  \n",
        "   \n",
        "    self.price = price  \n",
        "    self.book_name = book_name\n",
        "    self.author = author \n",
        "  \n",
        "  def prologue(self):\n",
        "    print(\"I am the prologue of the book {}\".format(self.book_name))  # notice here we are using self.book_name because it is used from the previous attributes \n",
        "  \n",
        "  def acknowledgement(self, number):\n",
        "    print(\"I am the prologue of the book {} and number is {}\".format(self.book_name, number)) # while number is not used with self because it is user define value\n"
      ],
      "metadata": {
        "id": "oNUpHbdpXbq-"
      },
      "execution_count": null,
      "outputs": []
    },
    {
      "cell_type": "code",
      "source": [
        "mybook = Books(price=4000, book_name = 'Human Compatible', author = 'Stuart J. Russell')"
      ],
      "metadata": {
        "id": "qHTm6pYrZuyJ"
      },
      "execution_count": null,
      "outputs": []
    },
    {
      "cell_type": "code",
      "source": [
        "mybook.prologue()"
      ],
      "metadata": {
        "colab": {
          "base_uri": "https://localhost:8080/"
        },
        "id": "SEfrgtZsbI8Q",
        "outputId": "b88bf692-9ae3-4a2f-a1e1-f184d7af337b"
      },
      "execution_count": null,
      "outputs": [
        {
          "output_type": "stream",
          "name": "stdout",
          "text": [
            "I am the prologue of the book Human Compatible\n"
          ]
        }
      ]
    },
    {
      "cell_type": "code",
      "source": [
        "mybook.acknowledgement()  # it will give error because it is expecting an argument number"
      ],
      "metadata": {
        "colab": {
          "base_uri": "https://localhost:8080/",
          "height": 166
        },
        "id": "DIBOGPeqZ2Og",
        "outputId": "08e86af5-9aa3-4e97-8ba5-0a0c8b754566"
      },
      "execution_count": null,
      "outputs": [
        {
          "output_type": "error",
          "ename": "TypeError",
          "evalue": "ignored",
          "traceback": [
            "\u001b[0;31m---------------------------------------------------------------------------\u001b[0m",
            "\u001b[0;31mTypeError\u001b[0m                                 Traceback (most recent call last)",
            "\u001b[0;32m<ipython-input-24-5fca1070c4a2>\u001b[0m in \u001b[0;36m<module>\u001b[0;34m\u001b[0m\n\u001b[0;32m----> 1\u001b[0;31m \u001b[0mmybook\u001b[0m\u001b[0;34m.\u001b[0m\u001b[0macknowledgement\u001b[0m\u001b[0;34m(\u001b[0m\u001b[0;34m)\u001b[0m  \u001b[0;31m# it will give error because it is expecting an argument number\u001b[0m\u001b[0;34m\u001b[0m\u001b[0;34m\u001b[0m\u001b[0m\n\u001b[0m",
            "\u001b[0;31mTypeError\u001b[0m: acknowledgement() missing 1 required positional argument: 'number'"
          ]
        }
      ]
    },
    {
      "cell_type": "code",
      "source": [
        "mybook.acknowledgement(10)"
      ],
      "metadata": {
        "colab": {
          "base_uri": "https://localhost:8080/"
        },
        "id": "U3zKT6TqaKYX",
        "outputId": "7b8ad34f-3173-44bc-e073-901317fdd680"
      },
      "execution_count": null,
      "outputs": [
        {
          "output_type": "stream",
          "name": "stdout",
          "text": [
            "I am the prologue of the book Human Compatible and number is 10\n"
          ]
        }
      ]
    },
    {
      "cell_type": "code",
      "source": [
        "# class to print radius, area and circumference of a circle\n",
        "\n",
        "class Circle:\n",
        "    pi = 3.14\n",
        "\n",
        "    # Circle gets instantiated with a radius (default is 1)\n",
        "    def __init__(self, radius=10):\n",
        "        self.radius = radius \n",
        "        self.area = radius * radius * Circle.pi  # you can also use self.pi here but to make it apparent that it is class object attribute we use Class dot pi or whatever it is\n",
        "\n",
        "    # Method for getting Circumference\n",
        "    def circumference(self):\n",
        "        return self.radius * self.pi * 2\n",
        "\n",
        "\n",
        "c = Circle()\n",
        "\n",
        "print('Radius of the circle is: ', c.radius)\n",
        "print('Area of the circle is: ', c.area)\n",
        "print('Circumference of the circle is: ',c.circumference())"
      ],
      "metadata": {
        "colab": {
          "base_uri": "https://localhost:8080/"
        },
        "id": "xZRVOWD_asVd",
        "outputId": "9536420e-1fcf-4319-b8b6-a1019049f346"
      },
      "execution_count": null,
      "outputs": [
        {
          "output_type": "stream",
          "name": "stdout",
          "text": [
            "Radius of the circle is:  10\n",
            "Area of the circle is:  314.0\n",
            "Circumference of the circle is:  62.800000000000004\n"
          ]
        }
      ]
    },
    {
      "cell_type": "code",
      "source": [
        "# you can also enter your own value of the radius \n",
        "d = Circle(100)\n",
        "\n",
        "d.radius, d.area, d.circumference()"
      ],
      "metadata": {
        "colab": {
          "base_uri": "https://localhost:8080/"
        },
        "id": "sKpczy46dTD_",
        "outputId": "756a83bf-e44c-45c7-af30-b8aab794659b"
      },
      "execution_count": null,
      "outputs": [
        {
          "output_type": "execute_result",
          "data": {
            "text/plain": [
              "(100, 31400.0, 628.0)"
            ]
          },
          "metadata": {},
          "execution_count": 30
        }
      ]
    },
    {
      "cell_type": "markdown",
      "source": [
        "###Inheritance \n",
        "Inheritance allows us to define a class that inherits all the methods and properties from another class.\n",
        "\n",
        "Parent class is the class being inherited from, also called base class.\n",
        "\n",
        "Child class is the class that inherits from another class, also called derived class.\n",
        "\n"
      ],
      "metadata": {
        "id": "cdYsBAeYiLZ0"
      }
    },
    {
      "cell_type": "code",
      "source": [
        "# Base class \n",
        "class Person:\n",
        "  def __init__(self, fname, lname):\n",
        "    self.firstname = fname\n",
        "    self.lastname = lname\n",
        "\n",
        "  def printname(self):\n",
        "    print(self.firstname, self.lastname)\n",
        "\n",
        "#Use the Person class to create an object, and then execute the printname method:\n",
        "\n",
        "x = Person(\"John\", \"Doe\")\n",
        "x.printname()"
      ],
      "metadata": {
        "colab": {
          "base_uri": "https://localhost:8080/"
        },
        "id": "qfK6UQuuddtG",
        "outputId": "784f716e-5b17-4f79-b0b7-809f7604f7e9"
      },
      "execution_count": null,
      "outputs": [
        {
          "output_type": "stream",
          "name": "stdout",
          "text": [
            "John Doe\n"
          ]
        }
      ]
    },
    {
      "cell_type": "code",
      "source": [
        "# Child Clas \n",
        "class Student(Person):  #Student class now has the same properties and methods as the Person class.\n",
        "  pass"
      ],
      "metadata": {
        "id": "Ou3yBfFxiqQk"
      },
      "execution_count": null,
      "outputs": []
    },
    {
      "cell_type": "code",
      "source": [
        "x = Student(\"Mike\", \"Olsen\")\n",
        "x.printname()"
      ],
      "metadata": {
        "colab": {
          "base_uri": "https://localhost:8080/"
        },
        "id": "33Rm3Q7nitss",
        "outputId": "9ae920cb-4f82-4135-c261-3bf7f9bed462"
      },
      "execution_count": null,
      "outputs": [
        {
          "output_type": "stream",
          "name": "stdout",
          "text": [
            "Mike Olsen\n"
          ]
        }
      ]
    },
    {
      "cell_type": "code",
      "source": [
        "class Student(Person):\n",
        "  def __init__(self, fname, lname):   #you can have the child class __init__ methods if you want to override the parent class __init__ method. It won't inherit it but\n",
        "    Person.__init__(self, fname, lname)  # to inherit the properties of __init__ method of parent class you can call __init__ like this "
      ],
      "metadata": {
        "id": "81DmjP3Li31O"
      },
      "execution_count": null,
      "outputs": []
    },
    {
      "cell_type": "code",
      "source": [
        "class Student(Person):\n",
        "  def __init__(self, fname, lname, year):\n",
        "    super().__init__(fname, lname)   # Notice here we are using super() function. This allows us to inherit all the methods and properties of parent class. \n",
        "    self.year = year"
      ],
      "metadata": {
        "id": "ew-uVg1QjtjN"
      },
      "execution_count": null,
      "outputs": []
    },
    {
      "cell_type": "code",
      "source": [
        "x = Student(\"Mike\", \"Olsen\", 2019) "
      ],
      "metadata": {
        "id": "alWjKCF2kASs"
      },
      "execution_count": null,
      "outputs": []
    },
    {
      "cell_type": "code",
      "source": [
        "# you can add your own methods to the subclass as well \n",
        "class Student(Person):\n",
        "  def __init__(self, fname, lname, year):\n",
        "    super().__init__(fname, lname)\n",
        "    self.graduationyear = year\n",
        "\n",
        "  def welcome(self):\n",
        "    print(\"Welcome\", self.firstname, self.lastname, \"to the class of\", self.graduationyear)"
      ],
      "metadata": {
        "id": "REsGoSrekSvl"
      },
      "execution_count": null,
      "outputs": []
    },
    {
      "cell_type": "code",
      "source": [
        "x = Student(\"Mike\", \"Olsen\", 2019) "
      ],
      "metadata": {
        "id": "hHSSsUCxkjaV"
      },
      "execution_count": null,
      "outputs": []
    },
    {
      "cell_type": "code",
      "source": [
        "x.welcome()"
      ],
      "metadata": {
        "colab": {
          "base_uri": "https://localhost:8080/"
        },
        "id": "G-IZMhyfko4D",
        "outputId": "a88b8aa5-d9f6-4bb0-99c2-60b82a657153"
      },
      "execution_count": null,
      "outputs": [
        {
          "output_type": "stream",
          "name": "stdout",
          "text": [
            "Welcome Mike Olsen to the class of 2019\n"
          ]
        }
      ]
    },
    {
      "cell_type": "markdown",
      "source": [
        "#### Polymorphism \n",
        "It refers to the way in which different object classes can share the same method name, and those methods can be called from the same place even though a variety of different objects might be passed in"
      ],
      "metadata": {
        "id": "r2qMM5GbkucV"
      }
    },
    {
      "cell_type": "code",
      "source": [
        "class Cat:\n",
        "    def __init__(self, name, breed):\n",
        "        self.name = name\n",
        "        self.breed = breed\n",
        "\n",
        "    def info(self):\n",
        "        print(f\"I am a cat. My name is {self.name}. I am {self.breed}.\")\n",
        "\n",
        "    def make_sound(self):\n",
        "        print(\"Meow\")\n",
        "\n",
        "\n",
        "class Dog:\n",
        "    def __init__(self, name, breed):\n",
        "        self.name = name\n",
        "        self.breed = breed\n",
        "\n",
        "    def info(self):\n",
        "        print(f\"I am a dog. My name is {self.name}. I am {self.breed}.\")\n",
        "\n",
        "    def make_sound(self):\n",
        "        print(\"Bark\")\n"
      ],
      "metadata": {
        "id": "SUZrC_RrkqRG"
      },
      "execution_count": null,
      "outputs": []
    },
    {
      "cell_type": "code",
      "source": [
        "cat1 = Cat(\"Leo\", \"Scottish Fold\")\n",
        "dog1 = Dog(\"Max\", \"Bulldog\")\n",
        "\n",
        "for animal in (cat1, dog1):\n",
        "    animal.make_sound()\n",
        "    animal.info()\n",
        "    animal.make_sound()"
      ],
      "metadata": {
        "colab": {
          "base_uri": "https://localhost:8080/"
        },
        "id": "Swg_nX1Lmp9I",
        "outputId": "deffe4de-4cf7-46ee-bbc2-bc2722347522"
      },
      "execution_count": null,
      "outputs": [
        {
          "output_type": "stream",
          "name": "stdout",
          "text": [
            "Meow\n",
            "I am a cat. My name is Leo. I am Scottish Fold.\n",
            "Meow\n",
            "Bark\n",
            "I am a dog. My name is Max. I am Bulldog.\n",
            "Bark\n"
          ]
        }
      ]
    },
    {
      "cell_type": "markdown",
      "source": [
        "In real world we create an abstract class ( means a clas that won't be instantiated) only its child class will be insantiated. For ex, you created an Animal class and subclasses Cat, Dog and Elephant. So, here Animal is abstract class sharing some basic properities with other subclass but is never insantiated. \n",
        "\n",
        "Real world example of class can be opening different files. A class to open files and its subclasses can be different types of file. This way you can create your own object and methods and reinvent new things in Python 🤤"
      ],
      "metadata": {
        "id": "XDBEp55Xonn-"
      }
    },
    {
      "cell_type": "markdown",
      "source": [
        "#### Special Methods\n",
        "So, there are some methods defined in Python like len etc. If you want to use these special methods in user defined classes then use this. Also called Dunder of magic methods. "
      ],
      "metadata": {
        "id": "dbDIZ_bIqiis"
      }
    },
    {
      "cell_type": "code",
      "source": [
        "class Book:\n",
        "    def __init__(self, title, author, pages):\n",
        "        self.title = title\n",
        "        self.author = author\n",
        "        self.pages = pages"
      ],
      "metadata": {
        "id": "1NncMdXfmu1N"
      },
      "execution_count": null,
      "outputs": []
    },
    {
      "cell_type": "code",
      "source": [
        "mybook = Book(\"Outliers\", \"Malcolm Gladwell\", 304)"
      ],
      "metadata": {
        "id": "3pTVwDhZr3mG"
      },
      "execution_count": null,
      "outputs": []
    },
    {
      "cell_type": "code",
      "source": [
        "print(mybook)  # This will output where my book is stored in the memory. It won't print anything because it is user defined class"
      ],
      "metadata": {
        "colab": {
          "base_uri": "https://localhost:8080/"
        },
        "id": "szQE6bWJsWRU",
        "outputId": "21534391-90fc-4b7a-abca-9c1bfbcbb6f7"
      },
      "execution_count": null,
      "outputs": [
        {
          "output_type": "stream",
          "name": "stdout",
          "text": [
            "<__main__.Book object at 0x7f96e84defa0>\n"
          ]
        }
      ]
    },
    {
      "cell_type": "code",
      "source": [
        "str(mybook)  # str is python method but not avialable to our class"
      ],
      "metadata": {
        "colab": {
          "base_uri": "https://localhost:8080/",
          "height": 35
        },
        "id": "VBQnbSk5sXru",
        "outputId": "731fc267-864e-4454-e39c-450bb7eea1d4"
      },
      "execution_count": null,
      "outputs": [
        {
          "output_type": "execute_result",
          "data": {
            "text/plain": [
              "'<__main__.Book object at 0x7f96e84defa0>'"
            ],
            "application/vnd.google.colaboratory.intrinsic+json": {
              "type": "string"
            }
          },
          "metadata": {},
          "execution_count": 57
        }
      ]
    },
    {
      "cell_type": "code",
      "source": [
        "len(mybook) # in the manner this will return error our object does not have any length"
      ],
      "metadata": {
        "colab": {
          "base_uri": "https://localhost:8080/",
          "height": 166
        },
        "id": "pGdapXLnswD0",
        "outputId": "91231cdc-d307-4386-e0ec-013fe137f566"
      },
      "execution_count": null,
      "outputs": [
        {
          "output_type": "error",
          "ename": "TypeError",
          "evalue": "ignored",
          "traceback": [
            "\u001b[0;31m---------------------------------------------------------------------------\u001b[0m",
            "\u001b[0;31mTypeError\u001b[0m                                 Traceback (most recent call last)",
            "\u001b[0;32m<ipython-input-59-40360a8e23aa>\u001b[0m in \u001b[0;36m<module>\u001b[0;34m\u001b[0m\n\u001b[0;32m----> 1\u001b[0;31m \u001b[0mlen\u001b[0m\u001b[0;34m(\u001b[0m\u001b[0mmybook\u001b[0m\u001b[0;34m)\u001b[0m\u001b[0;34m\u001b[0m\u001b[0;34m\u001b[0m\u001b[0m\n\u001b[0m",
            "\u001b[0;31mTypeError\u001b[0m: object of type 'Book' has no len()"
          ]
        }
      ]
    },
    {
      "cell_type": "code",
      "source": [
        "class Book:\n",
        "    def __init__(self, title, author, pages):\n",
        "        print(\"A book is created\")\n",
        "        self.title = title\n",
        "        self.author = author\n",
        "        self.pages = pages\n",
        "\n",
        "    def __str__(self):\n",
        "        return f\"{self.title} by {self.author}\"\n",
        "\n",
        "    def __len__(self):\n",
        "        return self.pages\n",
        "\n",
        "    def __del__(self):  # del keyword is used to delete our variable from the computer memory so once you use del keyword, you can show users that something is deleted. \n",
        "        print(\"A book is deleted from the computer memory\") "
      ],
      "metadata": {
        "id": "2-yiZ2hctC5V"
      },
      "execution_count": null,
      "outputs": []
    },
    {
      "cell_type": "code",
      "source": [
        "mybook = Book(\"Outliers\", \"Malcolm Gladwell\", 304)"
      ],
      "metadata": {
        "colab": {
          "base_uri": "https://localhost:8080/"
        },
        "id": "j982Jjy8unxF",
        "outputId": "781d6440-03f6-42f9-b6fa-d2c2521adbd4"
      },
      "execution_count": null,
      "outputs": [
        {
          "output_type": "stream",
          "name": "stdout",
          "text": [
            "A book is created\n"
          ]
        }
      ]
    },
    {
      "cell_type": "code",
      "source": [
        "str(mybook)"
      ],
      "metadata": {
        "colab": {
          "base_uri": "https://localhost:8080/",
          "height": 35
        },
        "id": "BoFP430Fur5G",
        "outputId": "c66be2f0-c0fb-49a7-de2c-72962a5069f8"
      },
      "execution_count": null,
      "outputs": [
        {
          "output_type": "execute_result",
          "data": {
            "text/plain": [
              "'Outliers by Malcolm Gladwell'"
            ],
            "application/vnd.google.colaboratory.intrinsic+json": {
              "type": "string"
            }
          },
          "metadata": {},
          "execution_count": 70
        }
      ]
    },
    {
      "cell_type": "code",
      "source": [
        "len(mybook)"
      ],
      "metadata": {
        "colab": {
          "base_uri": "https://localhost:8080/"
        },
        "id": "tNleqDz7uuI9",
        "outputId": "bcd6e2a9-d00e-438e-e946-89ec75561fc9"
      },
      "execution_count": null,
      "outputs": [
        {
          "output_type": "execute_result",
          "data": {
            "text/plain": [
              "304"
            ]
          },
          "metadata": {},
          "execution_count": 66
        }
      ]
    },
    {
      "cell_type": "code",
      "source": [
        "del mybook"
      ],
      "metadata": {
        "colab": {
          "base_uri": "https://localhost:8080/"
        },
        "id": "2ImSknvUu9It",
        "outputId": "5639ebf0-e7d1-41db-8665-f1db547f6a17"
      },
      "execution_count": null,
      "outputs": [
        {
          "output_type": "stream",
          "name": "stdout",
          "text": [
            "A book is deleted from the computer memory\n"
          ]
        }
      ]
    },
    {
      "cell_type": "markdown",
      "source": [
        "Further Read: https://docs.python.org/3/tutorial/classes.html"
      ],
      "metadata": {
        "id": "KlrgOI_uvxuM"
      }
    },
    {
      "cell_type": "markdown",
      "source": [
        "##Modules and packages \n",
        "Modules are python scripts where as packages are collection of modules organized in certain manner when we have so many codes. We are not covering Modules and Packages for now because it is not needed for our Machines Learning in the course. \n",
        "\n",
        "If you want to learn about modules and packages please visit these webistes. \n",
        "1. https://python4astronomers.github.io/installation/packages.html\n",
        "2. https://www.w3schools.com/python/python_modules.asp \n",
        "3. https://docs.python.org/3/tutorial/modules.html#packages\n"
      ],
      "metadata": {
        "id": "X5SeRaF9xPIL"
      }
    },
    {
      "cell_type": "code",
      "source": [
        "# To explore any module you can use dir and help function \n",
        "\n",
        "import math\n",
        "print(dir(math))"
      ],
      "metadata": {
        "colab": {
          "base_uri": "https://localhost:8080/"
        },
        "id": "acHiZ6uivYPM",
        "outputId": "7174338e-ba02-48bb-b622-c2d1303f83a3"
      },
      "execution_count": null,
      "outputs": [
        {
          "output_type": "stream",
          "name": "stdout",
          "text": [
            "['__doc__', '__loader__', '__name__', '__package__', '__spec__', 'acos', 'acosh', 'asin', 'asinh', 'atan', 'atan2', 'atanh', 'ceil', 'comb', 'copysign', 'cos', 'cosh', 'degrees', 'dist', 'e', 'erf', 'erfc', 'exp', 'expm1', 'fabs', 'factorial', 'floor', 'fmod', 'frexp', 'fsum', 'gamma', 'gcd', 'hypot', 'inf', 'isclose', 'isfinite', 'isinf', 'isnan', 'isqrt', 'ldexp', 'lgamma', 'log', 'log10', 'log1p', 'log2', 'modf', 'nan', 'perm', 'pi', 'pow', 'prod', 'radians', 'remainder', 'sin', 'sinh', 'sqrt', 'tan', 'tanh', 'tau', 'trunc']\n"
          ]
        }
      ]
    },
    {
      "cell_type": "code",
      "source": [
        "help(math.log)  # to get help related to any function in the module you can use help"
      ],
      "metadata": {
        "colab": {
          "base_uri": "https://localhost:8080/"
        },
        "id": "Qwaw3bt01Jpc",
        "outputId": "c2bd0371-b6af-46ac-fcb9-9b3945a1ac82"
      },
      "execution_count": null,
      "outputs": [
        {
          "output_type": "stream",
          "name": "stdout",
          "text": [
            "Help on built-in function log in module math:\n",
            "\n",
            "log(...)\n",
            "    log(x, [base=math.e])\n",
            "    Return the logarithm of x to the given base.\n",
            "    \n",
            "    If the base not specified, returns the natural logarithm (base e) of x.\n",
            "\n"
          ]
        }
      ]
    },
    {
      "cell_type": "markdown",
      "source": [
        "## Errors And Exception Handling"
      ],
      "metadata": {
        "id": "zO9UVFqP4ECp"
      }
    },
    {
      "cell_type": "code",
      "source": [
        "# We use exception handling to handle any possibility of error in our code especially when a user is interacting with our code. \n",
        "# we have try, except, else and finally to handle errors. \n",
        "# codes within try are our normal code. \n",
        "# except and else are used to show users some message if errors occur\n",
        "# code with finally will always be run \n",
        "# for ex: here x is not defined so it will raise and error to handle the error we are using except block to show user a message.  \n",
        "\n",
        "try:\n",
        "  print(x)\n",
        "except:\n",
        "  print(\"An exception occurred\")"
      ],
      "metadata": {
        "colab": {
          "base_uri": "https://localhost:8080/"
        },
        "id": "QEN0u3IE1d19",
        "outputId": "85692c7e-eb2f-4f4a-d394-a9735106a2c8"
      },
      "execution_count": null,
      "outputs": [
        {
          "output_type": "stream",
          "name": "stdout",
          "text": [
            "<__main__.Student object at 0x7f96e8551040>\n"
          ]
        }
      ]
    },
    {
      "cell_type": "code",
      "source": [
        "# use the else keyword to define a block of code to be executed if no errors were raised\n",
        "try:\n",
        "  print(\"Hello\")\n",
        "except:\n",
        "  print(\"Something went wrong\")\n",
        "else:\n",
        "  print(\"Nothing went wrong\")"
      ],
      "metadata": {
        "colab": {
          "base_uri": "https://localhost:8080/"
        },
        "id": "LGUr61kKM3e0",
        "outputId": "a89662a3-c5a9-4637-bbbd-f80250f81e76"
      },
      "execution_count": null,
      "outputs": [
        {
          "output_type": "stream",
          "name": "stdout",
          "text": [
            "Hello\n",
            "Nothing went wrong\n"
          ]
        }
      ]
    },
    {
      "cell_type": "code",
      "source": [
        "#finally block, if specified, will be executed regardless if the try block raises an error or not\n",
        "\n",
        "try:\n",
        "  print(x)\n",
        "except:\n",
        "  print(\"Something went wrong\")\n",
        "finally:\n",
        "  print(\"The 'try except' is finished\")"
      ],
      "metadata": {
        "id": "bVx-U-seNiHr"
      },
      "execution_count": null,
      "outputs": []
    },
    {
      "cell_type": "code",
      "source": [
        "# useful to close objects and cleanup resources \n",
        "try:\n",
        "  f = open(\"demofile.txt\")  # second param is missing here 'w', \"r\"\n",
        "  try:\n",
        "    f.write(\"Lorum Ipsum\")\n",
        "  except:\n",
        "    print(\"Something went wrong when writing to the file\")\n",
        "  finally:\n",
        "    f.close()\n",
        "except:\n",
        "  print(\"Something went wrong when opening the file\")"
      ],
      "metadata": {
        "colab": {
          "base_uri": "https://localhost:8080/"
        },
        "id": "KBpzbz0TNsTM",
        "outputId": "9e16a293-c76b-402c-dc33-440cadf761d7"
      },
      "execution_count": null,
      "outputs": [
        {
          "output_type": "stream",
          "name": "stdout",
          "text": [
            "Something went wrong when opening the file\n"
          ]
        }
      ]
    },
    {
      "cell_type": "code",
      "source": [
        "x = input(\"Enter a number\")\n",
        "\n",
        "if type(x) != int: \n",
        "  raise Exception(\"Sorry, only numbers are allowed\")"
      ],
      "metadata": {
        "colab": {
          "base_uri": "https://localhost:8080/",
          "height": 218
        },
        "id": "5qvXNiNnOIDs",
        "outputId": "b4b96e2b-eae9-475f-fdea-43b5e19b99c2"
      },
      "execution_count": null,
      "outputs": [
        {
          "name": "stdout",
          "output_type": "stream",
          "text": [
            "Enter a numberword \n"
          ]
        },
        {
          "output_type": "error",
          "ename": "Exception",
          "evalue": "ignored",
          "traceback": [
            "\u001b[0;31m---------------------------------------------------------------------------\u001b[0m",
            "\u001b[0;31mException\u001b[0m                                 Traceback (most recent call last)",
            "\u001b[0;32m<ipython-input-90-6d3acc71466c>\u001b[0m in \u001b[0;36m<module>\u001b[0;34m\u001b[0m\n\u001b[1;32m      2\u001b[0m \u001b[0;34m\u001b[0m\u001b[0m\n\u001b[1;32m      3\u001b[0m \u001b[0;32mif\u001b[0m \u001b[0mtype\u001b[0m\u001b[0;34m(\u001b[0m\u001b[0mx\u001b[0m\u001b[0;34m)\u001b[0m \u001b[0;34m!=\u001b[0m \u001b[0mint\u001b[0m\u001b[0;34m:\u001b[0m\u001b[0;34m\u001b[0m\u001b[0;34m\u001b[0m\u001b[0m\n\u001b[0;32m----> 4\u001b[0;31m   \u001b[0;32mraise\u001b[0m \u001b[0mException\u001b[0m\u001b[0;34m(\u001b[0m\u001b[0;34m\"Sorry, only numbers are allowed\"\u001b[0m\u001b[0;34m)\u001b[0m\u001b[0;34m\u001b[0m\u001b[0;34m\u001b[0m\u001b[0m\n\u001b[0m",
            "\u001b[0;31mException\u001b[0m: Sorry, only numbers are allowed"
          ]
        }
      ]
    },
    {
      "cell_type": "markdown",
      "source": [
        "## Unit Testing \n",
        "Unit testing is not covered here but it's also important. We will create seperate videos on topics that are not covered here "
      ],
      "metadata": {
        "id": "7f3aJvfqQVKw"
      }
    },
    {
      "cell_type": "markdown",
      "source": [
        "## Decorators\n",
        "\n",
        "decorator is nothing but a function that modifies another function. Everything is an object in Python so is function. So a function can be used as an argument within another function. There can be functions within functions. "
      ],
      "metadata": {
        "id": "_snjh8moQgfx"
      }
    },
    {
      "cell_type": "code",
      "source": [
        "def divide(a, b):\n",
        "    return a/b"
      ],
      "metadata": {
        "id": "yu_V9ovIOeMj"
      },
      "execution_count": null,
      "outputs": []
    },
    {
      "cell_type": "code",
      "source": [
        "def smart_divide(func):\n",
        "    def inner(a, b):\n",
        "        print(\"I am going to divide\", a, \"and\", b)\n",
        "        if b == 0:\n",
        "            print(\"Whoops! cannot divide\")\n",
        "            return\n",
        "\n",
        "        return func(a, b)\n",
        "    return inner\n",
        "\n",
        "@smart_divide  # this is equivalent to calling divide = smart_divide(divide)\n",
        "def divide(a, b):\n",
        "    print(a/b)"
      ],
      "metadata": {
        "id": "BaC887upXup0"
      },
      "execution_count": null,
      "outputs": []
    },
    {
      "cell_type": "code",
      "source": [
        "divide(2,5)"
      ],
      "metadata": {
        "colab": {
          "base_uri": "https://localhost:8080/"
        },
        "id": "zHz8XKLKXz8g",
        "outputId": "51281c21-0f05-4b45-d0d3-9210a8b29def"
      },
      "execution_count": null,
      "outputs": [
        {
          "output_type": "stream",
          "name": "stdout",
          "text": [
            "I am going to divide 2 and 5\n",
            "0.4\n"
          ]
        }
      ]
    },
    {
      "cell_type": "markdown",
      "source": [
        "Further Read On Decorators: https://www.programiz.com/python-programming/decorator"
      ],
      "metadata": {
        "id": "8-gTNlzzYxuP"
      }
    },
    {
      "cell_type": "markdown",
      "source": [
        "## generators \n",
        "When you are using yield with a function it will become a genertor. It is used in code to save some memory. \n",
        "https://stackoverflow.com/questions/1756096/understanding-generators-in-python \n",
        "\n",
        "https://www.programiz.com/python-programming/generator"
      ],
      "metadata": {
        "id": "gnTqcr03dtw7"
      }
    },
    {
      "cell_type": "code",
      "source": [
        "def numcubes(n):\n",
        "    for num in range(n):\n",
        "        yield num**3"
      ],
      "metadata": {
        "id": "mjJdODsOY1Ac"
      },
      "execution_count": null,
      "outputs": []
    },
    {
      "cell_type": "code",
      "source": [
        "for x in numcubes(10):\n",
        "    print(x)             # we use generators where we don’t want to allocate the memory for all of the results at the same time like lists etc. "
      ],
      "metadata": {
        "colab": {
          "base_uri": "https://localhost:8080/"
        },
        "id": "Tb_iiIMkhpLH",
        "outputId": "5fc3d8da-bcb5-40b2-cfef-349a0dd62cbf"
      },
      "execution_count": null,
      "outputs": [
        {
          "output_type": "stream",
          "name": "stdout",
          "text": [
            "0\n",
            "1\n",
            "8\n",
            "27\n",
            "64\n",
            "125\n",
            "216\n",
            "343\n",
            "512\n",
            "729\n"
          ]
        }
      ]
    },
    {
      "cell_type": "code",
      "source": [
        "s = 'Python'\n",
        "\n",
        "#Iterate over string\n",
        "for letters in s:\n",
        "    print(letters)"
      ],
      "metadata": {
        "colab": {
          "base_uri": "https://localhost:8080/"
        },
        "id": "piOYO-IshrGy",
        "outputId": "77c65f3d-4f1a-43aa-86aa-79c69609e63f"
      },
      "execution_count": null,
      "outputs": [
        {
          "output_type": "stream",
          "name": "stdout",
          "text": [
            "P\n",
            "y\n",
            "t\n",
            "h\n",
            "o\n",
            "n\n"
          ]
        }
      ]
    },
    {
      "cell_type": "code",
      "source": [
        "next(s)  # next() function allows us to access the next element in a sequence "
      ],
      "metadata": {
        "colab": {
          "base_uri": "https://localhost:8080/",
          "height": 166
        },
        "id": "NrLhBLlTiOgZ",
        "outputId": "beaa08a6-c65e-428d-913e-936b7a9dca3c"
      },
      "execution_count": null,
      "outputs": [
        {
          "output_type": "error",
          "ename": "TypeError",
          "evalue": "ignored",
          "traceback": [
            "\u001b[0;31m---------------------------------------------------------------------------\u001b[0m",
            "\u001b[0;31mTypeError\u001b[0m                                 Traceback (most recent call last)",
            "\u001b[0;32m<ipython-input-97-61c30b5fe1d5>\u001b[0m in \u001b[0;36m<module>\u001b[0;34m\u001b[0m\n\u001b[0;32m----> 1\u001b[0;31m \u001b[0mnext\u001b[0m\u001b[0;34m(\u001b[0m\u001b[0ms\u001b[0m\u001b[0;34m)\u001b[0m\u001b[0;34m\u001b[0m\u001b[0;34m\u001b[0m\u001b[0m\n\u001b[0m",
            "\u001b[0;31mTypeError\u001b[0m: 'str' object is not an iterator"
          ]
        }
      ]
    },
    {
      "cell_type": "code",
      "source": [
        "# string object supports iteration, but we can not directly iterate over it as we could with a generator function as you can see above. So we can do that by iter() function"
      ],
      "metadata": {
        "id": "s42qUGxPiXuy"
      },
      "execution_count": null,
      "outputs": []
    },
    {
      "cell_type": "code",
      "source": [
        "st = iter(s)"
      ],
      "metadata": {
        "id": "2huwGQyAin1C"
      },
      "execution_count": null,
      "outputs": []
    },
    {
      "cell_type": "code",
      "source": [
        "next(st)"
      ],
      "metadata": {
        "colab": {
          "base_uri": "https://localhost:8080/",
          "height": 35
        },
        "id": "wDdQI6orixLh",
        "outputId": "a98d7c7e-cf64-4f50-de3b-70831e0bf477"
      },
      "execution_count": null,
      "outputs": [
        {
          "output_type": "execute_result",
          "data": {
            "text/plain": [
              "'P'"
            ],
            "application/vnd.google.colaboratory.intrinsic+json": {
              "type": "string"
            }
          },
          "metadata": {},
          "execution_count": 99
        }
      ]
    },
    {
      "cell_type": "code",
      "source": [
        "next(st)"
      ],
      "metadata": {
        "colab": {
          "base_uri": "https://localhost:8080/",
          "height": 35
        },
        "id": "h3T34h7Di0Gx",
        "outputId": "5876713b-7936-44d1-fed0-eb9bc5624b16"
      },
      "execution_count": null,
      "outputs": [
        {
          "output_type": "execute_result",
          "data": {
            "text/plain": [
              "'y'"
            ],
            "application/vnd.google.colaboratory.intrinsic+json": {
              "type": "string"
            }
          },
          "metadata": {},
          "execution_count": 100
        }
      ]
    },
    {
      "cell_type": "code",
      "source": [
        "next(st)"
      ],
      "metadata": {
        "colab": {
          "base_uri": "https://localhost:8080/",
          "height": 35
        },
        "id": "p_4IxvZXi1uJ",
        "outputId": "607f26f4-80d1-42b6-ac59-1bb7af1f958b"
      },
      "execution_count": null,
      "outputs": [
        {
          "output_type": "execute_result",
          "data": {
            "text/plain": [
              "'t'"
            ],
            "application/vnd.google.colaboratory.intrinsic+json": {
              "type": "string"
            }
          },
          "metadata": {},
          "execution_count": 101
        }
      ]
    },
    {
      "cell_type": "markdown",
      "source": [
        "## Do check out Python Collection Module, Datetime module, Maths and Random Module on your own to get some understanding. \n",
        "\n",
        "https://www.w3schools.com/python/gloss_python_module_built-in.asp\n",
        "\n",
        "https://www.programiz.com/python-programming/modules"
      ],
      "metadata": {
        "id": "XV7koYi7kKR_"
      }
    },
    {
      "cell_type": "markdown",
      "source": [
        "## Practice Python  \n",
        "Code for like 2- 3 weeks to master your basic concepts related to Python \n",
        "\n",
        "1. https://www.w3resource.com/python-exercises/ \n",
        "2. https://pynative.com/python-exercises-with-solutions/\n",
        "3. https://www.practicepython.org/ \n",
        "4. https://www.dataquest.io/blog/python-practice/ \n",
        "5. https://www.geeksforgeeks.org/python-exercises-practice-questions-and-solutions/\n",
        "6. https://www.w3schools.com/python/python_exercises.asp \n",
        "7. https://www.udemy.com/course/python-video-workbook/"
      ],
      "metadata": {
        "id": "qeA3Pa_nrKc6"
      }
    }
  ]
}
